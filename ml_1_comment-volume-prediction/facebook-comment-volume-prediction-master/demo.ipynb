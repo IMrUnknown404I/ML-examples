{
 "metadata": {
  "language_info": {
   "codemirror_mode": {
    "name": "ipython",
    "version": 3
   },
   "file_extension": ".py",
   "mimetype": "text/x-python",
   "name": "python",
   "nbconvert_exporter": "python",
   "pygments_lexer": "ipython3",
   "version": "3.7.4-final"
  },
  "orig_nbformat": 2,
  "kernelspec": {
   "name": "Python 3.7.4 64-bit",
   "display_name": "Python 3.7.4 64-bit",
   "metadata": {
    "interpreter": {
     "hash": "412c0c9fb9b029b798d2848a656eafe5a1bebc35060014b97bbb5f5a1e0c3e0c"
    }
   }
  }
 },
 "nbformat": 4,
 "nbformat_minor": 2,
 "cells": [
  {
   "source": [
    "Введём данные, начнём с тренировочной выборки:"
   ],
   "cell_type": "markdown",
   "metadata": {}
  },
  {
   "cell_type": "code",
   "execution_count": 1,
   "metadata": {},
   "outputs": [
    {
     "output_type": "stream",
     "name": "stdout",
     "text": [
      "Wall time: 1.22 s\n"
     ]
    }
   ],
   "source": [
    "%%time\n",
    "import pandas as pd \n",
    "from sklearn.preprocessing import StandardScaler\n",
    "\n",
    "syspathTraining = \"D:/Python_all/ml_test/facebook-comment-volume-prediction-master/dataset/Training/\"\n",
    "fileTraining = ['Features_Variant_1.csv', \n",
    "                'Features_Variant_2.csv', \n",
    "                'Features_Variant_3.csv', \n",
    "                'Features_Variant_4.csv', \n",
    "                'Features_Variant_5.csv']\n",
    "            \n",
    "scaner_train = StandardScaler()\n",
    "scaner_test = StandardScaler()"
   ]
  },
  {
   "cell_type": "code",
   "execution_count": 2,
   "metadata": {},
   "outputs": [
    {
     "output_type": "stream",
     "name": "stdout",
     "text": [
      "Wall time: 3.14 s\n",
      "Wall time: 10 s\n"
     ]
    }
   ],
   "source": [
    "%%time\n",
    "import numpy as np\n",
    "from sklearn.preprocessing import MinMaxScaler\n",
    "\n",
    "\"\"\"\n",
    "    Сначала считываем, раскидываем по переменным,\n",
    "                После нормируем \n",
    "\"\"\"\n",
    "# minmaxScaler = MinMaxScaler()\n",
    "%time fullTraining = pd.concat(pd.read_csv(syspathTraining + file, index_col=False, header=None) for file in fileTraining)\n",
    "# fullTraining = pd.DataFrame(minmaxScaler.fit_transform(fullTraining))\n",
    "# fullTraining = pd.DataFrame(scaner_train.fit_transform(fullTraining))\n",
    "\n",
    "X_train_all = fullTraining.iloc[:,:-1]\n",
    "y_train_all = fullTraining.iloc[:,-1:]\n",
    "\n",
    "# X_train_all = pd.DataFrame(minmaxScaler.fit_transform(X_train_all))\n",
    "\n",
    "X_train_list = []\n",
    "y_train_list = []\n",
    "\n",
    "\"\"\"\n",
    "    Теперь заполним списки каждым из 5 вариантов \n",
    "      + ещё 1, он же общий из всех предыдущих\n",
    "\"\"\"\n",
    "\n",
    "for i in range(5):\n",
    "    X_train_list.append(pd.read_csv(syspathTraining + fileTraining[i], index_col=False, header=None).iloc[:,:-1])\n",
    "    # X_train_list.append(pd.DataFrame(minmaxScaler.fit_transform(pd.read_csv(syspathTraining + fileTraining[i], index_col=False, header=None).iloc[:,:-1])))\n",
    "    y_train_list.append(pd.read_csv(syspathTraining + fileTraining[i], index_col=False, header=None).iloc[:,-1:])\n",
    "\n",
    "#     scaner_train.fit(X_train_list[i])\n",
    "#     X_train_list[i] = pd.DataFrame(scaner_train.transform(X_train_list[i]))\n",
    "\n",
    "# scaner_train.fit(X_train_all)\n",
    "# X_train_all = pd.DataFrame(scaner_train.transform(X_train_all))\n",
    "\n",
    "X_train_list.append(X_train_all)\n",
    "y_train_list.append(y_train_all)"
   ]
  },
  {
   "cell_type": "code",
   "execution_count": 9,
   "metadata": {},
   "outputs": [
    {
     "output_type": "error",
     "ename": "ModuleNotFoundError",
     "evalue": "No module named 'seaborn'",
     "traceback": [
      "\u001b[1;31m---------------------------------------------------------------------------\u001b[0m",
      "\u001b[1;31mModuleNotFoundError\u001b[0m                       Traceback (most recent call last)",
      "\u001b[1;32m<timed exec>\u001b[0m in \u001b[0;36m<module>\u001b[1;34m\u001b[0m\n",
      "\u001b[1;31mModuleNotFoundError\u001b[0m: No module named 'seaborn'"
     ]
    }
   ],
   "source": [
    "%%time\n",
    "import matplotlib.pyplot as plt\n",
    "# import seaborn as sns\n",
    "\n",
    "fullTraining.hist(figsize=(20,20))\n",
    "plt.show()\n",
    "\n",
    "print(end='\\n\\n\\n')\n",
    "X_train_all.isnull().sum()\n",
    "df.isnull().any().any()\n",
    "X_train_all.iloc[:,:].describe()\n",
    "print(end='\\n\\n\\n')\n",
    "\n",
    "\n",
    "# def correlation_heatmap(df):\n",
    "#     _,ax=plt.subplots(figsize=(20,20))\n",
    "#     colormap=sns.diverging_palette(220,10,as_cmap=True)\n",
    "#     sns.heatmap(df.corr(),annot=True,cmap=colormap)\n",
    "# correlation_heatmap(df)"
   ]
  },
  {
   "source": [
    "Теперь для тестов:"
   ],
   "cell_type": "markdown",
   "metadata": {}
  },
  {
   "cell_type": "code",
   "execution_count": 4,
   "metadata": {},
   "outputs": [
    {
     "output_type": "stream",
     "name": "stdout",
     "text": [
      "Wall time: 173 ms\n"
     ]
    }
   ],
   "source": [
    "%%time\n",
    "sysPathTesting = r\"./dataset/Testing/TestSet/\"\n",
    "fileTesting = ['Test_Case_1.csv', 'Test_Case_2.csv', 'Test_Case_3.csv',\n",
    "              'Test_Case_4.csv', 'Test_Case_5.csv',  \n",
    "              'Test_Case_6.csv', 'Test_Case_7.csv', 'Test_Case_8.csv', \n",
    "              'Test_Case_9.csv', 'Test_Case_10.csv']\n",
    "\n",
    "test = pd.concat(pd.read_csv(sysPathTesting + f, index_col=False, header=None) for f in fileTesting)\n",
    "# test = pd.read_csv(sysPathTesting + fileTesting[9], index_col=False, header=None)\n",
    "\n",
    "# test = pd.DataFrame(minmaxScaler.fit_transform(test))\n",
    "# test = pd.DataFrame(scaner_test.fit_transform(test))\n",
    "\n",
    "X_test = test.iloc[:,:-1]\n",
    "# X_test = pd.DataFrame(minmaxScaler.fit_transform(X_test))\n",
    "y_test = test.iloc[:,-1:]"
   ]
  },
  {
   "cell_type": "code",
   "execution_count": 5,
   "metadata": {},
   "outputs": [
    {
     "output_type": "stream",
     "name": "stdout",
     "text": [
      "0     1.313640e+06\n1     4.673204e+03\n2     4.476571e+04\n3     2.424719e+01\n4     6.474844e-01\n5     4.776119e+02\n6     5.586219e+01\n7     3.535072e+01\n8     6.797049e+01\n9     9.370402e-02\n10    3.606453e+02\n11    2.183232e+01\n12    7.191323e+00\n13    4.065582e+01\n14    4.782578e-03\n15    3.560969e+02\n16    1.997520e+01\n17    4.891739e+00\n18    4.038120e+01\n19    6.378695e-01\n20    4.321076e+02\n21    5.271284e+01\n22    3.371386e+01\n23    6.339995e+01\n24   -3.036919e+02\n25    3.550708e+02\n26    1.857127e+00\n27   -2.154098e+00\n28    5.657576e+01\n29    5.586219e+01\n30    2.183232e+01\n31    1.997520e+01\n32    5.271284e+01\n33    1.857127e+00\n34    3.545525e+01\n35    1.636533e+02\n36    1.173018e+02\n37    0.000000e+00\n38    2.377686e+01\n39    1.223729e-01\n40    1.432683e-01\n41    1.496550e-01\n42    1.573042e-01\n43    1.442238e-01\n44    1.462361e-01\n45    1.369396e-01\n46    1.400550e-01\n47    1.338707e-01\n48    1.377343e-01\n49    1.466906e-01\n50    1.547594e-01\n51    1.446485e-01\n52    1.422415e-01\ndtype: float64\n\n0     6.803585e+06\n1     2.057582e+04\n2     1.109773e+05\n3     1.994139e+01\n4     1.310970e+01\n5     5.315683e+02\n6     8.649600e+01\n7     6.859606e+01\n8     8.257822e+01\n9     4.429349e+00\n10    4.270604e+02\n11    3.587749e+01\n12    1.972136e+01\n13    5.212118e+01\n14    7.671876e-01\n15    4.169746e+02\n16    3.129572e+01\n17    1.315556e+01\n18    5.227791e+01\n19    1.284075e+01\n20    4.885004e+02\n21    8.098685e+01\n22    6.479563e+01\n23    7.699930e+01\n24    3.687727e+02\n25    4.257278e+02\n26    1.198659e+01\n27    1.176823e+01\n28    7.441190e+01\n29    1.375526e+02\n30    7.521111e+01\n31    7.309615e+01\n32    1.284808e+02\n33    9.424241e+01\n34    2.097407e+01\n35    3.757820e+02\n36    9.513046e+02\n37    0.000000e+00\n38    1.858326e+00\n39    3.277163e-01\n40    3.503466e-01\n41    3.567333e-01\n42    3.640876e-01\n43    3.513168e-01\n44    3.533430e-01\n45    3.437839e-01\n46    3.470444e-01\n47    3.405136e-01\n48    3.446211e-01\n49    3.537975e-01\n50    3.616755e-01\n51    3.517464e-01\n52    3.492979e-01\ndtype: float64\n\n53    7.163027\ndtype: float64\n\n53    34.462254\ndtype: float64\n"
     ]
    }
   ],
   "source": [
    "print(X_train_all.mean(axis=0), X_train_all.std(axis=0), y_train_all.mean(axis=0), y_train_all.std(axis=0), sep='\\n\\n')"
   ]
  },
  {
   "source": [
    "Теперь перейдём к программированию непосредственно линейной регрессии"
   ],
   "cell_type": "markdown",
   "metadata": {}
  },
  {
   "cell_type": "code",
   "execution_count": 6,
   "metadata": {},
   "outputs": [
    {
     "output_type": "stream",
     "name": "stdout",
     "text": [
      "Variant 1:  95.904691429859\n",
      "Variant 2:  95.88584774691435\n",
      "Variant 3:  102.76541950202672\n",
      "Variant 4:  95.9940452785031\n",
      "Variant 5:  97.3293970658138\n",
      "Variant overall:  94.97127455356156\n",
      "Wall time: 4.5 s\n"
     ]
    }
   ],
   "source": [
    "%%time\n",
    "from sklearn.linear_model import LinearRegression\n",
    "from sklearn.metrics import mean_squared_error\n",
    "from math import sqrt\n",
    "\n",
    "regressor = LinearRegression()\n",
    "for i in range(6):\n",
    "    regressor = LinearRegression().fit(X_train_list[i], y_train_list[i])\n",
    "    \n",
    "    rms = sqrt(mean_squared_error(y_test, regressor.predict(X_test)))\n",
    "    if i == 5:\n",
    "        print(\"Variant overall: \", rms)\n",
    "    else:\n",
    "        print(\"Variant {0}: \".format(i + 1), rms)\n",
    "\n"
   ]
  },
  {
   "cell_type": "code",
   "execution_count": 7,
   "metadata": {},
   "outputs": [
    {
     "output_type": "stream",
     "name": "stdout",
     "text": [
      "0.33619451397481437\n0.17733143488887926\n\n[-4.30327665]\n[[-1.87006037e-09 -4.79274633e-06 -1.04702656e-05 -1.08877843e-03\n  -1.16630206e-01  3.12521802e-03  8.79348683e-01 -2.77302412e-02\n  -3.40582101e-02  1.53970184e-01  1.80889297e-04  1.58645480e-01\n   6.69948320e-02 -9.10275711e-02  7.15115005e-02  8.70409392e-04\n   1.04651723e-01 -2.26962881e-02 -3.90167797e-02  3.49521637e-02\n  -1.93340356e-03 -1.00491132e+00  4.19220158e-02  6.32143944e-02\n   2.05307426e-03 -1.77096833e-03  5.39937572e-02 -4.06565192e-02\n   9.43627817e-02 -2.41855872e-02  1.32632344e-01  5.47858964e-02\n   8.24950878e-03  7.78464476e-02 -1.85027025e-01 -4.28604025e-06\n   2.35223113e-03  6.10622664e-16  4.56404970e-01 -3.58558721e-01\n  -3.59190641e-01  4.87929268e-01  8.39200083e-01 -1.91705436e-02\n  -1.07457617e-01 -4.82751829e-01  2.41937979e-01  5.07181096e-01\n   3.35780960e-01  4.87129701e-01 -9.72131472e-01 -3.94446361e-01\n  -2.05451904e-01]]\n\n"
     ]
    },
    {
     "output_type": "execute_result",
     "data": {
      "text/plain": [
       "             0   1       2   3    4       5           6      7           8   \\\n",
       "0        634995   0     463   1  0.0   806.0   11.291045    1.0   70.495138   \n",
       "1        634995   0     463   1  0.0   806.0   11.291045    1.0   70.495138   \n",
       "2        634995   0     463   1  0.0   806.0   11.291045    1.0   70.495138   \n",
       "3        634995   0     463   1  0.0   806.0   11.291045    1.0   70.495138   \n",
       "4        634995   0     463   1  0.0   806.0   11.291045    1.0   70.495138   \n",
       "...         ...  ..     ...  ..  ...     ...         ...    ...         ...   \n",
       "199025  7170111  70  497000   9  0.0  2164.0  466.975207  244.0  497.966169   \n",
       "199026  7170111  70  497000   9  0.0  2164.0  466.975207  244.0  497.966169   \n",
       "199027  7170111  70  497000   9  0.0  2164.0  466.975207  244.0  497.966169   \n",
       "199028  7170111  70  497000   9  0.0  2164.0  466.975207  244.0  497.966169   \n",
       "199029  7170111  70  497000   9  0.0  2164.0  466.975207  244.0  497.966169   \n",
       "\n",
       "         9   ...  43  44  45  46  47  48  49  50  51  52  \n",
       "0       0.0  ...   0   0   0   0   0   0   0   0   0   1  \n",
       "1       0.0  ...   1   0   0   0   0   0   0   0   1   0  \n",
       "2       0.0  ...   0   1   0   0   0   0   0   0   0   1  \n",
       "3       0.0  ...   0   1   0   0   1   0   0   0   0   0  \n",
       "4       0.0  ...   0   0   0   0   0   0   1   0   0   0  \n",
       "...     ...  ...  ..  ..  ..  ..  ..  ..  ..  ..  ..  ..  \n",
       "199025  0.0  ...   0   0   0   0   0   0   1   0   0   0  \n",
       "199026  0.0  ...   0   0   0   0   0   0   1   0   0   0  \n",
       "199027  0.0  ...   0   0   0   0   0   0   1   0   0   0  \n",
       "199028  0.0  ...   0   0   0   0   0   0   0   1   0   0  \n",
       "199029  0.0  ...   0   0   0   0   0   0   0   0   1   0  \n",
       "\n",
       "[602813 rows x 53 columns]"
      ],
      "text/html": "<div>\n<style scoped>\n    .dataframe tbody tr th:only-of-type {\n        vertical-align: middle;\n    }\n\n    .dataframe tbody tr th {\n        vertical-align: top;\n    }\n\n    .dataframe thead th {\n        text-align: right;\n    }\n</style>\n<table border=\"1\" class=\"dataframe\">\n  <thead>\n    <tr style=\"text-align: right;\">\n      <th></th>\n      <th>0</th>\n      <th>1</th>\n      <th>2</th>\n      <th>3</th>\n      <th>4</th>\n      <th>5</th>\n      <th>6</th>\n      <th>7</th>\n      <th>8</th>\n      <th>9</th>\n      <th>...</th>\n      <th>43</th>\n      <th>44</th>\n      <th>45</th>\n      <th>46</th>\n      <th>47</th>\n      <th>48</th>\n      <th>49</th>\n      <th>50</th>\n      <th>51</th>\n      <th>52</th>\n    </tr>\n  </thead>\n  <tbody>\n    <tr>\n      <th>0</th>\n      <td>634995</td>\n      <td>0</td>\n      <td>463</td>\n      <td>1</td>\n      <td>0.0</td>\n      <td>806.0</td>\n      <td>11.291045</td>\n      <td>1.0</td>\n      <td>70.495138</td>\n      <td>0.0</td>\n      <td>...</td>\n      <td>0</td>\n      <td>0</td>\n      <td>0</td>\n      <td>0</td>\n      <td>0</td>\n      <td>0</td>\n      <td>0</td>\n      <td>0</td>\n      <td>0</td>\n      <td>1</td>\n    </tr>\n    <tr>\n      <th>1</th>\n      <td>634995</td>\n      <td>0</td>\n      <td>463</td>\n      <td>1</td>\n      <td>0.0</td>\n      <td>806.0</td>\n      <td>11.291045</td>\n      <td>1.0</td>\n      <td>70.495138</td>\n      <td>0.0</td>\n      <td>...</td>\n      <td>1</td>\n      <td>0</td>\n      <td>0</td>\n      <td>0</td>\n      <td>0</td>\n      <td>0</td>\n      <td>0</td>\n      <td>0</td>\n      <td>1</td>\n      <td>0</td>\n    </tr>\n    <tr>\n      <th>2</th>\n      <td>634995</td>\n      <td>0</td>\n      <td>463</td>\n      <td>1</td>\n      <td>0.0</td>\n      <td>806.0</td>\n      <td>11.291045</td>\n      <td>1.0</td>\n      <td>70.495138</td>\n      <td>0.0</td>\n      <td>...</td>\n      <td>0</td>\n      <td>1</td>\n      <td>0</td>\n      <td>0</td>\n      <td>0</td>\n      <td>0</td>\n      <td>0</td>\n      <td>0</td>\n      <td>0</td>\n      <td>1</td>\n    </tr>\n    <tr>\n      <th>3</th>\n      <td>634995</td>\n      <td>0</td>\n      <td>463</td>\n      <td>1</td>\n      <td>0.0</td>\n      <td>806.0</td>\n      <td>11.291045</td>\n      <td>1.0</td>\n      <td>70.495138</td>\n      <td>0.0</td>\n      <td>...</td>\n      <td>0</td>\n      <td>1</td>\n      <td>0</td>\n      <td>0</td>\n      <td>1</td>\n      <td>0</td>\n      <td>0</td>\n      <td>0</td>\n      <td>0</td>\n      <td>0</td>\n    </tr>\n    <tr>\n      <th>4</th>\n      <td>634995</td>\n      <td>0</td>\n      <td>463</td>\n      <td>1</td>\n      <td>0.0</td>\n      <td>806.0</td>\n      <td>11.291045</td>\n      <td>1.0</td>\n      <td>70.495138</td>\n      <td>0.0</td>\n      <td>...</td>\n      <td>0</td>\n      <td>0</td>\n      <td>0</td>\n      <td>0</td>\n      <td>0</td>\n      <td>0</td>\n      <td>1</td>\n      <td>0</td>\n      <td>0</td>\n      <td>0</td>\n    </tr>\n    <tr>\n      <th>...</th>\n      <td>...</td>\n      <td>...</td>\n      <td>...</td>\n      <td>...</td>\n      <td>...</td>\n      <td>...</td>\n      <td>...</td>\n      <td>...</td>\n      <td>...</td>\n      <td>...</td>\n      <td>...</td>\n      <td>...</td>\n      <td>...</td>\n      <td>...</td>\n      <td>...</td>\n      <td>...</td>\n      <td>...</td>\n      <td>...</td>\n      <td>...</td>\n      <td>...</td>\n      <td>...</td>\n    </tr>\n    <tr>\n      <th>199025</th>\n      <td>7170111</td>\n      <td>70</td>\n      <td>497000</td>\n      <td>9</td>\n      <td>0.0</td>\n      <td>2164.0</td>\n      <td>466.975207</td>\n      <td>244.0</td>\n      <td>497.966169</td>\n      <td>0.0</td>\n      <td>...</td>\n      <td>0</td>\n      <td>0</td>\n      <td>0</td>\n      <td>0</td>\n      <td>0</td>\n      <td>0</td>\n      <td>1</td>\n      <td>0</td>\n      <td>0</td>\n      <td>0</td>\n    </tr>\n    <tr>\n      <th>199026</th>\n      <td>7170111</td>\n      <td>70</td>\n      <td>497000</td>\n      <td>9</td>\n      <td>0.0</td>\n      <td>2164.0</td>\n      <td>466.975207</td>\n      <td>244.0</td>\n      <td>497.966169</td>\n      <td>0.0</td>\n      <td>...</td>\n      <td>0</td>\n      <td>0</td>\n      <td>0</td>\n      <td>0</td>\n      <td>0</td>\n      <td>0</td>\n      <td>1</td>\n      <td>0</td>\n      <td>0</td>\n      <td>0</td>\n    </tr>\n    <tr>\n      <th>199027</th>\n      <td>7170111</td>\n      <td>70</td>\n      <td>497000</td>\n      <td>9</td>\n      <td>0.0</td>\n      <td>2164.0</td>\n      <td>466.975207</td>\n      <td>244.0</td>\n      <td>497.966169</td>\n      <td>0.0</td>\n      <td>...</td>\n      <td>0</td>\n      <td>0</td>\n      <td>0</td>\n      <td>0</td>\n      <td>0</td>\n      <td>0</td>\n      <td>1</td>\n      <td>0</td>\n      <td>0</td>\n      <td>0</td>\n    </tr>\n    <tr>\n      <th>199028</th>\n      <td>7170111</td>\n      <td>70</td>\n      <td>497000</td>\n      <td>9</td>\n      <td>0.0</td>\n      <td>2164.0</td>\n      <td>466.975207</td>\n      <td>244.0</td>\n      <td>497.966169</td>\n      <td>0.0</td>\n      <td>...</td>\n      <td>0</td>\n      <td>0</td>\n      <td>0</td>\n      <td>0</td>\n      <td>0</td>\n      <td>0</td>\n      <td>0</td>\n      <td>1</td>\n      <td>0</td>\n      <td>0</td>\n    </tr>\n    <tr>\n      <th>199029</th>\n      <td>7170111</td>\n      <td>70</td>\n      <td>497000</td>\n      <td>9</td>\n      <td>0.0</td>\n      <td>2164.0</td>\n      <td>466.975207</td>\n      <td>244.0</td>\n      <td>497.966169</td>\n      <td>0.0</td>\n      <td>...</td>\n      <td>0</td>\n      <td>0</td>\n      <td>0</td>\n      <td>0</td>\n      <td>0</td>\n      <td>0</td>\n      <td>0</td>\n      <td>0</td>\n      <td>1</td>\n      <td>0</td>\n    </tr>\n  </tbody>\n</table>\n<p>602813 rows × 53 columns</p>\n</div>"
     },
     "metadata": {},
     "execution_count": 7
    }
   ],
   "source": [
    "print(regressor.score(X_train_all, y_train_all))\n",
    "print(regressor.score(X_test, y_test),end=\"\\n\\n\")\n",
    "\n",
    "print(regressor.intercept_)\n",
    "print(regressor.coef_,end=\"\\n\\n\")\n",
    "\n",
    "# print(X_train_list[5])\n",
    "# print(y_train_list[5])\n",
    "X_train_all"
   ]
  },
  {
   "cell_type": "code",
   "execution_count": 8,
   "metadata": {},
   "outputs": [
    {
     "output_type": "execute_result",
     "data": {
      "text/plain": [
       "     Actual  Predicted\n",
       "0        35  12.207413\n",
       "1         2   7.920135\n",
       "2         0   0.065510\n",
       "3         0  -0.507592\n",
       "4         0   1.552561\n",
       "..      ...        ...\n",
       "995       0  -2.977277\n",
       "996       1   7.545778\n",
       "997       0  33.969555\n",
       "998       0  11.173107\n",
       "999       5  10.078580\n",
       "\n",
       "[1000 rows x 2 columns]"
      ],
      "text/html": "<div>\n<style scoped>\n    .dataframe tbody tr th:only-of-type {\n        vertical-align: middle;\n    }\n\n    .dataframe tbody tr th {\n        vertical-align: top;\n    }\n\n    .dataframe thead th {\n        text-align: right;\n    }\n</style>\n<table border=\"1\" class=\"dataframe\">\n  <thead>\n    <tr style=\"text-align: right;\">\n      <th></th>\n      <th>Actual</th>\n      <th>Predicted</th>\n    </tr>\n  </thead>\n  <tbody>\n    <tr>\n      <th>0</th>\n      <td>35</td>\n      <td>12.207413</td>\n    </tr>\n    <tr>\n      <th>1</th>\n      <td>2</td>\n      <td>7.920135</td>\n    </tr>\n    <tr>\n      <th>2</th>\n      <td>0</td>\n      <td>0.065510</td>\n    </tr>\n    <tr>\n      <th>3</th>\n      <td>0</td>\n      <td>-0.507592</td>\n    </tr>\n    <tr>\n      <th>4</th>\n      <td>0</td>\n      <td>1.552561</td>\n    </tr>\n    <tr>\n      <th>...</th>\n      <td>...</td>\n      <td>...</td>\n    </tr>\n    <tr>\n      <th>995</th>\n      <td>0</td>\n      <td>-2.977277</td>\n    </tr>\n    <tr>\n      <th>996</th>\n      <td>1</td>\n      <td>7.545778</td>\n    </tr>\n    <tr>\n      <th>997</th>\n      <td>0</td>\n      <td>33.969555</td>\n    </tr>\n    <tr>\n      <th>998</th>\n      <td>0</td>\n      <td>11.173107</td>\n    </tr>\n    <tr>\n      <th>999</th>\n      <td>5</td>\n      <td>10.078580</td>\n    </tr>\n  </tbody>\n</table>\n<p>1000 rows × 2 columns</p>\n</div>"
     },
     "metadata": {},
     "execution_count": 8
    }
   ],
   "source": [
    "y_pred = pd.DataFrame(regressor.predict(X_test))\n",
    "\n",
    "check = pd.DataFrame({'Actual': y_test.values.flatten(), 'Predicted': y_pred.values.flatten()})\n",
    "check\n",
    "\n",
    "# y_pred = pd.DataFrame(regressor.predict(X_train_all))\n",
    "\n",
    "# check = pd.DataFrame({'Actual': y_train_all.values.flatten(), 'Predicted': y_pred.values.flatten()})\n",
    "# check"
   ]
  },
  {
   "cell_type": "code",
   "execution_count": 9,
   "metadata": {},
   "outputs": [],
   "source": [
    "# %%time\n",
    "# import matplotlib.pyplot as plt\n",
    "# plt.figure(figsize=(50, 50))\n",
    "# plt.scatter(\n",
    "#     y_test.values.flatten(),\n",
    "#     y_pred.values.flatten(),\n",
    "#     c='green'\n",
    "# )\n",
    "# plt.xlabel(\"XXX\")\n",
    "# plt.ylabel(\"YYY\")\n",
    "# plt.show()"
   ]
  },
  {
   "cell_type": "code",
   "execution_count": 10,
   "metadata": {},
   "outputs": [
    {
     "output_type": "execute_result",
     "data": {
      "text/plain": [
       "         53\n",
       "0         0\n",
       "1         0\n",
       "2         0\n",
       "3         0\n",
       "4         0\n",
       "...     ...\n",
       "199025  203\n",
       "199026   42\n",
       "199027   51\n",
       "199028   17\n",
       "199029   21\n",
       "\n",
       "[602813 rows x 1 columns]"
      ],
      "text/html": "<div>\n<style scoped>\n    .dataframe tbody tr th:only-of-type {\n        vertical-align: middle;\n    }\n\n    .dataframe tbody tr th {\n        vertical-align: top;\n    }\n\n    .dataframe thead th {\n        text-align: right;\n    }\n</style>\n<table border=\"1\" class=\"dataframe\">\n  <thead>\n    <tr style=\"text-align: right;\">\n      <th></th>\n      <th>53</th>\n    </tr>\n  </thead>\n  <tbody>\n    <tr>\n      <th>0</th>\n      <td>0</td>\n    </tr>\n    <tr>\n      <th>1</th>\n      <td>0</td>\n    </tr>\n    <tr>\n      <th>2</th>\n      <td>0</td>\n    </tr>\n    <tr>\n      <th>3</th>\n      <td>0</td>\n    </tr>\n    <tr>\n      <th>4</th>\n      <td>0</td>\n    </tr>\n    <tr>\n      <th>...</th>\n      <td>...</td>\n    </tr>\n    <tr>\n      <th>199025</th>\n      <td>203</td>\n    </tr>\n    <tr>\n      <th>199026</th>\n      <td>42</td>\n    </tr>\n    <tr>\n      <th>199027</th>\n      <td>51</td>\n    </tr>\n    <tr>\n      <th>199028</th>\n      <td>17</td>\n    </tr>\n    <tr>\n      <th>199029</th>\n      <td>21</td>\n    </tr>\n  </tbody>\n</table>\n<p>602813 rows × 1 columns</p>\n</div>"
     },
     "metadata": {},
     "execution_count": 10
    }
   ],
   "source": [
    "y_train_all"
   ]
  },
  {
   "cell_type": "code",
   "execution_count": 11,
   "metadata": {},
   "outputs": [
    {
     "output_type": "execute_result",
     "data": {
      "text/plain": [
       "             0   1       2   3    4       5           6      7           8   \\\n",
       "0        634995   0     463   1  0.0   806.0   11.291045    1.0   70.495138   \n",
       "1        634995   0     463   1  0.0   806.0   11.291045    1.0   70.495138   \n",
       "2        634995   0     463   1  0.0   806.0   11.291045    1.0   70.495138   \n",
       "3        634995   0     463   1  0.0   806.0   11.291045    1.0   70.495138   \n",
       "4        634995   0     463   1  0.0   806.0   11.291045    1.0   70.495138   \n",
       "...         ...  ..     ...  ..  ...     ...         ...    ...         ...   \n",
       "199025  7170111  70  497000   9  0.0  2164.0  466.975207  244.0  497.966169   \n",
       "199026  7170111  70  497000   9  0.0  2164.0  466.975207  244.0  497.966169   \n",
       "199027  7170111  70  497000   9  0.0  2164.0  466.975207  244.0  497.966169   \n",
       "199028  7170111  70  497000   9  0.0  2164.0  466.975207  244.0  497.966169   \n",
       "199029  7170111  70  497000   9  0.0  2164.0  466.975207  244.0  497.966169   \n",
       "\n",
       "         9   ...  43  44  45  46  47  48  49  50  51  52  \n",
       "0       0.0  ...   0   0   0   0   0   0   0   0   0   1  \n",
       "1       0.0  ...   1   0   0   0   0   0   0   0   1   0  \n",
       "2       0.0  ...   0   1   0   0   0   0   0   0   0   1  \n",
       "3       0.0  ...   0   1   0   0   1   0   0   0   0   0  \n",
       "4       0.0  ...   0   0   0   0   0   0   1   0   0   0  \n",
       "...     ...  ...  ..  ..  ..  ..  ..  ..  ..  ..  ..  ..  \n",
       "199025  0.0  ...   0   0   0   0   0   0   1   0   0   0  \n",
       "199026  0.0  ...   0   0   0   0   0   0   1   0   0   0  \n",
       "199027  0.0  ...   0   0   0   0   0   0   1   0   0   0  \n",
       "199028  0.0  ...   0   0   0   0   0   0   0   1   0   0  \n",
       "199029  0.0  ...   0   0   0   0   0   0   0   0   1   0  \n",
       "\n",
       "[602813 rows x 53 columns]"
      ],
      "text/html": "<div>\n<style scoped>\n    .dataframe tbody tr th:only-of-type {\n        vertical-align: middle;\n    }\n\n    .dataframe tbody tr th {\n        vertical-align: top;\n    }\n\n    .dataframe thead th {\n        text-align: right;\n    }\n</style>\n<table border=\"1\" class=\"dataframe\">\n  <thead>\n    <tr style=\"text-align: right;\">\n      <th></th>\n      <th>0</th>\n      <th>1</th>\n      <th>2</th>\n      <th>3</th>\n      <th>4</th>\n      <th>5</th>\n      <th>6</th>\n      <th>7</th>\n      <th>8</th>\n      <th>9</th>\n      <th>...</th>\n      <th>43</th>\n      <th>44</th>\n      <th>45</th>\n      <th>46</th>\n      <th>47</th>\n      <th>48</th>\n      <th>49</th>\n      <th>50</th>\n      <th>51</th>\n      <th>52</th>\n    </tr>\n  </thead>\n  <tbody>\n    <tr>\n      <th>0</th>\n      <td>634995</td>\n      <td>0</td>\n      <td>463</td>\n      <td>1</td>\n      <td>0.0</td>\n      <td>806.0</td>\n      <td>11.291045</td>\n      <td>1.0</td>\n      <td>70.495138</td>\n      <td>0.0</td>\n      <td>...</td>\n      <td>0</td>\n      <td>0</td>\n      <td>0</td>\n      <td>0</td>\n      <td>0</td>\n      <td>0</td>\n      <td>0</td>\n      <td>0</td>\n      <td>0</td>\n      <td>1</td>\n    </tr>\n    <tr>\n      <th>1</th>\n      <td>634995</td>\n      <td>0</td>\n      <td>463</td>\n      <td>1</td>\n      <td>0.0</td>\n      <td>806.0</td>\n      <td>11.291045</td>\n      <td>1.0</td>\n      <td>70.495138</td>\n      <td>0.0</td>\n      <td>...</td>\n      <td>1</td>\n      <td>0</td>\n      <td>0</td>\n      <td>0</td>\n      <td>0</td>\n      <td>0</td>\n      <td>0</td>\n      <td>0</td>\n      <td>1</td>\n      <td>0</td>\n    </tr>\n    <tr>\n      <th>2</th>\n      <td>634995</td>\n      <td>0</td>\n      <td>463</td>\n      <td>1</td>\n      <td>0.0</td>\n      <td>806.0</td>\n      <td>11.291045</td>\n      <td>1.0</td>\n      <td>70.495138</td>\n      <td>0.0</td>\n      <td>...</td>\n      <td>0</td>\n      <td>1</td>\n      <td>0</td>\n      <td>0</td>\n      <td>0</td>\n      <td>0</td>\n      <td>0</td>\n      <td>0</td>\n      <td>0</td>\n      <td>1</td>\n    </tr>\n    <tr>\n      <th>3</th>\n      <td>634995</td>\n      <td>0</td>\n      <td>463</td>\n      <td>1</td>\n      <td>0.0</td>\n      <td>806.0</td>\n      <td>11.291045</td>\n      <td>1.0</td>\n      <td>70.495138</td>\n      <td>0.0</td>\n      <td>...</td>\n      <td>0</td>\n      <td>1</td>\n      <td>0</td>\n      <td>0</td>\n      <td>1</td>\n      <td>0</td>\n      <td>0</td>\n      <td>0</td>\n      <td>0</td>\n      <td>0</td>\n    </tr>\n    <tr>\n      <th>4</th>\n      <td>634995</td>\n      <td>0</td>\n      <td>463</td>\n      <td>1</td>\n      <td>0.0</td>\n      <td>806.0</td>\n      <td>11.291045</td>\n      <td>1.0</td>\n      <td>70.495138</td>\n      <td>0.0</td>\n      <td>...</td>\n      <td>0</td>\n      <td>0</td>\n      <td>0</td>\n      <td>0</td>\n      <td>0</td>\n      <td>0</td>\n      <td>1</td>\n      <td>0</td>\n      <td>0</td>\n      <td>0</td>\n    </tr>\n    <tr>\n      <th>...</th>\n      <td>...</td>\n      <td>...</td>\n      <td>...</td>\n      <td>...</td>\n      <td>...</td>\n      <td>...</td>\n      <td>...</td>\n      <td>...</td>\n      <td>...</td>\n      <td>...</td>\n      <td>...</td>\n      <td>...</td>\n      <td>...</td>\n      <td>...</td>\n      <td>...</td>\n      <td>...</td>\n      <td>...</td>\n      <td>...</td>\n      <td>...</td>\n      <td>...</td>\n      <td>...</td>\n    </tr>\n    <tr>\n      <th>199025</th>\n      <td>7170111</td>\n      <td>70</td>\n      <td>497000</td>\n      <td>9</td>\n      <td>0.0</td>\n      <td>2164.0</td>\n      <td>466.975207</td>\n      <td>244.0</td>\n      <td>497.966169</td>\n      <td>0.0</td>\n      <td>...</td>\n      <td>0</td>\n      <td>0</td>\n      <td>0</td>\n      <td>0</td>\n      <td>0</td>\n      <td>0</td>\n      <td>1</td>\n      <td>0</td>\n      <td>0</td>\n      <td>0</td>\n    </tr>\n    <tr>\n      <th>199026</th>\n      <td>7170111</td>\n      <td>70</td>\n      <td>497000</td>\n      <td>9</td>\n      <td>0.0</td>\n      <td>2164.0</td>\n      <td>466.975207</td>\n      <td>244.0</td>\n      <td>497.966169</td>\n      <td>0.0</td>\n      <td>...</td>\n      <td>0</td>\n      <td>0</td>\n      <td>0</td>\n      <td>0</td>\n      <td>0</td>\n      <td>0</td>\n      <td>1</td>\n      <td>0</td>\n      <td>0</td>\n      <td>0</td>\n    </tr>\n    <tr>\n      <th>199027</th>\n      <td>7170111</td>\n      <td>70</td>\n      <td>497000</td>\n      <td>9</td>\n      <td>0.0</td>\n      <td>2164.0</td>\n      <td>466.975207</td>\n      <td>244.0</td>\n      <td>497.966169</td>\n      <td>0.0</td>\n      <td>...</td>\n      <td>0</td>\n      <td>0</td>\n      <td>0</td>\n      <td>0</td>\n      <td>0</td>\n      <td>0</td>\n      <td>1</td>\n      <td>0</td>\n      <td>0</td>\n      <td>0</td>\n    </tr>\n    <tr>\n      <th>199028</th>\n      <td>7170111</td>\n      <td>70</td>\n      <td>497000</td>\n      <td>9</td>\n      <td>0.0</td>\n      <td>2164.0</td>\n      <td>466.975207</td>\n      <td>244.0</td>\n      <td>497.966169</td>\n      <td>0.0</td>\n      <td>...</td>\n      <td>0</td>\n      <td>0</td>\n      <td>0</td>\n      <td>0</td>\n      <td>0</td>\n      <td>0</td>\n      <td>0</td>\n      <td>1</td>\n      <td>0</td>\n      <td>0</td>\n    </tr>\n    <tr>\n      <th>199029</th>\n      <td>7170111</td>\n      <td>70</td>\n      <td>497000</td>\n      <td>9</td>\n      <td>0.0</td>\n      <td>2164.0</td>\n      <td>466.975207</td>\n      <td>244.0</td>\n      <td>497.966169</td>\n      <td>0.0</td>\n      <td>...</td>\n      <td>0</td>\n      <td>0</td>\n      <td>0</td>\n      <td>0</td>\n      <td>0</td>\n      <td>0</td>\n      <td>0</td>\n      <td>0</td>\n      <td>1</td>\n      <td>0</td>\n    </tr>\n  </tbody>\n</table>\n<p>602813 rows × 53 columns</p>\n</div>"
     },
     "metadata": {},
     "execution_count": 11
    }
   ],
   "source": [
    "X_train_all"
   ]
  },
  {
   "cell_type": "code",
   "execution_count": null,
   "metadata": {},
   "outputs": [],
   "source": []
  }
 ]
}