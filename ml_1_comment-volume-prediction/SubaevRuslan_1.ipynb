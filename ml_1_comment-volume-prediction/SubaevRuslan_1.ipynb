{
 "metadata": {
  "language_info": {
   "codemirror_mode": {
    "name": "ipython",
    "version": 3
   },
   "file_extension": ".py",
   "mimetype": "text/x-python",
   "name": "python",
   "nbconvert_exporter": "python",
   "pygments_lexer": "ipython3",
   "version": "3.9.1"
  },
  "orig_nbformat": 2,
  "kernelspec": {
   "name": "python3",
   "display_name": "Python 3.9.1 64-bit",
   "metadata": {
    "interpreter": {
     "hash": "7bc11272627b579e4447e2eebf3fb89d685460e5f2727d5fd6d47c813d9e2e04"
    }
   }
  }
 },
 "nbformat": 4,
 "nbformat_minor": 2,
 "cells": [
  {
   "cell_type": "code",
   "execution_count": 1,
   "metadata": {},
   "outputs": [
    {
     "output_type": "stream",
     "name": "stdout",
     "text": [
      "(602813, 53)\n(602813, 1)\n\nWall time: 6.61 s\n"
     ]
    }
   ],
   "source": [
    "%%time\n",
    "import numpy as np\n",
    "import pandas as pd \n",
    "from sklearn.preprocessing import StandardScaler, scale\n",
    "from sklearn.model_selection import train_test_split\n",
    "\n",
    "# !!!  I used strict pointers there, so u have to change it before running\n",
    "# !!!               There are 2 cases in 2nd and 4th blocks\n",
    "\n",
    "syspathTraining = str(os.getcwd()).replace('SubaevRuslan_1.ipynb','') + \"/facebook-comment-volume-prediction-master/dataset/Training/\"\n",
    "fileTraining = ['Features_Variant_1.csv', \n",
    "                'Features_Variant_2.csv', \n",
    "                'Features_Variant_3.csv', \n",
    "                'Features_Variant_4.csv', \n",
    "                'Features_Variant_5.csv']\n",
    "scaner = StandardScaler()\n",
    "\n",
    "fullTraining = pd.concat(pd.read_csv(syspathTraining + file, index_col=False, header=None) for file in fileTraining)\n",
    "y = np.array(fullTraining[53]).reshape(-1,1)\n",
    "\n",
    "x = fullTraining.iloc[:,:-1]\n",
    "x = scale(x, axis=0)\n",
    "\n",
    "print(x.shape)\n",
    "print(y.shape,end='\\n\\n')"
   ]
  },
  {
   "cell_type": "code",
   "execution_count": 2,
   "metadata": {},
   "outputs": [
    {
     "output_type": "stream",
     "name": "stdout",
     "text": [
      "(54, 1)\n\nWall time: 1min 6s\n"
     ]
    }
   ],
   "source": [
    "%%time\n",
    "import copy\n",
    "from sklearn.metrics import mean_squared_error\n",
    "from math import sqrt\n",
    "\n",
    "def MSE(xb,y,theta):\n",
    "    return np.sum(np.square(xb.dot(theta)-y))/len(y)\n",
    "\n",
    "# Adding ones to the X matrix\n",
    "xb = np.c_[np.ones((len(x),1)),x]\n",
    "# xbStandartized = scaner.fit_transform(copy.deepcopy(xb))\n",
    "# print(np.mean(xbStandartized[:,:]), np.std(xbStandartized[:,:]))\n",
    "\n",
    "# Num of any samples\n",
    "m = len(y) \n",
    "cost = []\n",
    "learningRate = 0.0018\n",
    "numIterations = 1200\n",
    "\n",
    "# Random initialization with standard normal distribution -- randn(.,.)\n",
    "theta = np.random.randn(54,1) \n",
    "\n",
    "# Start gradient descent Uuuf\n",
    "for i in range(numIterations):\n",
    "    gradient = 2/m * xb.T.dot(xb.dot(theta) - y) # dimension: (54,1)\n",
    "    theta = theta - learningRate * gradient\n",
    "    cost.append(MSE(xb,y,theta))\n",
    "print(theta.shape, end='\\n\\n')"
   ]
  },
  {
   "cell_type": "code",
   "execution_count": 3,
   "metadata": {},
   "outputs": [
    {
     "output_type": "stream",
     "name": "stdout",
     "text": [
      "Wall time: 471 ms\n"
     ]
    },
    {
     "output_type": "execute_result",
     "data": {
      "text/plain": [
       "Text(0, 0.5, 'MSE')"
      ]
     },
     "metadata": {},
     "execution_count": 3
    },
    {
     "output_type": "display_data",
     "data": {
      "text/plain": "<Figure size 1080x432 with 2 Axes>",
      "image/svg+xml": "<?xml version=\"1.0\" encoding=\"utf-8\" standalone=\"no\"?>\r\n<!DOCTYPE svg PUBLIC \"-//W3C//DTD SVG 1.1//EN\"\r\n  \"http://www.w3.org/Graphics/SVG/1.1/DTD/svg11.dtd\">\r\n<!-- Created with matplotlib (https://matplotlib.org/) -->\r\n<svg height=\"376.961573pt\" version=\"1.1\" viewBox=\"0 0 901.399375 376.961573\" width=\"901.399375pt\" xmlns=\"http://www.w3.org/2000/svg\" xmlns:xlink=\"http://www.w3.org/1999/xlink\">\r\n <metadata>\r\n  <rdf:RDF xmlns:cc=\"http://creativecommons.org/ns#\" xmlns:dc=\"http://purl.org/dc/elements/1.1/\" xmlns:rdf=\"http://www.w3.org/1999/02/22-rdf-syntax-ns#\">\r\n   <cc:Work>\r\n    <dc:type rdf:resource=\"http://purl.org/dc/dcmitype/StillImage\"/>\r\n    <dc:date>2021-08-11T09:23:11.022115</dc:date>\r\n    <dc:format>image/svg+xml</dc:format>\r\n    <dc:creator>\r\n     <cc:Agent>\r\n      <dc:title>Matplotlib v3.3.3, https://matplotlib.org/</dc:title>\r\n     </cc:Agent>\r\n    </dc:creator>\r\n   </cc:Work>\r\n  </rdf:RDF>\r\n </metadata>\r\n <defs>\r\n  <style type=\"text/css\">*{stroke-linecap:butt;stroke-linejoin:round;}</style>\r\n </defs>\r\n <g id=\"figure_1\">\r\n  <g id=\"patch_1\">\r\n   <path d=\"M 0 376.961573 \r\nL 901.399375 376.961573 \r\nL 901.399375 0 \r\nL 0 0 \r\nz\r\n\" style=\"fill:none;\"/>\r\n  </g>\r\n  <g id=\"axes_1\">\r\n   <g id=\"patch_2\">\r\n    <path d=\"M 57.199375 335.534073 \r\nL 391.999375 335.534073 \r\nL 391.999375 9.374073 \r\nL 57.199375 9.374073 \r\nz\r\n\" style=\"fill:#ffffff;\"/>\r\n   </g>\r\n   <g id=\"matplotlib.axis_1\">\r\n    <g id=\"xtick_1\">\r\n     <g id=\"line2d_1\">\r\n      <defs>\r\n       <path d=\"M 0 0 \r\nL 0 3.5 \r\n\" id=\"mc8a41944f9\" style=\"stroke:#000000;stroke-width:0.8;\"/>\r\n      </defs>\r\n      <g>\r\n       <use style=\"stroke:#000000;stroke-width:0.8;\" x=\"72.417557\" xlink:href=\"#mc8a41944f9\" y=\"335.534073\"/>\r\n      </g>\r\n     </g>\r\n     <g id=\"text_1\">\r\n      <!-- 0 -->\r\n      <g transform=\"translate(69.236307 350.132511)scale(0.1 -0.1)\">\r\n       <defs>\r\n        <path d=\"M 31.78125 66.40625 \r\nQ 24.171875 66.40625 20.328125 58.90625 \r\nQ 16.5 51.421875 16.5 36.375 \r\nQ 16.5 21.390625 20.328125 13.890625 \r\nQ 24.171875 6.390625 31.78125 6.390625 \r\nQ 39.453125 6.390625 43.28125 13.890625 \r\nQ 47.125 21.390625 47.125 36.375 \r\nQ 47.125 51.421875 43.28125 58.90625 \r\nQ 39.453125 66.40625 31.78125 66.40625 \r\nz\r\nM 31.78125 74.21875 \r\nQ 44.046875 74.21875 50.515625 64.515625 \r\nQ 56.984375 54.828125 56.984375 36.375 \r\nQ 56.984375 17.96875 50.515625 8.265625 \r\nQ 44.046875 -1.421875 31.78125 -1.421875 \r\nQ 19.53125 -1.421875 13.0625 8.265625 \r\nQ 6.59375 17.96875 6.59375 36.375 \r\nQ 6.59375 54.828125 13.0625 64.515625 \r\nQ 19.53125 74.21875 31.78125 74.21875 \r\nz\r\n\" id=\"DejaVuSans-48\"/>\r\n       </defs>\r\n       <use xlink:href=\"#DejaVuSans-48\"/>\r\n      </g>\r\n     </g>\r\n    </g>\r\n    <g id=\"xtick_2\">\r\n     <g id=\"line2d_2\">\r\n      <g>\r\n       <use style=\"stroke:#000000;stroke-width:0.8;\" x=\"133.534753\" xlink:href=\"#mc8a41944f9\" y=\"335.534073\"/>\r\n      </g>\r\n     </g>\r\n     <g id=\"text_2\">\r\n      <!-- 50 -->\r\n      <g transform=\"translate(127.172253 350.132511)scale(0.1 -0.1)\">\r\n       <defs>\r\n        <path d=\"M 10.796875 72.90625 \r\nL 49.515625 72.90625 \r\nL 49.515625 64.59375 \r\nL 19.828125 64.59375 \r\nL 19.828125 46.734375 \r\nQ 21.96875 47.46875 24.109375 47.828125 \r\nQ 26.265625 48.1875 28.421875 48.1875 \r\nQ 40.625 48.1875 47.75 41.5 \r\nQ 54.890625 34.8125 54.890625 23.390625 \r\nQ 54.890625 11.625 47.5625 5.09375 \r\nQ 40.234375 -1.421875 26.90625 -1.421875 \r\nQ 22.3125 -1.421875 17.546875 -0.640625 \r\nQ 12.796875 0.140625 7.71875 1.703125 \r\nL 7.71875 11.625 \r\nQ 12.109375 9.234375 16.796875 8.0625 \r\nQ 21.484375 6.890625 26.703125 6.890625 \r\nQ 35.15625 6.890625 40.078125 11.328125 \r\nQ 45.015625 15.765625 45.015625 23.390625 \r\nQ 45.015625 31 40.078125 35.4375 \r\nQ 35.15625 39.890625 26.703125 39.890625 \r\nQ 22.75 39.890625 18.8125 39.015625 \r\nQ 14.890625 38.140625 10.796875 36.28125 \r\nz\r\n\" id=\"DejaVuSans-53\"/>\r\n       </defs>\r\n       <use xlink:href=\"#DejaVuSans-53\"/>\r\n       <use x=\"63.623047\" xlink:href=\"#DejaVuSans-48\"/>\r\n      </g>\r\n     </g>\r\n    </g>\r\n    <g id=\"xtick_3\">\r\n     <g id=\"line2d_3\">\r\n      <g>\r\n       <use style=\"stroke:#000000;stroke-width:0.8;\" x=\"194.651949\" xlink:href=\"#mc8a41944f9\" y=\"335.534073\"/>\r\n      </g>\r\n     </g>\r\n     <g id=\"text_3\">\r\n      <!-- 100 -->\r\n      <g transform=\"translate(185.108199 350.132511)scale(0.1 -0.1)\">\r\n       <defs>\r\n        <path d=\"M 12.40625 8.296875 \r\nL 28.515625 8.296875 \r\nL 28.515625 63.921875 \r\nL 10.984375 60.40625 \r\nL 10.984375 69.390625 \r\nL 28.421875 72.90625 \r\nL 38.28125 72.90625 \r\nL 38.28125 8.296875 \r\nL 54.390625 8.296875 \r\nL 54.390625 0 \r\nL 12.40625 0 \r\nz\r\n\" id=\"DejaVuSans-49\"/>\r\n       </defs>\r\n       <use xlink:href=\"#DejaVuSans-49\"/>\r\n       <use x=\"63.623047\" xlink:href=\"#DejaVuSans-48\"/>\r\n       <use x=\"127.246094\" xlink:href=\"#DejaVuSans-48\"/>\r\n      </g>\r\n     </g>\r\n    </g>\r\n    <g id=\"xtick_4\">\r\n     <g id=\"line2d_4\">\r\n      <g>\r\n       <use style=\"stroke:#000000;stroke-width:0.8;\" x=\"255.769145\" xlink:href=\"#mc8a41944f9\" y=\"335.534073\"/>\r\n      </g>\r\n     </g>\r\n     <g id=\"text_4\">\r\n      <!-- 150 -->\r\n      <g transform=\"translate(246.225395 350.132511)scale(0.1 -0.1)\">\r\n       <use xlink:href=\"#DejaVuSans-49\"/>\r\n       <use x=\"63.623047\" xlink:href=\"#DejaVuSans-53\"/>\r\n       <use x=\"127.246094\" xlink:href=\"#DejaVuSans-48\"/>\r\n      </g>\r\n     </g>\r\n    </g>\r\n    <g id=\"xtick_5\">\r\n     <g id=\"line2d_5\">\r\n      <g>\r\n       <use style=\"stroke:#000000;stroke-width:0.8;\" x=\"316.886341\" xlink:href=\"#mc8a41944f9\" y=\"335.534073\"/>\r\n      </g>\r\n     </g>\r\n     <g id=\"text_5\">\r\n      <!-- 200 -->\r\n      <g transform=\"translate(307.342591 350.132511)scale(0.1 -0.1)\">\r\n       <defs>\r\n        <path d=\"M 19.1875 8.296875 \r\nL 53.609375 8.296875 \r\nL 53.609375 0 \r\nL 7.328125 0 \r\nL 7.328125 8.296875 \r\nQ 12.9375 14.109375 22.625 23.890625 \r\nQ 32.328125 33.6875 34.8125 36.53125 \r\nQ 39.546875 41.84375 41.421875 45.53125 \r\nQ 43.3125 49.21875 43.3125 52.78125 \r\nQ 43.3125 58.59375 39.234375 62.25 \r\nQ 35.15625 65.921875 28.609375 65.921875 \r\nQ 23.96875 65.921875 18.8125 64.3125 \r\nQ 13.671875 62.703125 7.8125 59.421875 \r\nL 7.8125 69.390625 \r\nQ 13.765625 71.78125 18.9375 73 \r\nQ 24.125 74.21875 28.421875 74.21875 \r\nQ 39.75 74.21875 46.484375 68.546875 \r\nQ 53.21875 62.890625 53.21875 53.421875 \r\nQ 53.21875 48.921875 51.53125 44.890625 \r\nQ 49.859375 40.875 45.40625 35.40625 \r\nQ 44.1875 33.984375 37.640625 27.21875 \r\nQ 31.109375 20.453125 19.1875 8.296875 \r\nz\r\n\" id=\"DejaVuSans-50\"/>\r\n       </defs>\r\n       <use xlink:href=\"#DejaVuSans-50\"/>\r\n       <use x=\"63.623047\" xlink:href=\"#DejaVuSans-48\"/>\r\n       <use x=\"127.246094\" xlink:href=\"#DejaVuSans-48\"/>\r\n      </g>\r\n     </g>\r\n    </g>\r\n    <g id=\"xtick_6\">\r\n     <g id=\"line2d_6\">\r\n      <g>\r\n       <use style=\"stroke:#000000;stroke-width:0.8;\" x=\"378.003537\" xlink:href=\"#mc8a41944f9\" y=\"335.534073\"/>\r\n      </g>\r\n     </g>\r\n     <g id=\"text_6\">\r\n      <!-- 250 -->\r\n      <g transform=\"translate(368.459787 350.132511)scale(0.1 -0.1)\">\r\n       <use xlink:href=\"#DejaVuSans-50\"/>\r\n       <use x=\"63.623047\" xlink:href=\"#DejaVuSans-53\"/>\r\n       <use x=\"127.246094\" xlink:href=\"#DejaVuSans-48\"/>\r\n      </g>\r\n     </g>\r\n    </g>\r\n    <g id=\"text_7\">\r\n     <!-- Num of iterations -->\r\n     <g transform=\"translate(163.692812 366.850011)scale(0.14 -0.14)\">\r\n      <defs>\r\n       <path d=\"M 9.8125 72.90625 \r\nL 23.09375 72.90625 \r\nL 55.421875 11.921875 \r\nL 55.421875 72.90625 \r\nL 64.984375 72.90625 \r\nL 64.984375 0 \r\nL 51.703125 0 \r\nL 19.390625 60.984375 \r\nL 19.390625 0 \r\nL 9.8125 0 \r\nz\r\n\" id=\"DejaVuSans-78\"/>\r\n       <path d=\"M 8.5 21.578125 \r\nL 8.5 54.6875 \r\nL 17.484375 54.6875 \r\nL 17.484375 21.921875 \r\nQ 17.484375 14.15625 20.5 10.265625 \r\nQ 23.53125 6.390625 29.59375 6.390625 \r\nQ 36.859375 6.390625 41.078125 11.03125 \r\nQ 45.3125 15.671875 45.3125 23.6875 \r\nL 45.3125 54.6875 \r\nL 54.296875 54.6875 \r\nL 54.296875 0 \r\nL 45.3125 0 \r\nL 45.3125 8.40625 \r\nQ 42.046875 3.421875 37.71875 1 \r\nQ 33.40625 -1.421875 27.6875 -1.421875 \r\nQ 18.265625 -1.421875 13.375 4.4375 \r\nQ 8.5 10.296875 8.5 21.578125 \r\nz\r\nM 31.109375 56 \r\nz\r\n\" id=\"DejaVuSans-117\"/>\r\n       <path d=\"M 52 44.1875 \r\nQ 55.375 50.25 60.0625 53.125 \r\nQ 64.75 56 71.09375 56 \r\nQ 79.640625 56 84.28125 50.015625 \r\nQ 88.921875 44.046875 88.921875 33.015625 \r\nL 88.921875 0 \r\nL 79.890625 0 \r\nL 79.890625 32.71875 \r\nQ 79.890625 40.578125 77.09375 44.375 \r\nQ 74.3125 48.1875 68.609375 48.1875 \r\nQ 61.625 48.1875 57.5625 43.546875 \r\nQ 53.515625 38.921875 53.515625 30.90625 \r\nL 53.515625 0 \r\nL 44.484375 0 \r\nL 44.484375 32.71875 \r\nQ 44.484375 40.625 41.703125 44.40625 \r\nQ 38.921875 48.1875 33.109375 48.1875 \r\nQ 26.21875 48.1875 22.15625 43.53125 \r\nQ 18.109375 38.875 18.109375 30.90625 \r\nL 18.109375 0 \r\nL 9.078125 0 \r\nL 9.078125 54.6875 \r\nL 18.109375 54.6875 \r\nL 18.109375 46.1875 \r\nQ 21.1875 51.21875 25.484375 53.609375 \r\nQ 29.78125 56 35.6875 56 \r\nQ 41.65625 56 45.828125 52.96875 \r\nQ 50 49.953125 52 44.1875 \r\nz\r\n\" id=\"DejaVuSans-109\"/>\r\n       <path id=\"DejaVuSans-32\"/>\r\n       <path d=\"M 30.609375 48.390625 \r\nQ 23.390625 48.390625 19.1875 42.75 \r\nQ 14.984375 37.109375 14.984375 27.296875 \r\nQ 14.984375 17.484375 19.15625 11.84375 \r\nQ 23.34375 6.203125 30.609375 6.203125 \r\nQ 37.796875 6.203125 41.984375 11.859375 \r\nQ 46.1875 17.53125 46.1875 27.296875 \r\nQ 46.1875 37.015625 41.984375 42.703125 \r\nQ 37.796875 48.390625 30.609375 48.390625 \r\nz\r\nM 30.609375 56 \r\nQ 42.328125 56 49.015625 48.375 \r\nQ 55.71875 40.765625 55.71875 27.296875 \r\nQ 55.71875 13.875 49.015625 6.21875 \r\nQ 42.328125 -1.421875 30.609375 -1.421875 \r\nQ 18.84375 -1.421875 12.171875 6.21875 \r\nQ 5.515625 13.875 5.515625 27.296875 \r\nQ 5.515625 40.765625 12.171875 48.375 \r\nQ 18.84375 56 30.609375 56 \r\nz\r\n\" id=\"DejaVuSans-111\"/>\r\n       <path d=\"M 37.109375 75.984375 \r\nL 37.109375 68.5 \r\nL 28.515625 68.5 \r\nQ 23.6875 68.5 21.796875 66.546875 \r\nQ 19.921875 64.59375 19.921875 59.515625 \r\nL 19.921875 54.6875 \r\nL 34.71875 54.6875 \r\nL 34.71875 47.703125 \r\nL 19.921875 47.703125 \r\nL 19.921875 0 \r\nL 10.890625 0 \r\nL 10.890625 47.703125 \r\nL 2.296875 47.703125 \r\nL 2.296875 54.6875 \r\nL 10.890625 54.6875 \r\nL 10.890625 58.5 \r\nQ 10.890625 67.625 15.140625 71.796875 \r\nQ 19.390625 75.984375 28.609375 75.984375 \r\nz\r\n\" id=\"DejaVuSans-102\"/>\r\n       <path d=\"M 9.421875 54.6875 \r\nL 18.40625 54.6875 \r\nL 18.40625 0 \r\nL 9.421875 0 \r\nz\r\nM 9.421875 75.984375 \r\nL 18.40625 75.984375 \r\nL 18.40625 64.59375 \r\nL 9.421875 64.59375 \r\nz\r\n\" id=\"DejaVuSans-105\"/>\r\n       <path d=\"M 18.3125 70.21875 \r\nL 18.3125 54.6875 \r\nL 36.8125 54.6875 \r\nL 36.8125 47.703125 \r\nL 18.3125 47.703125 \r\nL 18.3125 18.015625 \r\nQ 18.3125 11.328125 20.140625 9.421875 \r\nQ 21.96875 7.515625 27.59375 7.515625 \r\nL 36.8125 7.515625 \r\nL 36.8125 0 \r\nL 27.59375 0 \r\nQ 17.1875 0 13.234375 3.875 \r\nQ 9.28125 7.765625 9.28125 18.015625 \r\nL 9.28125 47.703125 \r\nL 2.6875 47.703125 \r\nL 2.6875 54.6875 \r\nL 9.28125 54.6875 \r\nL 9.28125 70.21875 \r\nz\r\n\" id=\"DejaVuSans-116\"/>\r\n       <path d=\"M 56.203125 29.59375 \r\nL 56.203125 25.203125 \r\nL 14.890625 25.203125 \r\nQ 15.484375 15.921875 20.484375 11.0625 \r\nQ 25.484375 6.203125 34.421875 6.203125 \r\nQ 39.59375 6.203125 44.453125 7.46875 \r\nQ 49.3125 8.734375 54.109375 11.28125 \r\nL 54.109375 2.78125 \r\nQ 49.265625 0.734375 44.1875 -0.34375 \r\nQ 39.109375 -1.421875 33.890625 -1.421875 \r\nQ 20.796875 -1.421875 13.15625 6.1875 \r\nQ 5.515625 13.8125 5.515625 26.8125 \r\nQ 5.515625 40.234375 12.765625 48.109375 \r\nQ 20.015625 56 32.328125 56 \r\nQ 43.359375 56 49.78125 48.890625 \r\nQ 56.203125 41.796875 56.203125 29.59375 \r\nz\r\nM 47.21875 32.234375 \r\nQ 47.125 39.59375 43.09375 43.984375 \r\nQ 39.0625 48.390625 32.421875 48.390625 \r\nQ 24.90625 48.390625 20.390625 44.140625 \r\nQ 15.875 39.890625 15.1875 32.171875 \r\nz\r\n\" id=\"DejaVuSans-101\"/>\r\n       <path d=\"M 41.109375 46.296875 \r\nQ 39.59375 47.171875 37.8125 47.578125 \r\nQ 36.03125 48 33.890625 48 \r\nQ 26.265625 48 22.1875 43.046875 \r\nQ 18.109375 38.09375 18.109375 28.8125 \r\nL 18.109375 0 \r\nL 9.078125 0 \r\nL 9.078125 54.6875 \r\nL 18.109375 54.6875 \r\nL 18.109375 46.1875 \r\nQ 20.953125 51.171875 25.484375 53.578125 \r\nQ 30.03125 56 36.53125 56 \r\nQ 37.453125 56 38.578125 55.875 \r\nQ 39.703125 55.765625 41.0625 55.515625 \r\nz\r\n\" id=\"DejaVuSans-114\"/>\r\n       <path d=\"M 34.28125 27.484375 \r\nQ 23.390625 27.484375 19.1875 25 \r\nQ 14.984375 22.515625 14.984375 16.5 \r\nQ 14.984375 11.71875 18.140625 8.90625 \r\nQ 21.296875 6.109375 26.703125 6.109375 \r\nQ 34.1875 6.109375 38.703125 11.40625 \r\nQ 43.21875 16.703125 43.21875 25.484375 \r\nL 43.21875 27.484375 \r\nz\r\nM 52.203125 31.203125 \r\nL 52.203125 0 \r\nL 43.21875 0 \r\nL 43.21875 8.296875 \r\nQ 40.140625 3.328125 35.546875 0.953125 \r\nQ 30.953125 -1.421875 24.3125 -1.421875 \r\nQ 15.921875 -1.421875 10.953125 3.296875 \r\nQ 6 8.015625 6 15.921875 \r\nQ 6 25.140625 12.171875 29.828125 \r\nQ 18.359375 34.515625 30.609375 34.515625 \r\nL 43.21875 34.515625 \r\nL 43.21875 35.40625 \r\nQ 43.21875 41.609375 39.140625 45 \r\nQ 35.0625 48.390625 27.6875 48.390625 \r\nQ 23 48.390625 18.546875 47.265625 \r\nQ 14.109375 46.140625 10.015625 43.890625 \r\nL 10.015625 52.203125 \r\nQ 14.9375 54.109375 19.578125 55.046875 \r\nQ 24.21875 56 28.609375 56 \r\nQ 40.484375 56 46.34375 49.84375 \r\nQ 52.203125 43.703125 52.203125 31.203125 \r\nz\r\n\" id=\"DejaVuSans-97\"/>\r\n       <path d=\"M 54.890625 33.015625 \r\nL 54.890625 0 \r\nL 45.90625 0 \r\nL 45.90625 32.71875 \r\nQ 45.90625 40.484375 42.875 44.328125 \r\nQ 39.84375 48.1875 33.796875 48.1875 \r\nQ 26.515625 48.1875 22.3125 43.546875 \r\nQ 18.109375 38.921875 18.109375 30.90625 \r\nL 18.109375 0 \r\nL 9.078125 0 \r\nL 9.078125 54.6875 \r\nL 18.109375 54.6875 \r\nL 18.109375 46.1875 \r\nQ 21.34375 51.125 25.703125 53.5625 \r\nQ 30.078125 56 35.796875 56 \r\nQ 45.21875 56 50.046875 50.171875 \r\nQ 54.890625 44.34375 54.890625 33.015625 \r\nz\r\n\" id=\"DejaVuSans-110\"/>\r\n       <path d=\"M 44.28125 53.078125 \r\nL 44.28125 44.578125 \r\nQ 40.484375 46.53125 36.375 47.5 \r\nQ 32.28125 48.484375 27.875 48.484375 \r\nQ 21.1875 48.484375 17.84375 46.4375 \r\nQ 14.5 44.390625 14.5 40.28125 \r\nQ 14.5 37.15625 16.890625 35.375 \r\nQ 19.28125 33.59375 26.515625 31.984375 \r\nL 29.59375 31.296875 \r\nQ 39.15625 29.25 43.1875 25.515625 \r\nQ 47.21875 21.78125 47.21875 15.09375 \r\nQ 47.21875 7.46875 41.1875 3.015625 \r\nQ 35.15625 -1.421875 24.609375 -1.421875 \r\nQ 20.21875 -1.421875 15.453125 -0.5625 \r\nQ 10.6875 0.296875 5.421875 2 \r\nL 5.421875 11.28125 \r\nQ 10.40625 8.6875 15.234375 7.390625 \r\nQ 20.0625 6.109375 24.8125 6.109375 \r\nQ 31.15625 6.109375 34.5625 8.28125 \r\nQ 37.984375 10.453125 37.984375 14.40625 \r\nQ 37.984375 18.0625 35.515625 20.015625 \r\nQ 33.0625 21.96875 24.703125 23.78125 \r\nL 21.578125 24.515625 \r\nQ 13.234375 26.265625 9.515625 29.90625 \r\nQ 5.8125 33.546875 5.8125 39.890625 \r\nQ 5.8125 47.609375 11.28125 51.796875 \r\nQ 16.75 56 26.8125 56 \r\nQ 31.78125 56 36.171875 55.265625 \r\nQ 40.578125 54.546875 44.28125 53.078125 \r\nz\r\n\" id=\"DejaVuSans-115\"/>\r\n      </defs>\r\n      <use xlink:href=\"#DejaVuSans-78\"/>\r\n      <use x=\"74.804688\" xlink:href=\"#DejaVuSans-117\"/>\r\n      <use x=\"138.183594\" xlink:href=\"#DejaVuSans-109\"/>\r\n      <use x=\"235.595703\" xlink:href=\"#DejaVuSans-32\"/>\r\n      <use x=\"267.382812\" xlink:href=\"#DejaVuSans-111\"/>\r\n      <use x=\"328.564453\" xlink:href=\"#DejaVuSans-102\"/>\r\n      <use x=\"363.769531\" xlink:href=\"#DejaVuSans-32\"/>\r\n      <use x=\"395.556641\" xlink:href=\"#DejaVuSans-105\"/>\r\n      <use x=\"423.339844\" xlink:href=\"#DejaVuSans-116\"/>\r\n      <use x=\"462.548828\" xlink:href=\"#DejaVuSans-101\"/>\r\n      <use x=\"524.072266\" xlink:href=\"#DejaVuSans-114\"/>\r\n      <use x=\"565.185547\" xlink:href=\"#DejaVuSans-97\"/>\r\n      <use x=\"626.464844\" xlink:href=\"#DejaVuSans-116\"/>\r\n      <use x=\"665.673828\" xlink:href=\"#DejaVuSans-105\"/>\r\n      <use x=\"693.457031\" xlink:href=\"#DejaVuSans-111\"/>\r\n      <use x=\"754.638672\" xlink:href=\"#DejaVuSans-110\"/>\r\n      <use x=\"818.017578\" xlink:href=\"#DejaVuSans-115\"/>\r\n     </g>\r\n    </g>\r\n   </g>\r\n   <g id=\"matplotlib.axis_2\">\r\n    <g id=\"ytick_1\">\r\n     <g id=\"line2d_7\">\r\n      <defs>\r\n       <path d=\"M 0 0 \r\nL -3.5 0 \r\n\" id=\"m4c978d00b7\" style=\"stroke:#000000;stroke-width:0.8;\"/>\r\n      </defs>\r\n      <g>\r\n       <use style=\"stroke:#000000;stroke-width:0.8;\" x=\"57.199375\" xlink:href=\"#m4c978d00b7\" y=\"331.750041\"/>\r\n      </g>\r\n     </g>\r\n     <g id=\"text_8\">\r\n      <!-- 800 -->\r\n      <g transform=\"translate(31.111875 335.549259)scale(0.1 -0.1)\">\r\n       <defs>\r\n        <path d=\"M 31.78125 34.625 \r\nQ 24.75 34.625 20.71875 30.859375 \r\nQ 16.703125 27.09375 16.703125 20.515625 \r\nQ 16.703125 13.921875 20.71875 10.15625 \r\nQ 24.75 6.390625 31.78125 6.390625 \r\nQ 38.8125 6.390625 42.859375 10.171875 \r\nQ 46.921875 13.96875 46.921875 20.515625 \r\nQ 46.921875 27.09375 42.890625 30.859375 \r\nQ 38.875 34.625 31.78125 34.625 \r\nz\r\nM 21.921875 38.8125 \r\nQ 15.578125 40.375 12.03125 44.71875 \r\nQ 8.5 49.078125 8.5 55.328125 \r\nQ 8.5 64.0625 14.71875 69.140625 \r\nQ 20.953125 74.21875 31.78125 74.21875 \r\nQ 42.671875 74.21875 48.875 69.140625 \r\nQ 55.078125 64.0625 55.078125 55.328125 \r\nQ 55.078125 49.078125 51.53125 44.71875 \r\nQ 48 40.375 41.703125 38.8125 \r\nQ 48.828125 37.15625 52.796875 32.3125 \r\nQ 56.78125 27.484375 56.78125 20.515625 \r\nQ 56.78125 9.90625 50.3125 4.234375 \r\nQ 43.84375 -1.421875 31.78125 -1.421875 \r\nQ 19.734375 -1.421875 13.25 4.234375 \r\nQ 6.78125 9.90625 6.78125 20.515625 \r\nQ 6.78125 27.484375 10.78125 32.3125 \r\nQ 14.796875 37.15625 21.921875 38.8125 \r\nz\r\nM 18.3125 54.390625 \r\nQ 18.3125 48.734375 21.84375 45.5625 \r\nQ 25.390625 42.390625 31.78125 42.390625 \r\nQ 38.140625 42.390625 41.71875 45.5625 \r\nQ 45.3125 48.734375 45.3125 54.390625 \r\nQ 45.3125 60.0625 41.71875 63.234375 \r\nQ 38.140625 66.40625 31.78125 66.40625 \r\nQ 25.390625 66.40625 21.84375 63.234375 \r\nQ 18.3125 60.0625 18.3125 54.390625 \r\nz\r\n\" id=\"DejaVuSans-56\"/>\r\n       </defs>\r\n       <use xlink:href=\"#DejaVuSans-56\"/>\r\n       <use x=\"63.623047\" xlink:href=\"#DejaVuSans-48\"/>\r\n       <use x=\"127.246094\" xlink:href=\"#DejaVuSans-48\"/>\r\n      </g>\r\n     </g>\r\n    </g>\r\n    <g id=\"ytick_2\">\r\n     <g id=\"line2d_8\">\r\n      <g>\r\n       <use style=\"stroke:#000000;stroke-width:0.8;\" x=\"57.199375\" xlink:href=\"#m4c978d00b7\" y=\"279.939161\"/>\r\n      </g>\r\n     </g>\r\n     <g id=\"text_9\">\r\n      <!-- 900 -->\r\n      <g transform=\"translate(31.111875 283.73838)scale(0.1 -0.1)\">\r\n       <defs>\r\n        <path d=\"M 10.984375 1.515625 \r\nL 10.984375 10.5 \r\nQ 14.703125 8.734375 18.5 7.8125 \r\nQ 22.3125 6.890625 25.984375 6.890625 \r\nQ 35.75 6.890625 40.890625 13.453125 \r\nQ 46.046875 20.015625 46.78125 33.40625 \r\nQ 43.953125 29.203125 39.59375 26.953125 \r\nQ 35.25 24.703125 29.984375 24.703125 \r\nQ 19.046875 24.703125 12.671875 31.3125 \r\nQ 6.296875 37.9375 6.296875 49.421875 \r\nQ 6.296875 60.640625 12.9375 67.421875 \r\nQ 19.578125 74.21875 30.609375 74.21875 \r\nQ 43.265625 74.21875 49.921875 64.515625 \r\nQ 56.59375 54.828125 56.59375 36.375 \r\nQ 56.59375 19.140625 48.40625 8.859375 \r\nQ 40.234375 -1.421875 26.421875 -1.421875 \r\nQ 22.703125 -1.421875 18.890625 -0.6875 \r\nQ 15.09375 0.046875 10.984375 1.515625 \r\nz\r\nM 30.609375 32.421875 \r\nQ 37.25 32.421875 41.125 36.953125 \r\nQ 45.015625 41.5 45.015625 49.421875 \r\nQ 45.015625 57.28125 41.125 61.84375 \r\nQ 37.25 66.40625 30.609375 66.40625 \r\nQ 23.96875 66.40625 20.09375 61.84375 \r\nQ 16.21875 57.28125 16.21875 49.421875 \r\nQ 16.21875 41.5 20.09375 36.953125 \r\nQ 23.96875 32.421875 30.609375 32.421875 \r\nz\r\n\" id=\"DejaVuSans-57\"/>\r\n       </defs>\r\n       <use xlink:href=\"#DejaVuSans-57\"/>\r\n       <use x=\"63.623047\" xlink:href=\"#DejaVuSans-48\"/>\r\n       <use x=\"127.246094\" xlink:href=\"#DejaVuSans-48\"/>\r\n      </g>\r\n     </g>\r\n    </g>\r\n    <g id=\"ytick_3\">\r\n     <g id=\"line2d_9\">\r\n      <g>\r\n       <use style=\"stroke:#000000;stroke-width:0.8;\" x=\"57.199375\" xlink:href=\"#m4c978d00b7\" y=\"228.128281\"/>\r\n      </g>\r\n     </g>\r\n     <g id=\"text_10\">\r\n      <!-- 1000 -->\r\n      <g transform=\"translate(24.749375 231.9275)scale(0.1 -0.1)\">\r\n       <use xlink:href=\"#DejaVuSans-49\"/>\r\n       <use x=\"63.623047\" xlink:href=\"#DejaVuSans-48\"/>\r\n       <use x=\"127.246094\" xlink:href=\"#DejaVuSans-48\"/>\r\n       <use x=\"190.869141\" xlink:href=\"#DejaVuSans-48\"/>\r\n      </g>\r\n     </g>\r\n    </g>\r\n    <g id=\"ytick_4\">\r\n     <g id=\"line2d_10\">\r\n      <g>\r\n       <use style=\"stroke:#000000;stroke-width:0.8;\" x=\"57.199375\" xlink:href=\"#m4c978d00b7\" y=\"176.317402\"/>\r\n      </g>\r\n     </g>\r\n     <g id=\"text_11\">\r\n      <!-- 1100 -->\r\n      <g transform=\"translate(24.749375 180.11662)scale(0.1 -0.1)\">\r\n       <use xlink:href=\"#DejaVuSans-49\"/>\r\n       <use x=\"63.623047\" xlink:href=\"#DejaVuSans-49\"/>\r\n       <use x=\"127.246094\" xlink:href=\"#DejaVuSans-48\"/>\r\n       <use x=\"190.869141\" xlink:href=\"#DejaVuSans-48\"/>\r\n      </g>\r\n     </g>\r\n    </g>\r\n    <g id=\"ytick_5\">\r\n     <g id=\"line2d_11\">\r\n      <g>\r\n       <use style=\"stroke:#000000;stroke-width:0.8;\" x=\"57.199375\" xlink:href=\"#m4c978d00b7\" y=\"124.506522\"/>\r\n      </g>\r\n     </g>\r\n     <g id=\"text_12\">\r\n      <!-- 1200 -->\r\n      <g transform=\"translate(24.749375 128.305741)scale(0.1 -0.1)\">\r\n       <use xlink:href=\"#DejaVuSans-49\"/>\r\n       <use x=\"63.623047\" xlink:href=\"#DejaVuSans-50\"/>\r\n       <use x=\"127.246094\" xlink:href=\"#DejaVuSans-48\"/>\r\n       <use x=\"190.869141\" xlink:href=\"#DejaVuSans-48\"/>\r\n      </g>\r\n     </g>\r\n    </g>\r\n    <g id=\"ytick_6\">\r\n     <g id=\"line2d_12\">\r\n      <g>\r\n       <use style=\"stroke:#000000;stroke-width:0.8;\" x=\"57.199375\" xlink:href=\"#m4c978d00b7\" y=\"72.695642\"/>\r\n      </g>\r\n     </g>\r\n     <g id=\"text_13\">\r\n      <!-- 1300 -->\r\n      <g transform=\"translate(24.749375 76.494861)scale(0.1 -0.1)\">\r\n       <defs>\r\n        <path d=\"M 40.578125 39.3125 \r\nQ 47.65625 37.796875 51.625 33 \r\nQ 55.609375 28.21875 55.609375 21.1875 \r\nQ 55.609375 10.40625 48.1875 4.484375 \r\nQ 40.765625 -1.421875 27.09375 -1.421875 \r\nQ 22.515625 -1.421875 17.65625 -0.515625 \r\nQ 12.796875 0.390625 7.625 2.203125 \r\nL 7.625 11.71875 \r\nQ 11.71875 9.328125 16.59375 8.109375 \r\nQ 21.484375 6.890625 26.8125 6.890625 \r\nQ 36.078125 6.890625 40.9375 10.546875 \r\nQ 45.796875 14.203125 45.796875 21.1875 \r\nQ 45.796875 27.640625 41.28125 31.265625 \r\nQ 36.765625 34.90625 28.71875 34.90625 \r\nL 20.21875 34.90625 \r\nL 20.21875 43.015625 \r\nL 29.109375 43.015625 \r\nQ 36.375 43.015625 40.234375 45.921875 \r\nQ 44.09375 48.828125 44.09375 54.296875 \r\nQ 44.09375 59.90625 40.109375 62.90625 \r\nQ 36.140625 65.921875 28.71875 65.921875 \r\nQ 24.65625 65.921875 20.015625 65.03125 \r\nQ 15.375 64.15625 9.8125 62.3125 \r\nL 9.8125 71.09375 \r\nQ 15.4375 72.65625 20.34375 73.4375 \r\nQ 25.25 74.21875 29.59375 74.21875 \r\nQ 40.828125 74.21875 47.359375 69.109375 \r\nQ 53.90625 64.015625 53.90625 55.328125 \r\nQ 53.90625 49.265625 50.4375 45.09375 \r\nQ 46.96875 40.921875 40.578125 39.3125 \r\nz\r\n\" id=\"DejaVuSans-51\"/>\r\n       </defs>\r\n       <use xlink:href=\"#DejaVuSans-49\"/>\r\n       <use x=\"63.623047\" xlink:href=\"#DejaVuSans-51\"/>\r\n       <use x=\"127.246094\" xlink:href=\"#DejaVuSans-48\"/>\r\n       <use x=\"190.869141\" xlink:href=\"#DejaVuSans-48\"/>\r\n      </g>\r\n     </g>\r\n    </g>\r\n    <g id=\"ytick_7\">\r\n     <g id=\"line2d_13\">\r\n      <g>\r\n       <use style=\"stroke:#000000;stroke-width:0.8;\" x=\"57.199375\" xlink:href=\"#m4c978d00b7\" y=\"20.884763\"/>\r\n      </g>\r\n     </g>\r\n     <g id=\"text_14\">\r\n      <!-- 1400 -->\r\n      <g transform=\"translate(24.749375 24.683981)scale(0.1 -0.1)\">\r\n       <defs>\r\n        <path d=\"M 37.796875 64.3125 \r\nL 12.890625 25.390625 \r\nL 37.796875 25.390625 \r\nz\r\nM 35.203125 72.90625 \r\nL 47.609375 72.90625 \r\nL 47.609375 25.390625 \r\nL 58.015625 25.390625 \r\nL 58.015625 17.1875 \r\nL 47.609375 17.1875 \r\nL 47.609375 0 \r\nL 37.796875 0 \r\nL 37.796875 17.1875 \r\nL 4.890625 17.1875 \r\nL 4.890625 26.703125 \r\nz\r\n\" id=\"DejaVuSans-52\"/>\r\n       </defs>\r\n       <use xlink:href=\"#DejaVuSans-49\"/>\r\n       <use x=\"63.623047\" xlink:href=\"#DejaVuSans-52\"/>\r\n       <use x=\"127.246094\" xlink:href=\"#DejaVuSans-48\"/>\r\n       <use x=\"190.869141\" xlink:href=\"#DejaVuSans-48\"/>\r\n      </g>\r\n     </g>\r\n    </g>\r\n    <g id=\"text_15\">\r\n     <!-- MSE -->\r\n     <g transform=\"translate(17.837812 187.360792)rotate(-90)scale(0.14 -0.14)\">\r\n      <defs>\r\n       <path d=\"M 9.8125 72.90625 \r\nL 24.515625 72.90625 \r\nL 43.109375 23.296875 \r\nL 61.8125 72.90625 \r\nL 76.515625 72.90625 \r\nL 76.515625 0 \r\nL 66.890625 0 \r\nL 66.890625 64.015625 \r\nL 48.09375 14.015625 \r\nL 38.1875 14.015625 \r\nL 19.390625 64.015625 \r\nL 19.390625 0 \r\nL 9.8125 0 \r\nz\r\n\" id=\"DejaVuSans-77\"/>\r\n       <path d=\"M 53.515625 70.515625 \r\nL 53.515625 60.890625 \r\nQ 47.90625 63.578125 42.921875 64.890625 \r\nQ 37.9375 66.21875 33.296875 66.21875 \r\nQ 25.25 66.21875 20.875 63.09375 \r\nQ 16.5 59.96875 16.5 54.203125 \r\nQ 16.5 49.359375 19.40625 46.890625 \r\nQ 22.3125 44.4375 30.421875 42.921875 \r\nL 36.375 41.703125 \r\nQ 47.40625 39.59375 52.65625 34.296875 \r\nQ 57.90625 29 57.90625 20.125 \r\nQ 57.90625 9.515625 50.796875 4.046875 \r\nQ 43.703125 -1.421875 29.984375 -1.421875 \r\nQ 24.8125 -1.421875 18.96875 -0.25 \r\nQ 13.140625 0.921875 6.890625 3.21875 \r\nL 6.890625 13.375 \r\nQ 12.890625 10.015625 18.65625 8.296875 \r\nQ 24.421875 6.59375 29.984375 6.59375 \r\nQ 38.421875 6.59375 43.015625 9.90625 \r\nQ 47.609375 13.234375 47.609375 19.390625 \r\nQ 47.609375 24.75 44.3125 27.78125 \r\nQ 41.015625 30.8125 33.5 32.328125 \r\nL 27.484375 33.5 \r\nQ 16.453125 35.6875 11.515625 40.375 \r\nQ 6.59375 45.0625 6.59375 53.421875 \r\nQ 6.59375 63.09375 13.40625 68.65625 \r\nQ 20.21875 74.21875 32.171875 74.21875 \r\nQ 37.3125 74.21875 42.625 73.28125 \r\nQ 47.953125 72.359375 53.515625 70.515625 \r\nz\r\n\" id=\"DejaVuSans-83\"/>\r\n       <path d=\"M 9.8125 72.90625 \r\nL 55.90625 72.90625 \r\nL 55.90625 64.59375 \r\nL 19.671875 64.59375 \r\nL 19.671875 43.015625 \r\nL 54.390625 43.015625 \r\nL 54.390625 34.71875 \r\nL 19.671875 34.71875 \r\nL 19.671875 8.296875 \r\nL 56.78125 8.296875 \r\nL 56.78125 0 \r\nL 9.8125 0 \r\nz\r\n\" id=\"DejaVuSans-69\"/>\r\n      </defs>\r\n      <use xlink:href=\"#DejaVuSans-77\"/>\r\n      <use x=\"86.279297\" xlink:href=\"#DejaVuSans-83\"/>\r\n      <use x=\"149.755859\" xlink:href=\"#DejaVuSans-69\"/>\r\n     </g>\r\n    </g>\r\n   </g>\r\n   <g id=\"line2d_14\">\r\n    <path clip-path=\"url(#p284a321cdb)\" d=\"M 72.417557 24.199528 \r\nL 73.639901 41.948681 \r\nL 74.862245 57.781334 \r\nL 76.084589 71.928082 \r\nL 77.306933 84.591407 \r\nL 78.529276 95.949114 \r\nL 79.75162 106.157338 \r\nL 80.973964 115.353197 \r\nL 82.196308 123.657108 \r\nL 83.418652 131.174831 \r\nL 85.86334 144.211971 \r\nL 88.308028 155.080255 \r\nL 90.752716 164.254801 \r\nL 93.197403 172.102414 \r\nL 95.642091 178.906408 \r\nL 98.086779 184.885735 \r\nL 100.531467 190.209728 \r\nL 102.976155 195.009459 \r\nL 105.420843 199.386504 \r\nL 107.865531 203.41968 \r\nL 111.532562 208.954922 \r\nL 115.199594 214.004054 \r\nL 118.866626 218.672828 \r\nL 122.533658 223.034988 \r\nL 127.423033 228.461867 \r\nL 132.312409 233.518851 \r\nL 137.201785 238.261687 \r\nL 142.09116 242.728732 \r\nL 148.20288 247.96625 \r\nL 154.3146 252.855928 \r\nL 160.426319 257.428632 \r\nL 166.538039 261.709602 \r\nL 172.649758 265.720481 \r\nL 178.761478 269.480428 \r\nL 184.873198 273.006739 \r\nL 192.207261 276.952079 \r\nL 199.541325 280.608639 \r\nL 206.875388 283.999148 \r\nL 214.209452 287.144379 \r\nL 221.543515 290.063356 \r\nL 230.099923 293.20606 \r\nL 238.65633 296.089749 \r\nL 247.212738 298.737296 \r\nL 255.769145 301.169441 \r\nL 265.547896 303.709329 \r\nL 275.326648 306.017721 \r\nL 286.327743 308.366121 \r\nL 297.328838 310.478996 \r\nL 309.552278 312.581321 \r\nL 321.775717 314.455104 \r\nL 335.2215 316.284387 \r\nL 349.889627 318.038339 \r\nL 365.780098 319.693074 \r\nL 376.781193 320.708619 \r\nL 376.781193 320.708619 \r\n\" style=\"fill:none;stroke:#1f77b4;stroke-linecap:square;stroke-width:1.5;\"/>\r\n   </g>\r\n   <g id=\"patch_3\">\r\n    <path d=\"M 57.199375 335.534073 \r\nL 57.199375 9.374073 \r\n\" style=\"fill:none;stroke:#000000;stroke-linecap:square;stroke-linejoin:miter;stroke-width:0.8;\"/>\r\n   </g>\r\n   <g id=\"patch_4\">\r\n    <path d=\"M 391.999375 335.534073 \r\nL 391.999375 9.374073 \r\n\" style=\"fill:none;stroke:#000000;stroke-linecap:square;stroke-linejoin:miter;stroke-width:0.8;\"/>\r\n   </g>\r\n   <g id=\"patch_5\">\r\n    <path d=\"M 57.199375 335.534073 \r\nL 391.999375 335.534073 \r\n\" style=\"fill:none;stroke:#000000;stroke-linecap:square;stroke-linejoin:miter;stroke-width:0.8;\"/>\r\n   </g>\r\n   <g id=\"patch_6\">\r\n    <path d=\"M 57.199375 9.374073 \r\nL 391.999375 9.374073 \r\n\" style=\"fill:none;stroke:#000000;stroke-linecap:square;stroke-linejoin:miter;stroke-width:0.8;\"/>\r\n   </g>\r\n  </g>\r\n  <g id=\"axes_2\">\r\n   <g id=\"patch_7\">\r\n    <path d=\"M 559.399375 335.534073 \r\nL 894.199375 335.534073 \r\nL 894.199375 9.374073 \r\nL 559.399375 9.374073 \r\nz\r\n\" style=\"fill:#ffffff;\"/>\r\n   </g>\r\n   <g id=\"matplotlib.axis_3\">\r\n    <g id=\"xtick_7\">\r\n     <g id=\"line2d_15\">\r\n      <g>\r\n       <use style=\"stroke:#000000;stroke-width:0.8;\" x=\"574.617557\" xlink:href=\"#mc8a41944f9\" y=\"335.534073\"/>\r\n      </g>\r\n     </g>\r\n     <g id=\"text_16\">\r\n      <!-- 500 -->\r\n      <g transform=\"translate(565.073807 350.132511)scale(0.1 -0.1)\">\r\n       <use xlink:href=\"#DejaVuSans-53\"/>\r\n       <use x=\"63.623047\" xlink:href=\"#DejaVuSans-48\"/>\r\n       <use x=\"127.246094\" xlink:href=\"#DejaVuSans-48\"/>\r\n      </g>\r\n     </g>\r\n    </g>\r\n    <g id=\"xtick_8\">\r\n     <g id=\"line2d_16\">\r\n      <g>\r\n       <use style=\"stroke:#000000;stroke-width:0.8;\" x=\"618.222662\" xlink:href=\"#mc8a41944f9\" y=\"335.534073\"/>\r\n      </g>\r\n     </g>\r\n     <g id=\"text_17\">\r\n      <!-- 600 -->\r\n      <g transform=\"translate(608.678912 350.132511)scale(0.1 -0.1)\">\r\n       <defs>\r\n        <path d=\"M 33.015625 40.375 \r\nQ 26.375 40.375 22.484375 35.828125 \r\nQ 18.609375 31.296875 18.609375 23.390625 \r\nQ 18.609375 15.53125 22.484375 10.953125 \r\nQ 26.375 6.390625 33.015625 6.390625 \r\nQ 39.65625 6.390625 43.53125 10.953125 \r\nQ 47.40625 15.53125 47.40625 23.390625 \r\nQ 47.40625 31.296875 43.53125 35.828125 \r\nQ 39.65625 40.375 33.015625 40.375 \r\nz\r\nM 52.59375 71.296875 \r\nL 52.59375 62.3125 \r\nQ 48.875 64.0625 45.09375 64.984375 \r\nQ 41.3125 65.921875 37.59375 65.921875 \r\nQ 27.828125 65.921875 22.671875 59.328125 \r\nQ 17.53125 52.734375 16.796875 39.40625 \r\nQ 19.671875 43.65625 24.015625 45.921875 \r\nQ 28.375 48.1875 33.59375 48.1875 \r\nQ 44.578125 48.1875 50.953125 41.515625 \r\nQ 57.328125 34.859375 57.328125 23.390625 \r\nQ 57.328125 12.15625 50.6875 5.359375 \r\nQ 44.046875 -1.421875 33.015625 -1.421875 \r\nQ 20.359375 -1.421875 13.671875 8.265625 \r\nQ 6.984375 17.96875 6.984375 36.375 \r\nQ 6.984375 53.65625 15.1875 63.9375 \r\nQ 23.390625 74.21875 37.203125 74.21875 \r\nQ 40.921875 74.21875 44.703125 73.484375 \r\nQ 48.484375 72.75 52.59375 71.296875 \r\nz\r\n\" id=\"DejaVuSans-54\"/>\r\n       </defs>\r\n       <use xlink:href=\"#DejaVuSans-54\"/>\r\n       <use x=\"63.623047\" xlink:href=\"#DejaVuSans-48\"/>\r\n       <use x=\"127.246094\" xlink:href=\"#DejaVuSans-48\"/>\r\n      </g>\r\n     </g>\r\n    </g>\r\n    <g id=\"xtick_9\">\r\n     <g id=\"line2d_17\">\r\n      <g>\r\n       <use style=\"stroke:#000000;stroke-width:0.8;\" x=\"661.827768\" xlink:href=\"#mc8a41944f9\" y=\"335.534073\"/>\r\n      </g>\r\n     </g>\r\n     <g id=\"text_18\">\r\n      <!-- 700 -->\r\n      <g transform=\"translate(652.284018 350.132511)scale(0.1 -0.1)\">\r\n       <defs>\r\n        <path d=\"M 8.203125 72.90625 \r\nL 55.078125 72.90625 \r\nL 55.078125 68.703125 \r\nL 28.609375 0 \r\nL 18.3125 0 \r\nL 43.21875 64.59375 \r\nL 8.203125 64.59375 \r\nz\r\n\" id=\"DejaVuSans-55\"/>\r\n       </defs>\r\n       <use xlink:href=\"#DejaVuSans-55\"/>\r\n       <use x=\"63.623047\" xlink:href=\"#DejaVuSans-48\"/>\r\n       <use x=\"127.246094\" xlink:href=\"#DejaVuSans-48\"/>\r\n      </g>\r\n     </g>\r\n    </g>\r\n    <g id=\"xtick_10\">\r\n     <g id=\"line2d_18\">\r\n      <g>\r\n       <use style=\"stroke:#000000;stroke-width:0.8;\" x=\"705.432873\" xlink:href=\"#mc8a41944f9\" y=\"335.534073\"/>\r\n      </g>\r\n     </g>\r\n     <g id=\"text_19\">\r\n      <!-- 800 -->\r\n      <g transform=\"translate(695.889123 350.132511)scale(0.1 -0.1)\">\r\n       <use xlink:href=\"#DejaVuSans-56\"/>\r\n       <use x=\"63.623047\" xlink:href=\"#DejaVuSans-48\"/>\r\n       <use x=\"127.246094\" xlink:href=\"#DejaVuSans-48\"/>\r\n      </g>\r\n     </g>\r\n    </g>\r\n    <g id=\"xtick_11\">\r\n     <g id=\"line2d_19\">\r\n      <g>\r\n       <use style=\"stroke:#000000;stroke-width:0.8;\" x=\"749.037979\" xlink:href=\"#mc8a41944f9\" y=\"335.534073\"/>\r\n      </g>\r\n     </g>\r\n     <g id=\"text_20\">\r\n      <!-- 900 -->\r\n      <g transform=\"translate(739.494229 350.132511)scale(0.1 -0.1)\">\r\n       <use xlink:href=\"#DejaVuSans-57\"/>\r\n       <use x=\"63.623047\" xlink:href=\"#DejaVuSans-48\"/>\r\n       <use x=\"127.246094\" xlink:href=\"#DejaVuSans-48\"/>\r\n      </g>\r\n     </g>\r\n    </g>\r\n    <g id=\"xtick_12\">\r\n     <g id=\"line2d_20\">\r\n      <g>\r\n       <use style=\"stroke:#000000;stroke-width:0.8;\" x=\"792.643084\" xlink:href=\"#mc8a41944f9\" y=\"335.534073\"/>\r\n      </g>\r\n     </g>\r\n     <g id=\"text_21\">\r\n      <!-- 1000 -->\r\n      <g transform=\"translate(779.918084 350.132511)scale(0.1 -0.1)\">\r\n       <use xlink:href=\"#DejaVuSans-49\"/>\r\n       <use x=\"63.623047\" xlink:href=\"#DejaVuSans-48\"/>\r\n       <use x=\"127.246094\" xlink:href=\"#DejaVuSans-48\"/>\r\n       <use x=\"190.869141\" xlink:href=\"#DejaVuSans-48\"/>\r\n      </g>\r\n     </g>\r\n    </g>\r\n    <g id=\"xtick_13\">\r\n     <g id=\"line2d_21\">\r\n      <g>\r\n       <use style=\"stroke:#000000;stroke-width:0.8;\" x=\"836.24819\" xlink:href=\"#mc8a41944f9\" y=\"335.534073\"/>\r\n      </g>\r\n     </g>\r\n     <g id=\"text_22\">\r\n      <!-- 1100 -->\r\n      <g transform=\"translate(823.52319 350.132511)scale(0.1 -0.1)\">\r\n       <use xlink:href=\"#DejaVuSans-49\"/>\r\n       <use x=\"63.623047\" xlink:href=\"#DejaVuSans-49\"/>\r\n       <use x=\"127.246094\" xlink:href=\"#DejaVuSans-48\"/>\r\n       <use x=\"190.869141\" xlink:href=\"#DejaVuSans-48\"/>\r\n      </g>\r\n     </g>\r\n    </g>\r\n    <g id=\"xtick_14\">\r\n     <g id=\"line2d_22\">\r\n      <g>\r\n       <use style=\"stroke:#000000;stroke-width:0.8;\" x=\"879.853295\" xlink:href=\"#mc8a41944f9\" y=\"335.534073\"/>\r\n      </g>\r\n     </g>\r\n     <g id=\"text_23\">\r\n      <!-- 1200 -->\r\n      <g transform=\"translate(867.128295 350.132511)scale(0.1 -0.1)\">\r\n       <use xlink:href=\"#DejaVuSans-49\"/>\r\n       <use x=\"63.623047\" xlink:href=\"#DejaVuSans-50\"/>\r\n       <use x=\"127.246094\" xlink:href=\"#DejaVuSans-48\"/>\r\n       <use x=\"190.869141\" xlink:href=\"#DejaVuSans-48\"/>\r\n      </g>\r\n     </g>\r\n    </g>\r\n    <g id=\"text_24\">\r\n     <!-- Num of iterations -->\r\n     <g transform=\"translate(665.892812 366.850011)scale(0.14 -0.14)\">\r\n      <use xlink:href=\"#DejaVuSans-78\"/>\r\n      <use x=\"74.804688\" xlink:href=\"#DejaVuSans-117\"/>\r\n      <use x=\"138.183594\" xlink:href=\"#DejaVuSans-109\"/>\r\n      <use x=\"235.595703\" xlink:href=\"#DejaVuSans-32\"/>\r\n      <use x=\"267.382812\" xlink:href=\"#DejaVuSans-111\"/>\r\n      <use x=\"328.564453\" xlink:href=\"#DejaVuSans-102\"/>\r\n      <use x=\"363.769531\" xlink:href=\"#DejaVuSans-32\"/>\r\n      <use x=\"395.556641\" xlink:href=\"#DejaVuSans-105\"/>\r\n      <use x=\"423.339844\" xlink:href=\"#DejaVuSans-116\"/>\r\n      <use x=\"462.548828\" xlink:href=\"#DejaVuSans-101\"/>\r\n      <use x=\"524.072266\" xlink:href=\"#DejaVuSans-114\"/>\r\n      <use x=\"565.185547\" xlink:href=\"#DejaVuSans-97\"/>\r\n      <use x=\"626.464844\" xlink:href=\"#DejaVuSans-116\"/>\r\n      <use x=\"665.673828\" xlink:href=\"#DejaVuSans-105\"/>\r\n      <use x=\"693.457031\" xlink:href=\"#DejaVuSans-111\"/>\r\n      <use x=\"754.638672\" xlink:href=\"#DejaVuSans-110\"/>\r\n      <use x=\"818.017578\" xlink:href=\"#DejaVuSans-115\"/>\r\n     </g>\r\n    </g>\r\n   </g>\r\n   <g id=\"matplotlib.axis_4\">\r\n    <g id=\"ytick_8\">\r\n     <g id=\"line2d_23\">\r\n      <g>\r\n       <use style=\"stroke:#000000;stroke-width:0.8;\" x=\"559.399375\" xlink:href=\"#m4c978d00b7\" y=\"300.114934\"/>\r\n      </g>\r\n     </g>\r\n     <g id=\"text_25\">\r\n      <!-- 796 -->\r\n      <g transform=\"translate(533.311875 303.914152)scale(0.1 -0.1)\">\r\n       <use xlink:href=\"#DejaVuSans-55\"/>\r\n       <use x=\"63.623047\" xlink:href=\"#DejaVuSans-57\"/>\r\n       <use x=\"127.246094\" xlink:href=\"#DejaVuSans-54\"/>\r\n      </g>\r\n     </g>\r\n    </g>\r\n    <g id=\"ytick_9\">\r\n     <g id=\"line2d_24\">\r\n      <g>\r\n       <use style=\"stroke:#000000;stroke-width:0.8;\" x=\"559.399375\" xlink:href=\"#m4c978d00b7\" y=\"251.928981\"/>\r\n      </g>\r\n     </g>\r\n     <g id=\"text_26\">\r\n      <!-- 797 -->\r\n      <g transform=\"translate(533.311875 255.7282)scale(0.1 -0.1)\">\r\n       <use xlink:href=\"#DejaVuSans-55\"/>\r\n       <use x=\"63.623047\" xlink:href=\"#DejaVuSans-57\"/>\r\n       <use x=\"127.246094\" xlink:href=\"#DejaVuSans-55\"/>\r\n      </g>\r\n     </g>\r\n    </g>\r\n    <g id=\"ytick_10\">\r\n     <g id=\"line2d_25\">\r\n      <g>\r\n       <use style=\"stroke:#000000;stroke-width:0.8;\" x=\"559.399375\" xlink:href=\"#m4c978d00b7\" y=\"203.743029\"/>\r\n      </g>\r\n     </g>\r\n     <g id=\"text_27\">\r\n      <!-- 798 -->\r\n      <g transform=\"translate(533.311875 207.542247)scale(0.1 -0.1)\">\r\n       <use xlink:href=\"#DejaVuSans-55\"/>\r\n       <use x=\"63.623047\" xlink:href=\"#DejaVuSans-57\"/>\r\n       <use x=\"127.246094\" xlink:href=\"#DejaVuSans-56\"/>\r\n      </g>\r\n     </g>\r\n    </g>\r\n    <g id=\"ytick_11\">\r\n     <g id=\"line2d_26\">\r\n      <g>\r\n       <use style=\"stroke:#000000;stroke-width:0.8;\" x=\"559.399375\" xlink:href=\"#m4c978d00b7\" y=\"155.557076\"/>\r\n      </g>\r\n     </g>\r\n     <g id=\"text_28\">\r\n      <!-- 799 -->\r\n      <g transform=\"translate(533.311875 159.356295)scale(0.1 -0.1)\">\r\n       <use xlink:href=\"#DejaVuSans-55\"/>\r\n       <use x=\"63.623047\" xlink:href=\"#DejaVuSans-57\"/>\r\n       <use x=\"127.246094\" xlink:href=\"#DejaVuSans-57\"/>\r\n      </g>\r\n     </g>\r\n    </g>\r\n    <g id=\"ytick_12\">\r\n     <g id=\"line2d_27\">\r\n      <g>\r\n       <use style=\"stroke:#000000;stroke-width:0.8;\" x=\"559.399375\" xlink:href=\"#m4c978d00b7\" y=\"107.371124\"/>\r\n      </g>\r\n     </g>\r\n     <g id=\"text_29\">\r\n      <!-- 800 -->\r\n      <g transform=\"translate(533.311875 111.170342)scale(0.1 -0.1)\">\r\n       <use xlink:href=\"#DejaVuSans-56\"/>\r\n       <use x=\"63.623047\" xlink:href=\"#DejaVuSans-48\"/>\r\n       <use x=\"127.246094\" xlink:href=\"#DejaVuSans-48\"/>\r\n      </g>\r\n     </g>\r\n    </g>\r\n    <g id=\"ytick_13\">\r\n     <g id=\"line2d_28\">\r\n      <g>\r\n       <use style=\"stroke:#000000;stroke-width:0.8;\" x=\"559.399375\" xlink:href=\"#m4c978d00b7\" y=\"59.185171\"/>\r\n      </g>\r\n     </g>\r\n     <g id=\"text_30\">\r\n      <!-- 801 -->\r\n      <g transform=\"translate(533.311875 62.98439)scale(0.1 -0.1)\">\r\n       <use xlink:href=\"#DejaVuSans-56\"/>\r\n       <use x=\"63.623047\" xlink:href=\"#DejaVuSans-48\"/>\r\n       <use x=\"127.246094\" xlink:href=\"#DejaVuSans-49\"/>\r\n      </g>\r\n     </g>\r\n    </g>\r\n    <g id=\"ytick_14\">\r\n     <g id=\"line2d_29\">\r\n      <g>\r\n       <use style=\"stroke:#000000;stroke-width:0.8;\" x=\"559.399375\" xlink:href=\"#m4c978d00b7\" y=\"10.999219\"/>\r\n      </g>\r\n     </g>\r\n     <g id=\"text_31\">\r\n      <!-- 802 -->\r\n      <g transform=\"translate(533.311875 14.798438)scale(0.1 -0.1)\">\r\n       <use xlink:href=\"#DejaVuSans-56\"/>\r\n       <use x=\"63.623047\" xlink:href=\"#DejaVuSans-48\"/>\r\n       <use x=\"127.246094\" xlink:href=\"#DejaVuSans-50\"/>\r\n      </g>\r\n     </g>\r\n    </g>\r\n    <g id=\"text_32\">\r\n     <!-- MSE -->\r\n     <g transform=\"translate(526.400312 187.360792)rotate(-90)scale(0.14 -0.14)\">\r\n      <use xlink:href=\"#DejaVuSans-77\"/>\r\n      <use x=\"86.279297\" xlink:href=\"#DejaVuSans-83\"/>\r\n      <use x=\"149.755859\" xlink:href=\"#DejaVuSans-69\"/>\r\n     </g>\r\n    </g>\r\n   </g>\r\n   <g id=\"line2d_30\">\r\n    <path clip-path=\"url(#p90b2352dcd)\" d=\"M 574.617557 24.199528 \r\nL 578.978067 35.608708 \r\nL 583.338578 46.368686 \r\nL 587.699088 56.53569 \r\nL 592.059599 66.160276 \r\nL 596.42011 75.287955 \r\nL 601.216671 84.803291 \r\nL 606.013233 93.815895 \r\nL 610.809794 102.369562 \r\nL 616.042407 111.223369 \r\nL 621.27502 119.622976 \r\nL 626.507632 127.608733 \r\nL 632.176296 135.834517 \r\nL 637.84496 143.657231 \r\nL 643.513624 151.112749 \r\nL 649.618338 158.767516 \r\nL 655.723053 166.068391 \r\nL 662.263819 173.533188 \r\nL 668.804585 180.660849 \r\nL 675.781402 187.925271 \r\nL 682.758218 194.871078 \r\nL 690.171086 201.932649 \r\nL 697.583954 208.694545 \r\nL 705.432873 215.555656 \r\nL 713.717843 222.493226 \r\nL 722.002813 229.144284 \r\nL 730.723834 235.861653 \r\nL 739.880907 242.627326 \r\nL 749.037979 249.122093 \r\nL 758.631102 255.658414 \r\nL 768.660276 262.221407 \r\nL 779.125502 268.797363 \r\nL 789.590727 275.115654 \r\nL 800.492003 281.442846 \r\nL 811.829331 287.766933 \r\nL 823.602709 294.076662 \r\nL 835.812139 300.36146 \r\nL 848.021568 306.400062 \r\nL 860.667049 312.41118 \r\nL 873.748581 318.385212 \r\nL 878.981193 320.708619 \r\nL 878.981193 320.708619 \r\n\" style=\"fill:none;stroke:#1f77b4;stroke-linecap:square;stroke-width:1.5;\"/>\r\n   </g>\r\n   <g id=\"patch_8\">\r\n    <path d=\"M 559.399375 335.534073 \r\nL 559.399375 9.374073 \r\n\" style=\"fill:none;stroke:#000000;stroke-linecap:square;stroke-linejoin:miter;stroke-width:0.8;\"/>\r\n   </g>\r\n   <g id=\"patch_9\">\r\n    <path d=\"M 894.199375 335.534073 \r\nL 894.199375 9.374073 \r\n\" style=\"fill:none;stroke:#000000;stroke-linecap:square;stroke-linejoin:miter;stroke-width:0.8;\"/>\r\n   </g>\r\n   <g id=\"patch_10\">\r\n    <path d=\"M 559.399375 335.534073 \r\nL 894.199375 335.534073 \r\n\" style=\"fill:none;stroke:#000000;stroke-linecap:square;stroke-linejoin:miter;stroke-width:0.8;\"/>\r\n   </g>\r\n   <g id=\"patch_11\">\r\n    <path d=\"M 559.399375 9.374073 \r\nL 894.199375 9.374073 \r\n\" style=\"fill:none;stroke:#000000;stroke-linecap:square;stroke-linejoin:miter;stroke-width:0.8;\"/>\r\n   </g>\r\n  </g>\r\n </g>\r\n <defs>\r\n  <clipPath id=\"p284a321cdb\">\r\n   <rect height=\"326.16\" width=\"334.8\" x=\"57.199375\" y=\"9.374073\"/>\r\n  </clipPath>\r\n  <clipPath id=\"p90b2352dcd\">\r\n   <rect height=\"326.16\" width=\"334.8\" x=\"559.399375\" y=\"9.374073\"/>\r\n  </clipPath>\r\n </defs>\r\n</svg>\r\n",
      "image/png": "[encoded data removed]"
     },
     "metadata": {
      "needs_background": "light"
     }
    }
   ],
   "source": [
    "%%time\n",
    "import matplotlib.pyplot as plt\n",
    "\n",
    "# Out the MSE jumping over learning rate and iterations\n",
    "fig, ax = plt.subplots(nrows = 1, ncols = 2, figsize = (15, 6))\n",
    "\n",
    "ax[0].plot(range(0,250), cost[0:250])\n",
    "ax[1].plot(range(500,1199), cost[500:1199])\n",
    "plt.subplots_adjust(wspace=0.5)\n",
    "\n",
    "ax[0].set_xlabel('Num of iterations', fontsize = 14)\n",
    "ax[1].set_xlabel('Num of iterations', fontsize = 14)\n",
    "ax[0].set_ylabel('MSE', fontsize = 14)\n",
    "ax[1].set_ylabel('MSE', fontsize = 14)"
   ]
  },
  {
   "cell_type": "code",
   "execution_count": 5,
   "metadata": {},
   "outputs": [
    {
     "output_type": "stream",
     "name": "stdout",
     "text": [
      "Wall time: 5.03 s\n"
     ]
    }
   ],
   "source": [
    "%%time\n",
    "X_train_list = []\n",
    "y_train_list = []\n",
    "\n",
    "\"\"\"    Now fill in every list of 5 vars\n",
    "      plus one more == summury of all-rs   \"\"\"\n",
    "\n",
    "for i in range(5):\n",
    "    delta = pd.read_csv(syspathTraining + fileTraining[i], index_col=False, header=None).iloc[:,:-1]\n",
    "    delta = scale(delta,axis=0)\n",
    "    X_train_list.append(delta)\n",
    "\n",
    "    delta = pd.read_csv(syspathTraining + fileTraining[i], index_col=False, header=None).iloc[:,-1:]\n",
    "    y_train_list.append(delta)\n",
    "\n",
    "X_train_list.append(x)\n",
    "y_train_list.append(fullTraining.iloc[:,-1:])\n",
    "\n",
    "\"\"\"     And now for the test-ones     \"\"\"\n",
    "\n",
    "sysPathTesting = str(os.getcwd()).replace('SubaevRuslan_1.ipynb','') + \"/facebook-comment-volume-prediction-master/dataset/Testing/TestSet/\"\n",
    "fileTesting = ['Test_Case_1.csv', 'Test_Case_2.csv', 'Test_Case_3.csv',\n",
    "              'Test_Case_4.csv', 'Test_Case_5.csv',  \n",
    "              'Test_Case_6.csv', 'Test_Case_7.csv', 'Test_Case_8.csv', \n",
    "              'Test_Case_9.csv', 'Test_Case_10.csv']\n",
    "X_test_list = []\n",
    "y_test_list = []\n",
    "fullTesting = pd.concat(pd.read_csv(sysPathTesting + path, index_col=False, header=None) for path in fileTesting)\n",
    "\n",
    "for i in range(10):\n",
    "    delta = pd.read_csv(sysPathTesting + fileTesting[i], index_col=False, header=None).iloc[:,:-1]\n",
    "    delta = scale(delta, axis=0)\n",
    "    X_test_list.append(delta)\n",
    "\n",
    "    delta = pd.read_csv(sysPathTesting + fileTesting[i], index_col=False, header=None).iloc[:,-1:]\n",
    "    y_test_list.append(delta)\n",
    "\n",
    "xT = fullTesting.iloc[:,:-1]\n",
    "xT = scale(xT, axis=0)\n",
    "X_test_list.append(xT)\n",
    "y_test_list.append(fullTesting.iloc[:,-1:])"
   ]
  },
  {
   "cell_type": "code",
   "execution_count": 6,
   "metadata": {},
   "outputs": [
    {
     "output_type": "stream",
     "name": "stdout",
     "text": [
      "Variant 1:   RMSE:  29.399 \n",
      "\t     R**2:  0.3139\n",
      "Variant 2:   RMSE:  29.901 \n",
      "\t     R**2:  0.312\n",
      "Variant 3:   RMSE:  27.042 \n",
      "\t     R**2:  0.3471\n",
      "Variant 4:   RMSE:  28.191 \n",
      "\t     R**2:  0.325\n",
      "Variant 5:   RMSE:  27.946 \n",
      "\t     R**2:  0.336\n",
      "Variant overall: RMSE 28.204\n",
      "\t\t R**2:  0.3302\n",
      "\n",
      "Wall time: 2min 56s\n"
     ]
    },
    {
     "output_type": "execute_result",
     "data": {
      "text/plain": [
       "      Actual  Predicted\n",
       "0        [0]          0\n",
       "1        [0]          0\n",
       "2        [0]          0\n",
       "3        [0]          0\n",
       "4        [0]          0\n",
       "...      ...        ...\n",
       "40944    [1]         27\n",
       "40945    [2]         29\n",
       "40946   [72]        162\n",
       "40947   [28]         48\n",
       "40948   [11]         55\n",
       "\n",
       "[40949 rows x 2 columns]"
      ],
      "text/html": "<div>\n<style scoped>\n    .dataframe tbody tr th:only-of-type {\n        vertical-align: middle;\n    }\n\n    .dataframe tbody tr th {\n        vertical-align: top;\n    }\n\n    .dataframe thead th {\n        text-align: right;\n    }\n</style>\n<table border=\"1\" class=\"dataframe\">\n  <thead>\n    <tr style=\"text-align: right;\">\n      <th></th>\n      <th>Actual</th>\n      <th>Predicted</th>\n    </tr>\n  </thead>\n  <tbody>\n    <tr>\n      <th>0</th>\n      <td>[0]</td>\n      <td>0</td>\n    </tr>\n    <tr>\n      <th>1</th>\n      <td>[0]</td>\n      <td>0</td>\n    </tr>\n    <tr>\n      <th>2</th>\n      <td>[0]</td>\n      <td>0</td>\n    </tr>\n    <tr>\n      <th>3</th>\n      <td>[0]</td>\n      <td>0</td>\n    </tr>\n    <tr>\n      <th>4</th>\n      <td>[0]</td>\n      <td>0</td>\n    </tr>\n    <tr>\n      <th>...</th>\n      <td>...</td>\n      <td>...</td>\n    </tr>\n    <tr>\n      <th>40944</th>\n      <td>[1]</td>\n      <td>27</td>\n    </tr>\n    <tr>\n      <th>40945</th>\n      <td>[2]</td>\n      <td>29</td>\n    </tr>\n    <tr>\n      <th>40946</th>\n      <td>[72]</td>\n      <td>162</td>\n    </tr>\n    <tr>\n      <th>40947</th>\n      <td>[28]</td>\n      <td>48</td>\n    </tr>\n    <tr>\n      <th>40948</th>\n      <td>[11]</td>\n      <td>55</td>\n    </tr>\n  </tbody>\n</table>\n<p>40949 rows × 2 columns</p>\n</div>"
     },
     "metadata": {},
     "execution_count": 6
    }
   ],
   "source": [
    "%%time\n",
    "from sklearn.metrics import mean_squared_error\n",
    "from math import sqrt\n",
    "\n",
    "from sklearn.metrics import r2_score\n",
    "'''\n",
    "                    ##           Def for Training-ones            ##\n",
    "'''\n",
    "final=[]\n",
    "final_any=[]\n",
    "rmse_any=[]\n",
    "r2_any=[]\n",
    "s=0\n",
    "t=1\n",
    "\n",
    "for i in range(6):\n",
    "    for every in X_train_list[i]:\n",
    "        for each in every:\n",
    "            s+=each*theta[t]\n",
    "            t+=1\n",
    "\n",
    "        if(s<0): final.append(0)\n",
    "        else: final.append(float(s).__round__())\n",
    "        s=0  \n",
    "        t=1\n",
    "\n",
    "    final = np.array(final)\n",
    "    rmse = sqrt(mean_squared_error(y_train_list[i], final))\n",
    "    rmse_any.append(rmse)\n",
    "    final_any.append(final)\n",
    "    final=[]\n",
    "\n",
    "    if i == 5: \n",
    "        print(\"Variant overall: RMSE\", int(rmse*1000)/1000)\n",
    "    else:\n",
    "        r2 = r2_score(np.array(y_train_list[i]), np.array(final_any[i]))\n",
    "        r2_any.append(r2)\n",
    "        print(\"Variant {0}: \".format(i + 1),' RMSE: ', int(rmse*1000)/1000,'\\n\\t','    R**2: ',int(r2*10000)/10000)\n",
    "\n",
    "r2 = r2_score(np.array(y_train_list[5]), np.array(final_any[5]))\n",
    "r2_any.append(r2)\n",
    "print('\\t\\t R**2: ',int(r2*10000)/10000, end='\\n\\n')\n",
    "\n",
    "check = pd.DataFrame({'Actual': np.array(y_train_list[0]).tolist(), 'Predicted': np.array(final_any[0]).tolist()})\n",
    "check"
   ]
  },
  {
   "cell_type": "code",
   "execution_count": 7,
   "metadata": {
    "tags": []
   },
   "outputs": [
    {
     "output_type": "stream",
     "name": "stdout",
     "text": [
      "Variant 1:   RMSE:  76.986 \n",
      "\t     R**2:  0.1604\n",
      "Variant 2:   RMSE:  76.136 \n",
      "\t     R**2:  0.2165\n",
      "Variant 3:   RMSE:  39.722 \n",
      "\t     R**2:  0.2292\n",
      "Variant 4:   RMSE:  131.925 \n",
      "\t     R**2:  0.0377\n",
      "Variant 5:   RMSE:  56.973 \n",
      "\t     R**2:  0.1529\n",
      "Variant 6:   RMSE:  29.871 \n",
      "\t     R**2:  0.4478\n",
      "Variant 7:   RMSE:  63.516 \n",
      "\t     R**2:  0.1618\n",
      "Variant 8:   RMSE:  217.912 \n",
      "\t     R**2:  0.0031\n",
      "Variant 9:   RMSE:  48.692 \n",
      "\t     R**2:  -0.1058\n",
      "Variant 10:  RMSE:  109.304 \n",
      "\t     R**2:  0.1581\n",
      "Variant overall: RMSE 100.883\n",
      "\t\t R**2:  0.0717\n",
      "\n",
      "Wall time: 323 ms\n"
     ]
    },
    {
     "output_type": "execute_result",
     "data": {
      "text/plain": [
       "   Actual  Predicted\n",
       "0     [0]          0\n",
       "1     [2]          0\n",
       "2   [188]         63\n",
       "3   [333]        108\n",
       "4     [1]          0\n",
       "..    ...        ...\n",
       "95    [1]          2\n",
       "96   [11]          5\n",
       "97    [8]          3\n",
       "98    [0]          0\n",
       "99    [0]          0\n",
       "\n",
       "[100 rows x 2 columns]"
      ],
      "text/html": "<div>\n<style scoped>\n    .dataframe tbody tr th:only-of-type {\n        vertical-align: middle;\n    }\n\n    .dataframe tbody tr th {\n        vertical-align: top;\n    }\n\n    .dataframe thead th {\n        text-align: right;\n    }\n</style>\n<table border=\"1\" class=\"dataframe\">\n  <thead>\n    <tr style=\"text-align: right;\">\n      <th></th>\n      <th>Actual</th>\n      <th>Predicted</th>\n    </tr>\n  </thead>\n  <tbody>\n    <tr>\n      <th>0</th>\n      <td>[0]</td>\n      <td>0</td>\n    </tr>\n    <tr>\n      <th>1</th>\n      <td>[2]</td>\n      <td>0</td>\n    </tr>\n    <tr>\n      <th>2</th>\n      <td>[188]</td>\n      <td>63</td>\n    </tr>\n    <tr>\n      <th>3</th>\n      <td>[333]</td>\n      <td>108</td>\n    </tr>\n    <tr>\n      <th>4</th>\n      <td>[1]</td>\n      <td>0</td>\n    </tr>\n    <tr>\n      <th>...</th>\n      <td>...</td>\n      <td>...</td>\n    </tr>\n    <tr>\n      <th>95</th>\n      <td>[1]</td>\n      <td>2</td>\n    </tr>\n    <tr>\n      <th>96</th>\n      <td>[11]</td>\n      <td>5</td>\n    </tr>\n    <tr>\n      <th>97</th>\n      <td>[8]</td>\n      <td>3</td>\n    </tr>\n    <tr>\n      <th>98</th>\n      <td>[0]</td>\n      <td>0</td>\n    </tr>\n    <tr>\n      <th>99</th>\n      <td>[0]</td>\n      <td>0</td>\n    </tr>\n  </tbody>\n</table>\n<p>100 rows × 2 columns</p>\n</div>"
     },
     "metadata": {},
     "execution_count": 7
    }
   ],
   "source": [
    "%%time\n",
    "'''\n",
    "                    ##           Def for Test-ones            ##\n",
    "'''\n",
    "\n",
    "final_Test=[]\n",
    "final_any_Test=[]\n",
    "rmse_any_Test=[]\n",
    "r2_any_Test=[]\n",
    "s=0\n",
    "t=1\n",
    "\n",
    "for i in range(11):\n",
    "    for every in X_test_list[i]:\n",
    "        for each in every:\n",
    "            s+=each*theta[t]\n",
    "            t+=1\n",
    "        \n",
    "        if(s<0): final_Test.append(0)\n",
    "        else: final_Test.append(float(s).__round__())\n",
    "        s=0  \n",
    "        t=1\n",
    "    \n",
    "    final_Test = np.array(final_Test)\n",
    "    rmse = sqrt(mean_squared_error(y_test_list[i], final_Test))\n",
    "    rmse_any_Test.append(rmse)\n",
    "    final_any_Test.append(final_Test)\n",
    "    final_Test=[]\n",
    "    \n",
    "    if i == 10:\n",
    "        print(\"Variant overall: RMSE\", int(rmse*1000)/1000)\n",
    "    else:\n",
    "        r2 = r2_score(np.array(y_test_list[i]), np.array(final_any_Test[i]))\n",
    "        r2_any_Test.append(r2)\n",
    "        if i!=9:\n",
    "            print(\"Variant {0}: \".format(i + 1),' RMSE: ', int(rmse*1000)/1000,'\\n\\t','    R**2: ',int(r2*10000)/10000)\n",
    "        else:\n",
    "            print(\"Variant {0}: \".format(i + 1),'RMSE: ', int(rmse*1000)/1000,'\\n\\t','    R**2: ',int(r2*10000)/10000)\n",
    "\n",
    "r2 = r2_score(np.array(y_test_list[10]), np.array(final_any_Test[10]))\n",
    "r2_any_Test.append(r2)\n",
    "print('\\t\\t R**2: ',int(r2*10000)/10000, end='\\n\\n')\n",
    "\n",
    "check = pd.DataFrame({'Actual': np.array(y_test_list[5]).tolist(), 'Predicted': np.array(final_any_Test[5]).tolist()})\n",
    "check"
   ]
  },
  {
   "cell_type": "code",
   "execution_count": 8,
   "metadata": {},
   "outputs": [
    {
     "output_type": "stream",
     "name": "stdout",
     "text": [
      "Wall time: 1.99 ms\n"
     ]
    }
   ],
   "source": [
    "%%time\n",
    "'''\n",
    "                    ##           Output            ##\n",
    "'''\n",
    "indexes = []\n",
    "for i in range(54):\n",
    "    indexes.append('f-'+str(i))\n",
    "main = []\n",
    "main.append(r2_any[:5]), main.append(rmse_any[:5]), main.append(rmse_any_Test[:5])\n",
    "main = np.array(main)\n",
    "\n",
    "e = []\n",
    "delta = 0\n",
    "\n",
    "# E calc\n",
    "for each in main:\n",
    "    for every in each:\n",
    "        delta+=every\n",
    "    e.append(delta/5)\n",
    "    delta = 0\n",
    "\n",
    "# STD calc\n",
    "std = []\n",
    "for every in main:\n",
    "    std.append(np.var(every))\n",
    "\n",
    "dfOutMain = pd.DataFrame(main.reshape(3,5), index=['R2', 'RMSE-train', 'RMSE-test'], columns=['T1','T2','T3','T4','T5'])\n",
    "dfOutPar = pd.DataFrame({\n",
    "    'E': e,\n",
    "    'STD': std,\n",
    "}, index=['R2', 'RMSE-train', 'RMSE-test'])\n",
    "dfOutCost = pd.DataFrame(theta, index=indexes, columns=['Features'])"
   ]
  },
  {
   "cell_type": "code",
   "execution_count": 12,
   "metadata": {},
   "outputs": [],
   "source": [
    "out1 = pd.concat([dfOutMain,dfOutPar],sort=False,axis=1)\n",
    "out = pd.concat([out1,dfOutCost],sort=False,axis=1)\n",
    "\n",
    "with pd.ExcelWriter(\"SubaevRuslan.xlsx\") as writer:\n",
    "    out.to_excel(writer)"
   ]
  },
  {
   "cell_type": "code",
   "execution_count": 13,
   "metadata": {},
   "outputs": [
    {
     "output_type": "execute_result",
     "data": {
      "text/plain": [
       "                   T1         T2         T3          T4         T5          E  \\\n",
       "R2           0.313919   0.312003   0.347128    0.325005   0.336074   0.326826   \n",
       "RMSE-train  29.399780  29.901173  27.042845   28.191634  27.946662  28.496419   \n",
       "RMSE-test   76.986492  76.136785  39.722538  131.925168  56.973941  76.348985   \n",
       "f-0               NaN        NaN        NaN         NaN        NaN        NaN   \n",
       "f-1               NaN        NaN        NaN         NaN        NaN        NaN   \n",
       "f-2               NaN        NaN        NaN         NaN        NaN        NaN   \n",
       "f-3               NaN        NaN        NaN         NaN        NaN        NaN   \n",
       "f-4               NaN        NaN        NaN         NaN        NaN        NaN   \n",
       "f-5               NaN        NaN        NaN         NaN        NaN        NaN   \n",
       "f-6               NaN        NaN        NaN         NaN        NaN        NaN   \n",
       "f-7               NaN        NaN        NaN         NaN        NaN        NaN   \n",
       "f-8               NaN        NaN        NaN         NaN        NaN        NaN   \n",
       "f-9               NaN        NaN        NaN         NaN        NaN        NaN   \n",
       "f-10              NaN        NaN        NaN         NaN        NaN        NaN   \n",
       "f-11              NaN        NaN        NaN         NaN        NaN        NaN   \n",
       "f-12              NaN        NaN        NaN         NaN        NaN        NaN   \n",
       "f-13              NaN        NaN        NaN         NaN        NaN        NaN   \n",
       "f-14              NaN        NaN        NaN         NaN        NaN        NaN   \n",
       "f-15              NaN        NaN        NaN         NaN        NaN        NaN   \n",
       "f-16              NaN        NaN        NaN         NaN        NaN        NaN   \n",
       "f-17              NaN        NaN        NaN         NaN        NaN        NaN   \n",
       "f-18              NaN        NaN        NaN         NaN        NaN        NaN   \n",
       "f-19              NaN        NaN        NaN         NaN        NaN        NaN   \n",
       "f-20              NaN        NaN        NaN         NaN        NaN        NaN   \n",
       "f-21              NaN        NaN        NaN         NaN        NaN        NaN   \n",
       "f-22              NaN        NaN        NaN         NaN        NaN        NaN   \n",
       "f-23              NaN        NaN        NaN         NaN        NaN        NaN   \n",
       "f-24              NaN        NaN        NaN         NaN        NaN        NaN   \n",
       "f-25              NaN        NaN        NaN         NaN        NaN        NaN   \n",
       "f-26              NaN        NaN        NaN         NaN        NaN        NaN   \n",
       "f-27              NaN        NaN        NaN         NaN        NaN        NaN   \n",
       "f-28              NaN        NaN        NaN         NaN        NaN        NaN   \n",
       "f-29              NaN        NaN        NaN         NaN        NaN        NaN   \n",
       "f-30              NaN        NaN        NaN         NaN        NaN        NaN   \n",
       "f-31              NaN        NaN        NaN         NaN        NaN        NaN   \n",
       "f-32              NaN        NaN        NaN         NaN        NaN        NaN   \n",
       "f-33              NaN        NaN        NaN         NaN        NaN        NaN   \n",
       "f-34              NaN        NaN        NaN         NaN        NaN        NaN   \n",
       "f-35              NaN        NaN        NaN         NaN        NaN        NaN   \n",
       "f-36              NaN        NaN        NaN         NaN        NaN        NaN   \n",
       "f-37              NaN        NaN        NaN         NaN        NaN        NaN   \n",
       "f-38              NaN        NaN        NaN         NaN        NaN        NaN   \n",
       "f-39              NaN        NaN        NaN         NaN        NaN        NaN   \n",
       "f-40              NaN        NaN        NaN         NaN        NaN        NaN   \n",
       "f-41              NaN        NaN        NaN         NaN        NaN        NaN   \n",
       "f-42              NaN        NaN        NaN         NaN        NaN        NaN   \n",
       "f-43              NaN        NaN        NaN         NaN        NaN        NaN   \n",
       "f-44              NaN        NaN        NaN         NaN        NaN        NaN   \n",
       "f-45              NaN        NaN        NaN         NaN        NaN        NaN   \n",
       "f-46              NaN        NaN        NaN         NaN        NaN        NaN   \n",
       "f-47              NaN        NaN        NaN         NaN        NaN        NaN   \n",
       "f-48              NaN        NaN        NaN         NaN        NaN        NaN   \n",
       "f-49              NaN        NaN        NaN         NaN        NaN        NaN   \n",
       "f-50              NaN        NaN        NaN         NaN        NaN        NaN   \n",
       "f-51              NaN        NaN        NaN         NaN        NaN        NaN   \n",
       "f-52              NaN        NaN        NaN         NaN        NaN        NaN   \n",
       "f-53              NaN        NaN        NaN         NaN        NaN        NaN   \n",
       "\n",
       "                   STD  Features  \n",
       "R2            0.000177       NaN  \n",
       "RMSE-train    1.059479       NaN  \n",
       "RMSE-test   961.210508       NaN  \n",
       "f-0                NaN  7.093006  \n",
       "f-1                NaN -0.312826  \n",
       "f-2                NaN -0.357470  \n",
       "f-3                NaN -0.343880  \n",
       "f-4                NaN  0.112294  \n",
       "f-5                NaN  0.141869  \n",
       "f-6                NaN  2.003962  \n",
       "f-7                NaN  0.222846  \n",
       "f-8                NaN -1.549680  \n",
       "f-9                NaN  1.224043  \n",
       "f-10               NaN  0.043411  \n",
       "f-11               NaN -0.873184  \n",
       "f-12               NaN -0.441469  \n",
       "f-13               NaN  2.993559  \n",
       "f-14               NaN  1.021579  \n",
       "f-15               NaN  0.042093  \n",
       "f-16               NaN -0.788459  \n",
       "f-17               NaN  2.532619  \n",
       "f-18               NaN  2.130393  \n",
       "f-19               NaN  0.661605  \n",
       "f-20               NaN -0.984935  \n",
       "f-21               NaN -0.961148  \n",
       "f-22               NaN -0.655088  \n",
       "f-23               NaN  0.518498  \n",
       "f-24               NaN -0.455820  \n",
       "f-25               NaN -0.431231  \n",
       "f-26               NaN -1.386356  \n",
       "f-27               NaN  1.313914  \n",
       "f-28               NaN -0.231359  \n",
       "f-29               NaN  0.591655  \n",
       "f-30               NaN  1.689647  \n",
       "f-31               NaN  9.730609  \n",
       "f-32               NaN -0.273077  \n",
       "f-33               NaN -0.252390  \n",
       "f-34               NaN  4.928619  \n",
       "f-35               NaN -4.418068  \n",
       "f-36               NaN  0.004732  \n",
       "f-37               NaN  1.827254  \n",
       "f-38               NaN  1.360648  \n",
       "f-39               NaN  0.894913  \n",
       "f-40               NaN  0.017663  \n",
       "f-41               NaN  0.211611  \n",
       "f-42               NaN  0.640990  \n",
       "f-43               NaN  0.752056  \n",
       "f-44               NaN  0.295672  \n",
       "f-45               NaN  0.148114  \n",
       "f-46               NaN -0.072576  \n",
       "f-47               NaN  0.697559  \n",
       "f-48               NaN  0.793770  \n",
       "f-49               NaN  0.623163  \n",
       "f-50               NaN  0.526485  \n",
       "f-51               NaN -0.036931  \n",
       "f-52               NaN  0.253871  \n",
       "f-53               NaN  0.444350  "
      ],
      "text/html": "<div>\n<style scoped>\n    .dataframe tbody tr th:only-of-type {\n        vertical-align: middle;\n    }\n\n    .dataframe tbody tr th {\n        vertical-align: top;\n    }\n\n    .dataframe thead th {\n        text-align: right;\n    }\n</style>\n<table border=\"1\" class=\"dataframe\">\n  <thead>\n    <tr style=\"text-align: right;\">\n      <th></th>\n      <th>T1</th>\n      <th>T2</th>\n      <th>T3</th>\n      <th>T4</th>\n      <th>T5</th>\n      <th>E</th>\n      <th>STD</th>\n      <th>Features</th>\n    </tr>\n  </thead>\n  <tbody>\n    <tr>\n      <th>R2</th>\n      <td>0.313919</td>\n      <td>0.312003</td>\n      <td>0.347128</td>\n      <td>0.325005</td>\n      <td>0.336074</td>\n      <td>0.326826</td>\n      <td>0.000177</td>\n      <td>NaN</td>\n    </tr>\n    <tr>\n      <th>RMSE-train</th>\n      <td>29.399780</td>\n      <td>29.901173</td>\n      <td>27.042845</td>\n      <td>28.191634</td>\n      <td>27.946662</td>\n      <td>28.496419</td>\n      <td>1.059479</td>\n      <td>NaN</td>\n    </tr>\n    <tr>\n      <th>RMSE-test</th>\n      <td>76.986492</td>\n      <td>76.136785</td>\n      <td>39.722538</td>\n      <td>131.925168</td>\n      <td>56.973941</td>\n      <td>76.348985</td>\n      <td>961.210508</td>\n      <td>NaN</td>\n    </tr>\n    <tr>\n      <th>f-0</th>\n      <td>NaN</td>\n      <td>NaN</td>\n      <td>NaN</td>\n      <td>NaN</td>\n      <td>NaN</td>\n      <td>NaN</td>\n      <td>NaN</td>\n      <td>7.093006</td>\n    </tr>\n    <tr>\n      <th>f-1</th>\n      <td>NaN</td>\n      <td>NaN</td>\n      <td>NaN</td>\n      <td>NaN</td>\n      <td>NaN</td>\n      <td>NaN</td>\n      <td>NaN</td>\n      <td>-0.312826</td>\n    </tr>\n    <tr>\n      <th>f-2</th>\n      <td>NaN</td>\n      <td>NaN</td>\n      <td>NaN</td>\n      <td>NaN</td>\n      <td>NaN</td>\n      <td>NaN</td>\n      <td>NaN</td>\n      <td>-0.357470</td>\n    </tr>\n    <tr>\n      <th>f-3</th>\n      <td>NaN</td>\n      <td>NaN</td>\n      <td>NaN</td>\n      <td>NaN</td>\n      <td>NaN</td>\n      <td>NaN</td>\n      <td>NaN</td>\n      <td>-0.343880</td>\n    </tr>\n    <tr>\n      <th>f-4</th>\n      <td>NaN</td>\n      <td>NaN</td>\n      <td>NaN</td>\n      <td>NaN</td>\n      <td>NaN</td>\n      <td>NaN</td>\n      <td>NaN</td>\n      <td>0.112294</td>\n    </tr>\n    <tr>\n      <th>f-5</th>\n      <td>NaN</td>\n      <td>NaN</td>\n      <td>NaN</td>\n      <td>NaN</td>\n      <td>NaN</td>\n      <td>NaN</td>\n      <td>NaN</td>\n      <td>0.141869</td>\n    </tr>\n    <tr>\n      <th>f-6</th>\n      <td>NaN</td>\n      <td>NaN</td>\n      <td>NaN</td>\n      <td>NaN</td>\n      <td>NaN</td>\n      <td>NaN</td>\n      <td>NaN</td>\n      <td>2.003962</td>\n    </tr>\n    <tr>\n      <th>f-7</th>\n      <td>NaN</td>\n      <td>NaN</td>\n      <td>NaN</td>\n      <td>NaN</td>\n      <td>NaN</td>\n      <td>NaN</td>\n      <td>NaN</td>\n      <td>0.222846</td>\n    </tr>\n    <tr>\n      <th>f-8</th>\n      <td>NaN</td>\n      <td>NaN</td>\n      <td>NaN</td>\n      <td>NaN</td>\n      <td>NaN</td>\n      <td>NaN</td>\n      <td>NaN</td>\n      <td>-1.549680</td>\n    </tr>\n    <tr>\n      <th>f-9</th>\n      <td>NaN</td>\n      <td>NaN</td>\n      <td>NaN</td>\n      <td>NaN</td>\n      <td>NaN</td>\n      <td>NaN</td>\n      <td>NaN</td>\n      <td>1.224043</td>\n    </tr>\n    <tr>\n      <th>f-10</th>\n      <td>NaN</td>\n      <td>NaN</td>\n      <td>NaN</td>\n      <td>NaN</td>\n      <td>NaN</td>\n      <td>NaN</td>\n      <td>NaN</td>\n      <td>0.043411</td>\n    </tr>\n    <tr>\n      <th>f-11</th>\n      <td>NaN</td>\n      <td>NaN</td>\n      <td>NaN</td>\n      <td>NaN</td>\n      <td>NaN</td>\n      <td>NaN</td>\n      <td>NaN</td>\n      <td>-0.873184</td>\n    </tr>\n    <tr>\n      <th>f-12</th>\n      <td>NaN</td>\n      <td>NaN</td>\n      <td>NaN</td>\n      <td>NaN</td>\n      <td>NaN</td>\n      <td>NaN</td>\n      <td>NaN</td>\n      <td>-0.441469</td>\n    </tr>\n    <tr>\n      <th>f-13</th>\n      <td>NaN</td>\n      <td>NaN</td>\n      <td>NaN</td>\n      <td>NaN</td>\n      <td>NaN</td>\n      <td>NaN</td>\n      <td>NaN</td>\n      <td>2.993559</td>\n    </tr>\n    <tr>\n      <th>f-14</th>\n      <td>NaN</td>\n      <td>NaN</td>\n      <td>NaN</td>\n      <td>NaN</td>\n      <td>NaN</td>\n      <td>NaN</td>\n      <td>NaN</td>\n      <td>1.021579</td>\n    </tr>\n    <tr>\n      <th>f-15</th>\n      <td>NaN</td>\n      <td>NaN</td>\n      <td>NaN</td>\n      <td>NaN</td>\n      <td>NaN</td>\n      <td>NaN</td>\n      <td>NaN</td>\n      <td>0.042093</td>\n    </tr>\n    <tr>\n      <th>f-16</th>\n      <td>NaN</td>\n      <td>NaN</td>\n      <td>NaN</td>\n      <td>NaN</td>\n      <td>NaN</td>\n      <td>NaN</td>\n      <td>NaN</td>\n      <td>-0.788459</td>\n    </tr>\n    <tr>\n      <th>f-17</th>\n      <td>NaN</td>\n      <td>NaN</td>\n      <td>NaN</td>\n      <td>NaN</td>\n      <td>NaN</td>\n      <td>NaN</td>\n      <td>NaN</td>\n      <td>2.532619</td>\n    </tr>\n    <tr>\n      <th>f-18</th>\n      <td>NaN</td>\n      <td>NaN</td>\n      <td>NaN</td>\n      <td>NaN</td>\n      <td>NaN</td>\n      <td>NaN</td>\n      <td>NaN</td>\n      <td>2.130393</td>\n    </tr>\n    <tr>\n      <th>f-19</th>\n      <td>NaN</td>\n      <td>NaN</td>\n      <td>NaN</td>\n      <td>NaN</td>\n      <td>NaN</td>\n      <td>NaN</td>\n      <td>NaN</td>\n      <td>0.661605</td>\n    </tr>\n    <tr>\n      <th>f-20</th>\n      <td>NaN</td>\n      <td>NaN</td>\n      <td>NaN</td>\n      <td>NaN</td>\n      <td>NaN</td>\n      <td>NaN</td>\n      <td>NaN</td>\n      <td>-0.984935</td>\n    </tr>\n    <tr>\n      <th>f-21</th>\n      <td>NaN</td>\n      <td>NaN</td>\n      <td>NaN</td>\n      <td>NaN</td>\n      <td>NaN</td>\n      <td>NaN</td>\n      <td>NaN</td>\n      <td>-0.961148</td>\n    </tr>\n    <tr>\n      <th>f-22</th>\n      <td>NaN</td>\n      <td>NaN</td>\n      <td>NaN</td>\n      <td>NaN</td>\n      <td>NaN</td>\n      <td>NaN</td>\n      <td>NaN</td>\n      <td>-0.655088</td>\n    </tr>\n    <tr>\n      <th>f-23</th>\n      <td>NaN</td>\n      <td>NaN</td>\n      <td>NaN</td>\n      <td>NaN</td>\n      <td>NaN</td>\n      <td>NaN</td>\n      <td>NaN</td>\n      <td>0.518498</td>\n    </tr>\n    <tr>\n      <th>f-24</th>\n      <td>NaN</td>\n      <td>NaN</td>\n      <td>NaN</td>\n      <td>NaN</td>\n      <td>NaN</td>\n      <td>NaN</td>\n      <td>NaN</td>\n      <td>-0.455820</td>\n    </tr>\n    <tr>\n      <th>f-25</th>\n      <td>NaN</td>\n      <td>NaN</td>\n      <td>NaN</td>\n      <td>NaN</td>\n      <td>NaN</td>\n      <td>NaN</td>\n      <td>NaN</td>\n      <td>-0.431231</td>\n    </tr>\n    <tr>\n      <th>f-26</th>\n      <td>NaN</td>\n      <td>NaN</td>\n      <td>NaN</td>\n      <td>NaN</td>\n      <td>NaN</td>\n      <td>NaN</td>\n      <td>NaN</td>\n      <td>-1.386356</td>\n    </tr>\n    <tr>\n      <th>f-27</th>\n      <td>NaN</td>\n      <td>NaN</td>\n      <td>NaN</td>\n      <td>NaN</td>\n      <td>NaN</td>\n      <td>NaN</td>\n      <td>NaN</td>\n      <td>1.313914</td>\n    </tr>\n    <tr>\n      <th>f-28</th>\n      <td>NaN</td>\n      <td>NaN</td>\n      <td>NaN</td>\n      <td>NaN</td>\n      <td>NaN</td>\n      <td>NaN</td>\n      <td>NaN</td>\n      <td>-0.231359</td>\n    </tr>\n    <tr>\n      <th>f-29</th>\n      <td>NaN</td>\n      <td>NaN</td>\n      <td>NaN</td>\n      <td>NaN</td>\n      <td>NaN</td>\n      <td>NaN</td>\n      <td>NaN</td>\n      <td>0.591655</td>\n    </tr>\n    <tr>\n      <th>f-30</th>\n      <td>NaN</td>\n      <td>NaN</td>\n      <td>NaN</td>\n      <td>NaN</td>\n      <td>NaN</td>\n      <td>NaN</td>\n      <td>NaN</td>\n      <td>1.689647</td>\n    </tr>\n    <tr>\n      <th>f-31</th>\n      <td>NaN</td>\n      <td>NaN</td>\n      <td>NaN</td>\n      <td>NaN</td>\n      <td>NaN</td>\n      <td>NaN</td>\n      <td>NaN</td>\n      <td>9.730609</td>\n    </tr>\n    <tr>\n      <th>f-32</th>\n      <td>NaN</td>\n      <td>NaN</td>\n      <td>NaN</td>\n      <td>NaN</td>\n      <td>NaN</td>\n      <td>NaN</td>\n      <td>NaN</td>\n      <td>-0.273077</td>\n    </tr>\n    <tr>\n      <th>f-33</th>\n      <td>NaN</td>\n      <td>NaN</td>\n      <td>NaN</td>\n      <td>NaN</td>\n      <td>NaN</td>\n      <td>NaN</td>\n      <td>NaN</td>\n      <td>-0.252390</td>\n    </tr>\n    <tr>\n      <th>f-34</th>\n      <td>NaN</td>\n      <td>NaN</td>\n      <td>NaN</td>\n      <td>NaN</td>\n      <td>NaN</td>\n      <td>NaN</td>\n      <td>NaN</td>\n      <td>4.928619</td>\n    </tr>\n    <tr>\n      <th>f-35</th>\n      <td>NaN</td>\n      <td>NaN</td>\n      <td>NaN</td>\n      <td>NaN</td>\n      <td>NaN</td>\n      <td>NaN</td>\n      <td>NaN</td>\n      <td>-4.418068</td>\n    </tr>\n    <tr>\n      <th>f-36</th>\n      <td>NaN</td>\n      <td>NaN</td>\n      <td>NaN</td>\n      <td>NaN</td>\n      <td>NaN</td>\n      <td>NaN</td>\n      <td>NaN</td>\n      <td>0.004732</td>\n    </tr>\n    <tr>\n      <th>f-37</th>\n      <td>NaN</td>\n      <td>NaN</td>\n      <td>NaN</td>\n      <td>NaN</td>\n      <td>NaN</td>\n      <td>NaN</td>\n      <td>NaN</td>\n      <td>1.827254</td>\n    </tr>\n    <tr>\n      <th>f-38</th>\n      <td>NaN</td>\n      <td>NaN</td>\n      <td>NaN</td>\n      <td>NaN</td>\n      <td>NaN</td>\n      <td>NaN</td>\n      <td>NaN</td>\n      <td>1.360648</td>\n    </tr>\n    <tr>\n      <th>f-39</th>\n      <td>NaN</td>\n      <td>NaN</td>\n      <td>NaN</td>\n      <td>NaN</td>\n      <td>NaN</td>\n      <td>NaN</td>\n      <td>NaN</td>\n      <td>0.894913</td>\n    </tr>\n    <tr>\n      <th>f-40</th>\n      <td>NaN</td>\n      <td>NaN</td>\n      <td>NaN</td>\n      <td>NaN</td>\n      <td>NaN</td>\n      <td>NaN</td>\n      <td>NaN</td>\n      <td>0.017663</td>\n    </tr>\n    <tr>\n      <th>f-41</th>\n      <td>NaN</td>\n      <td>NaN</td>\n      <td>NaN</td>\n      <td>NaN</td>\n      <td>NaN</td>\n      <td>NaN</td>\n      <td>NaN</td>\n      <td>0.211611</td>\n    </tr>\n    <tr>\n      <th>f-42</th>\n      <td>NaN</td>\n      <td>NaN</td>\n      <td>NaN</td>\n      <td>NaN</td>\n      <td>NaN</td>\n      <td>NaN</td>\n      <td>NaN</td>\n      <td>0.640990</td>\n    </tr>\n    <tr>\n      <th>f-43</th>\n      <td>NaN</td>\n      <td>NaN</td>\n      <td>NaN</td>\n      <td>NaN</td>\n      <td>NaN</td>\n      <td>NaN</td>\n      <td>NaN</td>\n      <td>0.752056</td>\n    </tr>\n    <tr>\n      <th>f-44</th>\n      <td>NaN</td>\n      <td>NaN</td>\n      <td>NaN</td>\n      <td>NaN</td>\n      <td>NaN</td>\n      <td>NaN</td>\n      <td>NaN</td>\n      <td>0.295672</td>\n    </tr>\n    <tr>\n      <th>f-45</th>\n      <td>NaN</td>\n      <td>NaN</td>\n      <td>NaN</td>\n      <td>NaN</td>\n      <td>NaN</td>\n      <td>NaN</td>\n      <td>NaN</td>\n      <td>0.148114</td>\n    </tr>\n    <tr>\n      <th>f-46</th>\n      <td>NaN</td>\n      <td>NaN</td>\n      <td>NaN</td>\n      <td>NaN</td>\n      <td>NaN</td>\n      <td>NaN</td>\n      <td>NaN</td>\n      <td>-0.072576</td>\n    </tr>\n    <tr>\n      <th>f-47</th>\n      <td>NaN</td>\n      <td>NaN</td>\n      <td>NaN</td>\n      <td>NaN</td>\n      <td>NaN</td>\n      <td>NaN</td>\n      <td>NaN</td>\n      <td>0.697559</td>\n    </tr>\n    <tr>\n      <th>f-48</th>\n      <td>NaN</td>\n      <td>NaN</td>\n      <td>NaN</td>\n      <td>NaN</td>\n      <td>NaN</td>\n      <td>NaN</td>\n      <td>NaN</td>\n      <td>0.793770</td>\n    </tr>\n    <tr>\n      <th>f-49</th>\n      <td>NaN</td>\n      <td>NaN</td>\n      <td>NaN</td>\n      <td>NaN</td>\n      <td>NaN</td>\n      <td>NaN</td>\n      <td>NaN</td>\n      <td>0.623163</td>\n    </tr>\n    <tr>\n      <th>f-50</th>\n      <td>NaN</td>\n      <td>NaN</td>\n      <td>NaN</td>\n      <td>NaN</td>\n      <td>NaN</td>\n      <td>NaN</td>\n      <td>NaN</td>\n      <td>0.526485</td>\n    </tr>\n    <tr>\n      <th>f-51</th>\n      <td>NaN</td>\n      <td>NaN</td>\n      <td>NaN</td>\n      <td>NaN</td>\n      <td>NaN</td>\n      <td>NaN</td>\n      <td>NaN</td>\n      <td>-0.036931</td>\n    </tr>\n    <tr>\n      <th>f-52</th>\n      <td>NaN</td>\n      <td>NaN</td>\n      <td>NaN</td>\n      <td>NaN</td>\n      <td>NaN</td>\n      <td>NaN</td>\n      <td>NaN</td>\n      <td>0.253871</td>\n    </tr>\n    <tr>\n      <th>f-53</th>\n      <td>NaN</td>\n      <td>NaN</td>\n      <td>NaN</td>\n      <td>NaN</td>\n      <td>NaN</td>\n      <td>NaN</td>\n      <td>NaN</td>\n      <td>0.444350</td>\n    </tr>\n  </tbody>\n</table>\n</div>"
     },
     "metadata": {},
     "execution_count": 13
    }
   ],
   "source": [
    "out"
   ]
  },
  {
   "cell_type": "code",
   "execution_count": 15,
   "metadata": {},
   "outputs": [],
   "source": [
    "# # Coefficient of determination\n",
    "# d1 = np.array(y_train_list[5]) - np.array(pd.DataFrame(final))\n",
    "# d2 = np.array(y_train_list[5]) - np.array(pd.DataFrame(final)).mean()\n",
    "# r2 = 1 - d1.dot(d1)/d2.dot(d2)\n",
    "\n",
    "# print(\"Coefficient of determination: \", r2)\n",
    "\n",
    "# def rSquare(estimations, measureds):\n",
    "#     \"\"\" \n",
    "#             Compute the coefficient of determination of random data. \n",
    "#     This metric gives the level of confidence about the model used to model data\n",
    "#     \"\"\"\n",
    "\n",
    "#     SEE =  (( np.array(measureds) - np.array(estimations) )**2 ).sum()\n",
    "#     mMean = (np.array(measureds)).sum() / float(len(measureds))\n",
    "#     dErr = ((mMean - measureds)).sum()\n",
    "\n",
    "#     return 1 - (SEE / dErr)\n",
    "\n",
    "# rSquare(np.array(y_train_list[5]),np.array(pd.DataFrame(final))"
   ]
  }
 ]
}