{
 "metadata": {
  "language_info": {
   "codemirror_mode": {
    "name": "ipython",
    "version": 3
   },
   "file_extension": ".py",
   "mimetype": "text/x-python",
   "name": "python",
   "nbconvert_exporter": "python",
   "pygments_lexer": "ipython3",
   "version": "3.9.1"
  },
  "orig_nbformat": 2,
  "kernelspec": {
   "name": "python3",
   "display_name": "Python 3.9.1 64-bit",
   "metadata": {
    "interpreter": {
     "hash": "7bc11272627b579e4447e2eebf3fb89d685460e5f2727d5fd6d47c813d9e2e04"
    }
   }
  }
 },
 "nbformat": 4,
 "nbformat_minor": 2,
 "cells": [
  {
   "cell_type": "code",
   "execution_count": 1,
   "metadata": {},
   "outputs": [],
   "source": [
    "import numpy as np\n",
    "import pandas as pd\n",
    "\n",
    "import numpy as np\n",
    "import csv\n",
    "\n",
    "from sklearn.model_selection import KFold\n",
    "from sklearn.utils import shuffle\n",
    "from sklearn.preprocessing import OneHotEncoder\n",
    "from scipy.sparse import hstack, diags"
   ]
  },
  {
   "cell_type": "code",
   "execution_count": 2,
   "metadata": {},
   "outputs": [
    {
     "output_type": "stream",
     "name": "stdout",
     "text": [
      "Processing data-set 1/4 ...\n",
      "     Data-set 1/4 completed\n",
      "Processing data-set 2/4 ...\n",
      "     Data-set 2/4 completed\n",
      "Processing data-set 3/4 ...\n",
      "     Data-set 3/4 completed\n",
      "Processing data-set 4/4 ...\n",
      "     Data-set 4/4 completed\n",
      "\n",
      "Wall time: 2min 31s\n"
     ]
    }
   ],
   "source": [
    "%%time\n",
    "'''                      ##           Fill all txt in one .csv            ##                      '''\n",
    "\n",
    "combined_data_file_name = \"./combined_data_%s.txt\"\n",
    "\n",
    "target_f = open(\"./processed_data.csv\", \"w+\")\n",
    "for i in {1,2,3,4}:\n",
    "    print(\"Processing data-set \" + str(i) + \"/4 ...\")\n",
    "    \n",
    "    cur_movie_id = None\n",
    "    with open(combined_data_file_name % i) as csv_file:\n",
    "        csv_reader = csv.reader(csv_file, delimiter=',')\n",
    "\n",
    "        for row in csv_reader:\n",
    "            if (len(row) == 1):\n",
    "                cur_movie_id = row[0][:-1]\n",
    "            else:\n",
    "                user_id = row[0]\n",
    "                rating = row[1]\n",
    "                \n",
    "                target_f.write(user_id + \",\" + rating + \",\" + cur_movie_id + \"\\n\")\n",
    "    print(\"     Data-set \" + str(i) + \"/4 completed\")\n",
    "\n",
    "target_f.close()\n",
    "print()"
   ]
  },
  {
   "cell_type": "code",
   "execution_count": 3,
   "metadata": {},
   "outputs": [
    {
     "output_type": "stream",
     "name": "stdout",
     "text": [
      "Wall time: 1.61 s\n"
     ]
    }
   ],
   "source": [
    "%%time\n",
    "'''                      ##           Download dataset -> one-hot            ##                      '''\n",
    "\n",
    "train_csv = \"processed_data.csv\"\n",
    "columns = [\"user_id\", \"film_rating\", \"film_id\"]\n",
    "num_of_lines = 2 * 10**6\n",
    "data = pd.read_csv(train_csv, header=None, names=columns, nrows=num_of_lines)\n",
    "\n",
    "encoder = OneHotEncoder(categories=\"auto\")\n",
    "# (number_of_ratings x number_of_users)\n",
    "user_matrix = encoder.fit_transform(np.asarray(data['user_id']).reshape(-1,1))\n",
    "\n",
    "# (number_of_ratings x number_of_movie_ids)\n",
    "film_matrix = encoder.fit_transform(np.asarray(data['film_id']).reshape(-1,1))\n",
    "\n",
    "ones = np.ones(shape=(num_of_lines, 1))\n",
    "X = hstack([ones, user_matrix, film_matrix]).tocsr()\n",
    "y = np.asarray(data['film_rating']).reshape(-1,1)\n",
    "# do shuffling so records will be evenly distributed over the matrix    \n",
    "X,y = shuffle(X,y)"
   ]
  },
  {
   "cell_type": "code",
   "execution_count": 4,
   "metadata": {},
   "outputs": [],
   "source": [
    "def MSE(y, y_pred):\n",
    "    return np.sum(np.square(y-y_pred))/len(y)\n",
    "def RMSE(y, y_pred):\n",
    "    return np.sqrt(MSE(y, y_pred))\n",
    "def R2(y, y_pred):\n",
    "    return 1-(np.sum(np.square(y-y_pred)))/(np.sum(np.square(y-y.mean())))\n",
    "\n",
    "# pre-calc sum for gradient\n",
    "def gr_sum(X, V):\n",
    "    return X.dot(V)\n",
    "def predict(X, w, V):\n",
    "    a = np.sum(np.square(X.dot(V)), axis=1).reshape(-1,1)\n",
    "    b = np.sum(X.power(2).dot(np.square(V)), axis=1).reshape(-1,1)\n",
    "    \n",
    "    return X.dot(w)+0.5*(a-b)"
   ]
  },
  {
   "cell_type": "code",
   "execution_count": 5,
   "metadata": {},
   "outputs": [],
   "source": [
    "def step_of_gradient(X, y, w, V, eta):  # [!!!] there is re-calc weights here \n",
    "    # re-calc w\n",
    "    w += (2 * eta / len(y)) * X.T.dot(y - X.dot(w))\n",
    "    \n",
    "    precomputed = gr_sum(X, V)\n",
    "    y_pred = predict(X, w, V)\n",
    "    \n",
    "    # re-calc V_i\n",
    "    for i in range(V.shape[1]):\n",
    "        a_diagonal = diags(np.array(precomputed)[:, i])\n",
    "        a = a_diagonal.dot(X)\n",
    "        \n",
    "        b_diagonal = diags(V[:, i])\n",
    "        b = X.power(2).dot(b_diagonal)\n",
    "        \n",
    "        V[:, i] += (2 * eta / X.shape[1]) * (a - b).T.dot(y - y_pred).reshape((-1,))\n",
    "    \n",
    "    return w, V\n",
    "\n",
    "def gradient(X, y, w_init, V_init, eta, max_iter):\n",
    "    weight_dist = np.inf\n",
    "    w = w_init\n",
    "    V = V_init\n",
    "    errors = list()\n",
    "\n",
    "    for i in range(max_iter+1):\n",
    "        w_next, V_next = step_of_gradient(X, y, w, V, eta)\n",
    "        y_pred = predict(X, w_next, V_next)\n",
    "\n",
    "        errors.append(MSE(y, y_pred))\n",
    "\n",
    "        if i % 10 == 0 and i != 0:\n",
    "            if i == 100: print(f\"\\tCur-Step is {i} <->  Cur-MSE is {errors[i]}\")\n",
    "            else:        print(f\"\\tCur-Step is {i}  <->  Cur-MSE is {errors[i]}\")\n",
    "        \n",
    "        w = w_next\n",
    "        V = V_next\n",
    "    return w, V, errors"
   ]
  },
  {
   "cell_type": "code",
   "execution_count": 6,
   "metadata": {},
   "outputs": [
    {
     "output_type": "stream",
     "name": "stdout",
     "text": [
      "Processing 1 era ... \n",
      "\tCur-Step is 10  <->  Cur-MSE is 6.380132792192279\n",
      "\tCur-Step is 20  <->  Cur-MSE is 3.411156807349815\n",
      "\tCur-Step is 30  <->  Cur-MSE is 2.1245085692511063\n",
      "\tCur-Step is 40  <->  Cur-MSE is 1.5666527595807063\n",
      "\tCur-Step is 50  <->  Cur-MSE is 1.3245183798419387\n",
      "\tCur-Step is 60  <->  Cur-MSE is 1.219163158178651\n",
      "\tCur-Step is 70  <->  Cur-MSE is 1.1730692106927703\n",
      "\tCur-Step is 80  <->  Cur-MSE is 1.1526556258799685\n",
      "\tCur-Step is 90  <->  Cur-MSE is 1.1433749611073099\n",
      "\tCur-Step is 100 <->  Cur-MSE is 1.1389250642104034\n",
      "Processing 2 era ... \n",
      "\tCur-Step is 10  <->  Cur-MSE is 6.3809854315592975\n",
      "\tCur-Step is 20  <->  Cur-MSE is 3.4108885005135945\n",
      "\tCur-Step is 30  <->  Cur-MSE is 2.123747753583092\n",
      "\tCur-Step is 40  <->  Cur-MSE is 1.5656740649330954\n",
      "\tCur-Step is 50  <->  Cur-MSE is 1.3234418432674635\n",
      "\tCur-Step is 60  <->  Cur-MSE is 1.2180412731364556\n",
      "\tCur-Step is 70  <->  Cur-MSE is 1.1719249614135803\n",
      "\tCur-Step is 80  <->  Cur-MSE is 1.1514991045049128\n",
      "\tCur-Step is 90  <->  Cur-MSE is 1.1422106271765193\n",
      "\tCur-Step is 100 <->  Cur-MSE is 1.1377549158879996\n",
      "Processing 3 era ... \n",
      "\tCur-Step is 10  <->  Cur-MSE is 6.3810338226507\n",
      "\tCur-Step is 20  <->  Cur-MSE is 3.411659806036874\n",
      "\tCur-Step is 30  <->  Cur-MSE is 2.124827684562563\n",
      "\tCur-Step is 40  <->  Cur-MSE is 1.5668865421884062\n",
      "\tCur-Step is 50  <->  Cur-MSE is 1.3247120513813284\n",
      "\tCur-Step is 60  <->  Cur-MSE is 1.219337428451597\n",
      "\tCur-Step is 70  <->  Cur-MSE is 1.1732335594447525\n",
      "\tCur-Step is 80  <->  Cur-MSE is 1.152814402262137\n",
      "\tCur-Step is 90  <->  Cur-MSE is 1.1435301757915626\n",
      "\tCur-Step is 100 <->  Cur-MSE is 1.1390776638670788\n",
      "Processing 4 era ... \n",
      "\tCur-Step is 10  <->  Cur-MSE is 6.380810509341956\n",
      "\tCur-Step is 20  <->  Cur-MSE is 3.411514834169042\n",
      "\tCur-Step is 30  <->  Cur-MSE is 2.124744261014894\n",
      "\tCur-Step is 40  <->  Cur-MSE is 1.5668420072459472\n",
      "\tCur-Step is 50  <->  Cur-MSE is 1.3246899168347797\n",
      "\tCur-Step is 60  <->  Cur-MSE is 1.2193276544038338\n",
      "\tCur-Step is 70  <->  Cur-MSE is 1.17323053503465\n",
      "\tCur-Step is 80  <->  Cur-MSE is 1.1528151442036016\n",
      "\tCur-Step is 90  <->  Cur-MSE is 1.1435331465121124\n",
      "\tCur-Step is 100 <->  Cur-MSE is 1.1390820855908188\n",
      "Processing 5 era ... \n",
      "\tCur-Step is 10  <->  Cur-MSE is 6.3800081330594365\n",
      "\tCur-Step is 20  <->  Cur-MSE is 3.410581793654251\n",
      "\tCur-Step is 30  <->  Cur-MSE is 2.1237408911588656\n",
      "\tCur-Step is 40  <->  Cur-MSE is 1.56580160408606\n",
      "\tCur-Step is 50  <->  Cur-MSE is 1.3236300052974124\n",
      "\tCur-Step is 60  <->  Cur-MSE is 1.2182571698102216\n",
      "\tCur-Step is 70  <->  Cur-MSE is 1.172153930593989\n",
      "\tCur-Step is 80  <->  Cur-MSE is 1.1517346020253845\n",
      "\tCur-Step is 90  <->  Cur-MSE is 1.142449722389323\n",
      "\tCur-Step is 100 <->  Cur-MSE is 1.1379962859026551\n",
      "\n",
      "Wall time: 4min 27s\n"
     ]
    }
   ],
   "source": [
    "%%time\n",
    "'''\n",
    "                    ##           Main           ##\n",
    "'''\n",
    "num_of_splits = 5\n",
    "number_of_steps = 100\n",
    "num_of_factors = 2\n",
    "# final = []\n",
    "\n",
    "errors     = [0 for _ in range(num_of_splits)]\n",
    "factors    = [0 for _ in range(num_of_splits)]\n",
    "weights    = [0 for _ in range(num_of_splits)]\n",
    "r2s_train  = [0 for _ in range(num_of_splits)]\n",
    "r2s_test   = [0 for _ in range(num_of_splits)]\n",
    "rmse_train = [0 for _ in range(num_of_splits)]\n",
    "rmse_test  = [0 for _ in range(num_of_splits)]\n",
    "\n",
    "kf = KFold(n_splits=num_of_splits, shuffle=True)\n",
    "kf.get_n_splits(X)\n",
    "\n",
    "for i, (train_index, test_index) in enumerate(kf.split(X)):\n",
    "    print(f\"Processing {i + 1} era ... \")\n",
    "    X_train, X_test = X[train_index], X[test_index]\n",
    "    y_train, y_test = y[train_index], y[test_index]\n",
    "    \n",
    "    w_init = np.zeros((X.shape[1], 1))\n",
    "    V_init = np.zeros((X.shape[1], num_of_factors))\n",
    "    \n",
    "    results = gradient(X_train, y_train, w_init, V_init, eta=0.02, max_iter=number_of_steps)\n",
    "\n",
    "    # Setting params for Out-doc:\n",
    "    weights[i], factors[i], errors[i] = results\n",
    "    train_preds = predict(X_train, weights[i], factors[i])\n",
    "    test_preds = predict(X_test, weights[i], factors[i])\n",
    "    rmse_train[i] = RMSE(y_train, train_preds)\n",
    "    rmse_test[i] = RMSE(y_test, test_preds)\n",
    "    r2s_train[i] = R2(y_train, train_preds)\n",
    "    r2s_test[i] = R2(y_test, test_preds)\n",
    "    \n",
    "print()"
   ]
  },
  {
   "cell_type": "code",
   "execution_count": 7,
   "metadata": {},
   "outputs": [
    {
     "output_type": "execute_result",
     "data": {
      "text/plain": [
       "(                0\n",
       " 0        3.569634\n",
       " 1        3.549650\n",
       " 2        3.657513\n",
       " 3        3.569747\n",
       " 4        3.699566\n",
       " ...           ...\n",
       " 1599995  3.501995\n",
       " 1599996  3.493134\n",
       " 1599997  3.485640\n",
       " 1599998  3.484276\n",
       " 1599999  3.604393\n",
       " \n",
       " [1600000 rows x 1 columns],\n",
       "                0\n",
       " 0       3.497204\n",
       " 1       3.506537\n",
       " 2       3.566652\n",
       " 3       3.491266\n",
       " 4       3.500926\n",
       " ...          ...\n",
       " 399995  3.528571\n",
       " 399996  3.498796\n",
       " 399997  3.506532\n",
       " 399998  3.556073\n",
       " 399999  3.563527\n",
       " \n",
       " [400000 rows x 1 columns])"
      ]
     },
     "metadata": {},
     "execution_count": 7
    }
   ],
   "source": [
    "# Predicted values:\n",
    "pd.DataFrame(train_preds), pd.DataFrame(test_preds)"
   ]
  },
  {
   "cell_type": "code",
   "execution_count": 8,
   "metadata": {},
   "outputs": [
    {
     "output_type": "stream",
     "name": "stdout",
     "text": [
      "Populating the interactive namespace from numpy and matplotlib\nWall time: 203 ms\n"
     ]
    },
    {
     "output_type": "display_data",
     "data": {
      "text/plain": "<Figure size 432x288 with 1 Axes>",
      "image/svg+xml": "<?xml version=\"1.0\" encoding=\"utf-8\" standalone=\"no\"?>\r\n<!DOCTYPE svg PUBLIC \"-//W3C//DTD SVG 1.1//EN\"\r\n  \"http://www.w3.org/Graphics/SVG/1.1/DTD/svg11.dtd\">\r\n<!-- Created with matplotlib (https://matplotlib.org/) -->\r\n<svg height=\"262.19625pt\" version=\"1.1\" viewBox=\"0 0 382.603125 262.19625\" width=\"382.603125pt\" xmlns=\"http://www.w3.org/2000/svg\" xmlns:xlink=\"http://www.w3.org/1999/xlink\">\r\n <metadata>\r\n  <rdf:RDF xmlns:cc=\"http://creativecommons.org/ns#\" xmlns:dc=\"http://purl.org/dc/elements/1.1/\" xmlns:rdf=\"http://www.w3.org/1999/02/22-rdf-syntax-ns#\">\r\n   <cc:Work>\r\n    <dc:type rdf:resource=\"http://purl.org/dc/dcmitype/StillImage\"/>\r\n    <dc:date>2021-08-11T09:49:05.679752</dc:date>\r\n    <dc:format>image/svg+xml</dc:format>\r\n    <dc:creator>\r\n     <cc:Agent>\r\n      <dc:title>Matplotlib v3.3.3, https://matplotlib.org/</dc:title>\r\n     </cc:Agent>\r\n    </dc:creator>\r\n   </cc:Work>\r\n  </rdf:RDF>\r\n </metadata>\r\n <defs>\r\n  <style type=\"text/css\">*{stroke-linecap:butt;stroke-linejoin:round;}</style>\r\n </defs>\r\n <g id=\"figure_1\">\r\n  <g id=\"patch_1\">\r\n   <path d=\"M 0 262.19625 \r\nL 382.603125 262.19625 \r\nL 382.603125 0 \r\nL 0 0 \r\nz\r\n\" style=\"fill:none;\"/>\r\n  </g>\r\n  <g id=\"axes_1\">\r\n   <g id=\"patch_2\">\r\n    <path d=\"M 40.603125 224.64 \r\nL 375.403125 224.64 \r\nL 375.403125 7.2 \r\nL 40.603125 7.2 \r\nz\r\n\" style=\"fill:#ffffff;\"/>\r\n   </g>\r\n   <g id=\"matplotlib.axis_1\">\r\n    <g id=\"xtick_1\">\r\n     <g id=\"line2d_1\">\r\n      <defs>\r\n       <path d=\"M 0 0 \r\nL 0 3.5 \r\n\" id=\"m708469289c\" style=\"stroke:#000000;stroke-width:0.8;\"/>\r\n      </defs>\r\n      <g>\r\n       <use style=\"stroke:#000000;stroke-width:0.8;\" x=\"55.821307\" xlink:href=\"#m708469289c\" y=\"224.64\"/>\r\n      </g>\r\n     </g>\r\n     <g id=\"text_1\">\r\n      <!-- 0 -->\r\n      <g transform=\"translate(52.640057 239.238437)scale(0.1 -0.1)\">\r\n       <defs>\r\n        <path d=\"M 31.78125 66.40625 \r\nQ 24.171875 66.40625 20.328125 58.90625 \r\nQ 16.5 51.421875 16.5 36.375 \r\nQ 16.5 21.390625 20.328125 13.890625 \r\nQ 24.171875 6.390625 31.78125 6.390625 \r\nQ 39.453125 6.390625 43.28125 13.890625 \r\nQ 47.125 21.390625 47.125 36.375 \r\nQ 47.125 51.421875 43.28125 58.90625 \r\nQ 39.453125 66.40625 31.78125 66.40625 \r\nz\r\nM 31.78125 74.21875 \r\nQ 44.046875 74.21875 50.515625 64.515625 \r\nQ 56.984375 54.828125 56.984375 36.375 \r\nQ 56.984375 17.96875 50.515625 8.265625 \r\nQ 44.046875 -1.421875 31.78125 -1.421875 \r\nQ 19.53125 -1.421875 13.0625 8.265625 \r\nQ 6.59375 17.96875 6.59375 36.375 \r\nQ 6.59375 54.828125 13.0625 64.515625 \r\nQ 19.53125 74.21875 31.78125 74.21875 \r\nz\r\n\" id=\"DejaVuSans-48\"/>\r\n       </defs>\r\n       <use xlink:href=\"#DejaVuSans-48\"/>\r\n      </g>\r\n     </g>\r\n    </g>\r\n    <g id=\"xtick_2\">\r\n     <g id=\"line2d_2\">\r\n      <g>\r\n       <use style=\"stroke:#000000;stroke-width:0.8;\" x=\"116.694034\" xlink:href=\"#m708469289c\" y=\"224.64\"/>\r\n      </g>\r\n     </g>\r\n     <g id=\"text_2\">\r\n      <!-- 20 -->\r\n      <g transform=\"translate(110.331534 239.238437)scale(0.1 -0.1)\">\r\n       <defs>\r\n        <path d=\"M 19.1875 8.296875 \r\nL 53.609375 8.296875 \r\nL 53.609375 0 \r\nL 7.328125 0 \r\nL 7.328125 8.296875 \r\nQ 12.9375 14.109375 22.625 23.890625 \r\nQ 32.328125 33.6875 34.8125 36.53125 \r\nQ 39.546875 41.84375 41.421875 45.53125 \r\nQ 43.3125 49.21875 43.3125 52.78125 \r\nQ 43.3125 58.59375 39.234375 62.25 \r\nQ 35.15625 65.921875 28.609375 65.921875 \r\nQ 23.96875 65.921875 18.8125 64.3125 \r\nQ 13.671875 62.703125 7.8125 59.421875 \r\nL 7.8125 69.390625 \r\nQ 13.765625 71.78125 18.9375 73 \r\nQ 24.125 74.21875 28.421875 74.21875 \r\nQ 39.75 74.21875 46.484375 68.546875 \r\nQ 53.21875 62.890625 53.21875 53.421875 \r\nQ 53.21875 48.921875 51.53125 44.890625 \r\nQ 49.859375 40.875 45.40625 35.40625 \r\nQ 44.1875 33.984375 37.640625 27.21875 \r\nQ 31.109375 20.453125 19.1875 8.296875 \r\nz\r\n\" id=\"DejaVuSans-50\"/>\r\n       </defs>\r\n       <use xlink:href=\"#DejaVuSans-50\"/>\r\n       <use x=\"63.623047\" xlink:href=\"#DejaVuSans-48\"/>\r\n      </g>\r\n     </g>\r\n    </g>\r\n    <g id=\"xtick_3\">\r\n     <g id=\"line2d_3\">\r\n      <g>\r\n       <use style=\"stroke:#000000;stroke-width:0.8;\" x=\"177.566761\" xlink:href=\"#m708469289c\" y=\"224.64\"/>\r\n      </g>\r\n     </g>\r\n     <g id=\"text_3\">\r\n      <!-- 40 -->\r\n      <g transform=\"translate(171.204261 239.238437)scale(0.1 -0.1)\">\r\n       <defs>\r\n        <path d=\"M 37.796875 64.3125 \r\nL 12.890625 25.390625 \r\nL 37.796875 25.390625 \r\nz\r\nM 35.203125 72.90625 \r\nL 47.609375 72.90625 \r\nL 47.609375 25.390625 \r\nL 58.015625 25.390625 \r\nL 58.015625 17.1875 \r\nL 47.609375 17.1875 \r\nL 47.609375 0 \r\nL 37.796875 0 \r\nL 37.796875 17.1875 \r\nL 4.890625 17.1875 \r\nL 4.890625 26.703125 \r\nz\r\n\" id=\"DejaVuSans-52\"/>\r\n       </defs>\r\n       <use xlink:href=\"#DejaVuSans-52\"/>\r\n       <use x=\"63.623047\" xlink:href=\"#DejaVuSans-48\"/>\r\n      </g>\r\n     </g>\r\n    </g>\r\n    <g id=\"xtick_4\">\r\n     <g id=\"line2d_4\">\r\n      <g>\r\n       <use style=\"stroke:#000000;stroke-width:0.8;\" x=\"238.439489\" xlink:href=\"#m708469289c\" y=\"224.64\"/>\r\n      </g>\r\n     </g>\r\n     <g id=\"text_4\">\r\n      <!-- 60 -->\r\n      <g transform=\"translate(232.076989 239.238437)scale(0.1 -0.1)\">\r\n       <defs>\r\n        <path d=\"M 33.015625 40.375 \r\nQ 26.375 40.375 22.484375 35.828125 \r\nQ 18.609375 31.296875 18.609375 23.390625 \r\nQ 18.609375 15.53125 22.484375 10.953125 \r\nQ 26.375 6.390625 33.015625 6.390625 \r\nQ 39.65625 6.390625 43.53125 10.953125 \r\nQ 47.40625 15.53125 47.40625 23.390625 \r\nQ 47.40625 31.296875 43.53125 35.828125 \r\nQ 39.65625 40.375 33.015625 40.375 \r\nz\r\nM 52.59375 71.296875 \r\nL 52.59375 62.3125 \r\nQ 48.875 64.0625 45.09375 64.984375 \r\nQ 41.3125 65.921875 37.59375 65.921875 \r\nQ 27.828125 65.921875 22.671875 59.328125 \r\nQ 17.53125 52.734375 16.796875 39.40625 \r\nQ 19.671875 43.65625 24.015625 45.921875 \r\nQ 28.375 48.1875 33.59375 48.1875 \r\nQ 44.578125 48.1875 50.953125 41.515625 \r\nQ 57.328125 34.859375 57.328125 23.390625 \r\nQ 57.328125 12.15625 50.6875 5.359375 \r\nQ 44.046875 -1.421875 33.015625 -1.421875 \r\nQ 20.359375 -1.421875 13.671875 8.265625 \r\nQ 6.984375 17.96875 6.984375 36.375 \r\nQ 6.984375 53.65625 15.1875 63.9375 \r\nQ 23.390625 74.21875 37.203125 74.21875 \r\nQ 40.921875 74.21875 44.703125 73.484375 \r\nQ 48.484375 72.75 52.59375 71.296875 \r\nz\r\n\" id=\"DejaVuSans-54\"/>\r\n       </defs>\r\n       <use xlink:href=\"#DejaVuSans-54\"/>\r\n       <use x=\"63.623047\" xlink:href=\"#DejaVuSans-48\"/>\r\n      </g>\r\n     </g>\r\n    </g>\r\n    <g id=\"xtick_5\">\r\n     <g id=\"line2d_5\">\r\n      <g>\r\n       <use style=\"stroke:#000000;stroke-width:0.8;\" x=\"299.312216\" xlink:href=\"#m708469289c\" y=\"224.64\"/>\r\n      </g>\r\n     </g>\r\n     <g id=\"text_5\">\r\n      <!-- 80 -->\r\n      <g transform=\"translate(292.949716 239.238437)scale(0.1 -0.1)\">\r\n       <defs>\r\n        <path d=\"M 31.78125 34.625 \r\nQ 24.75 34.625 20.71875 30.859375 \r\nQ 16.703125 27.09375 16.703125 20.515625 \r\nQ 16.703125 13.921875 20.71875 10.15625 \r\nQ 24.75 6.390625 31.78125 6.390625 \r\nQ 38.8125 6.390625 42.859375 10.171875 \r\nQ 46.921875 13.96875 46.921875 20.515625 \r\nQ 46.921875 27.09375 42.890625 30.859375 \r\nQ 38.875 34.625 31.78125 34.625 \r\nz\r\nM 21.921875 38.8125 \r\nQ 15.578125 40.375 12.03125 44.71875 \r\nQ 8.5 49.078125 8.5 55.328125 \r\nQ 8.5 64.0625 14.71875 69.140625 \r\nQ 20.953125 74.21875 31.78125 74.21875 \r\nQ 42.671875 74.21875 48.875 69.140625 \r\nQ 55.078125 64.0625 55.078125 55.328125 \r\nQ 55.078125 49.078125 51.53125 44.71875 \r\nQ 48 40.375 41.703125 38.8125 \r\nQ 48.828125 37.15625 52.796875 32.3125 \r\nQ 56.78125 27.484375 56.78125 20.515625 \r\nQ 56.78125 9.90625 50.3125 4.234375 \r\nQ 43.84375 -1.421875 31.78125 -1.421875 \r\nQ 19.734375 -1.421875 13.25 4.234375 \r\nQ 6.78125 9.90625 6.78125 20.515625 \r\nQ 6.78125 27.484375 10.78125 32.3125 \r\nQ 14.796875 37.15625 21.921875 38.8125 \r\nz\r\nM 18.3125 54.390625 \r\nQ 18.3125 48.734375 21.84375 45.5625 \r\nQ 25.390625 42.390625 31.78125 42.390625 \r\nQ 38.140625 42.390625 41.71875 45.5625 \r\nQ 45.3125 48.734375 45.3125 54.390625 \r\nQ 45.3125 60.0625 41.71875 63.234375 \r\nQ 38.140625 66.40625 31.78125 66.40625 \r\nQ 25.390625 66.40625 21.84375 63.234375 \r\nQ 18.3125 60.0625 18.3125 54.390625 \r\nz\r\n\" id=\"DejaVuSans-56\"/>\r\n       </defs>\r\n       <use xlink:href=\"#DejaVuSans-56\"/>\r\n       <use x=\"63.623047\" xlink:href=\"#DejaVuSans-48\"/>\r\n      </g>\r\n     </g>\r\n    </g>\r\n    <g id=\"xtick_6\">\r\n     <g id=\"line2d_6\">\r\n      <g>\r\n       <use style=\"stroke:#000000;stroke-width:0.8;\" x=\"360.184943\" xlink:href=\"#m708469289c\" y=\"224.64\"/>\r\n      </g>\r\n     </g>\r\n     <g id=\"text_6\">\r\n      <!-- 100 -->\r\n      <g transform=\"translate(350.641193 239.238437)scale(0.1 -0.1)\">\r\n       <defs>\r\n        <path d=\"M 12.40625 8.296875 \r\nL 28.515625 8.296875 \r\nL 28.515625 63.921875 \r\nL 10.984375 60.40625 \r\nL 10.984375 69.390625 \r\nL 28.421875 72.90625 \r\nL 38.28125 72.90625 \r\nL 38.28125 8.296875 \r\nL 54.390625 8.296875 \r\nL 54.390625 0 \r\nL 12.40625 0 \r\nz\r\n\" id=\"DejaVuSans-49\"/>\r\n       </defs>\r\n       <use xlink:href=\"#DejaVuSans-49\"/>\r\n       <use x=\"63.623047\" xlink:href=\"#DejaVuSans-48\"/>\r\n       <use x=\"127.246094\" xlink:href=\"#DejaVuSans-48\"/>\r\n      </g>\r\n     </g>\r\n    </g>\r\n    <g id=\"text_7\">\r\n     <!-- Num of steps -->\r\n     <g transform=\"translate(174.805469 252.916562)scale(0.1 -0.1)\">\r\n      <defs>\r\n       <path d=\"M 9.8125 72.90625 \r\nL 23.09375 72.90625 \r\nL 55.421875 11.921875 \r\nL 55.421875 72.90625 \r\nL 64.984375 72.90625 \r\nL 64.984375 0 \r\nL 51.703125 0 \r\nL 19.390625 60.984375 \r\nL 19.390625 0 \r\nL 9.8125 0 \r\nz\r\n\" id=\"DejaVuSans-78\"/>\r\n       <path d=\"M 8.5 21.578125 \r\nL 8.5 54.6875 \r\nL 17.484375 54.6875 \r\nL 17.484375 21.921875 \r\nQ 17.484375 14.15625 20.5 10.265625 \r\nQ 23.53125 6.390625 29.59375 6.390625 \r\nQ 36.859375 6.390625 41.078125 11.03125 \r\nQ 45.3125 15.671875 45.3125 23.6875 \r\nL 45.3125 54.6875 \r\nL 54.296875 54.6875 \r\nL 54.296875 0 \r\nL 45.3125 0 \r\nL 45.3125 8.40625 \r\nQ 42.046875 3.421875 37.71875 1 \r\nQ 33.40625 -1.421875 27.6875 -1.421875 \r\nQ 18.265625 -1.421875 13.375 4.4375 \r\nQ 8.5 10.296875 8.5 21.578125 \r\nz\r\nM 31.109375 56 \r\nz\r\n\" id=\"DejaVuSans-117\"/>\r\n       <path d=\"M 52 44.1875 \r\nQ 55.375 50.25 60.0625 53.125 \r\nQ 64.75 56 71.09375 56 \r\nQ 79.640625 56 84.28125 50.015625 \r\nQ 88.921875 44.046875 88.921875 33.015625 \r\nL 88.921875 0 \r\nL 79.890625 0 \r\nL 79.890625 32.71875 \r\nQ 79.890625 40.578125 77.09375 44.375 \r\nQ 74.3125 48.1875 68.609375 48.1875 \r\nQ 61.625 48.1875 57.5625 43.546875 \r\nQ 53.515625 38.921875 53.515625 30.90625 \r\nL 53.515625 0 \r\nL 44.484375 0 \r\nL 44.484375 32.71875 \r\nQ 44.484375 40.625 41.703125 44.40625 \r\nQ 38.921875 48.1875 33.109375 48.1875 \r\nQ 26.21875 48.1875 22.15625 43.53125 \r\nQ 18.109375 38.875 18.109375 30.90625 \r\nL 18.109375 0 \r\nL 9.078125 0 \r\nL 9.078125 54.6875 \r\nL 18.109375 54.6875 \r\nL 18.109375 46.1875 \r\nQ 21.1875 51.21875 25.484375 53.609375 \r\nQ 29.78125 56 35.6875 56 \r\nQ 41.65625 56 45.828125 52.96875 \r\nQ 50 49.953125 52 44.1875 \r\nz\r\n\" id=\"DejaVuSans-109\"/>\r\n       <path id=\"DejaVuSans-32\"/>\r\n       <path d=\"M 30.609375 48.390625 \r\nQ 23.390625 48.390625 19.1875 42.75 \r\nQ 14.984375 37.109375 14.984375 27.296875 \r\nQ 14.984375 17.484375 19.15625 11.84375 \r\nQ 23.34375 6.203125 30.609375 6.203125 \r\nQ 37.796875 6.203125 41.984375 11.859375 \r\nQ 46.1875 17.53125 46.1875 27.296875 \r\nQ 46.1875 37.015625 41.984375 42.703125 \r\nQ 37.796875 48.390625 30.609375 48.390625 \r\nz\r\nM 30.609375 56 \r\nQ 42.328125 56 49.015625 48.375 \r\nQ 55.71875 40.765625 55.71875 27.296875 \r\nQ 55.71875 13.875 49.015625 6.21875 \r\nQ 42.328125 -1.421875 30.609375 -1.421875 \r\nQ 18.84375 -1.421875 12.171875 6.21875 \r\nQ 5.515625 13.875 5.515625 27.296875 \r\nQ 5.515625 40.765625 12.171875 48.375 \r\nQ 18.84375 56 30.609375 56 \r\nz\r\n\" id=\"DejaVuSans-111\"/>\r\n       <path d=\"M 37.109375 75.984375 \r\nL 37.109375 68.5 \r\nL 28.515625 68.5 \r\nQ 23.6875 68.5 21.796875 66.546875 \r\nQ 19.921875 64.59375 19.921875 59.515625 \r\nL 19.921875 54.6875 \r\nL 34.71875 54.6875 \r\nL 34.71875 47.703125 \r\nL 19.921875 47.703125 \r\nL 19.921875 0 \r\nL 10.890625 0 \r\nL 10.890625 47.703125 \r\nL 2.296875 47.703125 \r\nL 2.296875 54.6875 \r\nL 10.890625 54.6875 \r\nL 10.890625 58.5 \r\nQ 10.890625 67.625 15.140625 71.796875 \r\nQ 19.390625 75.984375 28.609375 75.984375 \r\nz\r\n\" id=\"DejaVuSans-102\"/>\r\n       <path d=\"M 44.28125 53.078125 \r\nL 44.28125 44.578125 \r\nQ 40.484375 46.53125 36.375 47.5 \r\nQ 32.28125 48.484375 27.875 48.484375 \r\nQ 21.1875 48.484375 17.84375 46.4375 \r\nQ 14.5 44.390625 14.5 40.28125 \r\nQ 14.5 37.15625 16.890625 35.375 \r\nQ 19.28125 33.59375 26.515625 31.984375 \r\nL 29.59375 31.296875 \r\nQ 39.15625 29.25 43.1875 25.515625 \r\nQ 47.21875 21.78125 47.21875 15.09375 \r\nQ 47.21875 7.46875 41.1875 3.015625 \r\nQ 35.15625 -1.421875 24.609375 -1.421875 \r\nQ 20.21875 -1.421875 15.453125 -0.5625 \r\nQ 10.6875 0.296875 5.421875 2 \r\nL 5.421875 11.28125 \r\nQ 10.40625 8.6875 15.234375 7.390625 \r\nQ 20.0625 6.109375 24.8125 6.109375 \r\nQ 31.15625 6.109375 34.5625 8.28125 \r\nQ 37.984375 10.453125 37.984375 14.40625 \r\nQ 37.984375 18.0625 35.515625 20.015625 \r\nQ 33.0625 21.96875 24.703125 23.78125 \r\nL 21.578125 24.515625 \r\nQ 13.234375 26.265625 9.515625 29.90625 \r\nQ 5.8125 33.546875 5.8125 39.890625 \r\nQ 5.8125 47.609375 11.28125 51.796875 \r\nQ 16.75 56 26.8125 56 \r\nQ 31.78125 56 36.171875 55.265625 \r\nQ 40.578125 54.546875 44.28125 53.078125 \r\nz\r\n\" id=\"DejaVuSans-115\"/>\r\n       <path d=\"M 18.3125 70.21875 \r\nL 18.3125 54.6875 \r\nL 36.8125 54.6875 \r\nL 36.8125 47.703125 \r\nL 18.3125 47.703125 \r\nL 18.3125 18.015625 \r\nQ 18.3125 11.328125 20.140625 9.421875 \r\nQ 21.96875 7.515625 27.59375 7.515625 \r\nL 36.8125 7.515625 \r\nL 36.8125 0 \r\nL 27.59375 0 \r\nQ 17.1875 0 13.234375 3.875 \r\nQ 9.28125 7.765625 9.28125 18.015625 \r\nL 9.28125 47.703125 \r\nL 2.6875 47.703125 \r\nL 2.6875 54.6875 \r\nL 9.28125 54.6875 \r\nL 9.28125 70.21875 \r\nz\r\n\" id=\"DejaVuSans-116\"/>\r\n       <path d=\"M 56.203125 29.59375 \r\nL 56.203125 25.203125 \r\nL 14.890625 25.203125 \r\nQ 15.484375 15.921875 20.484375 11.0625 \r\nQ 25.484375 6.203125 34.421875 6.203125 \r\nQ 39.59375 6.203125 44.453125 7.46875 \r\nQ 49.3125 8.734375 54.109375 11.28125 \r\nL 54.109375 2.78125 \r\nQ 49.265625 0.734375 44.1875 -0.34375 \r\nQ 39.109375 -1.421875 33.890625 -1.421875 \r\nQ 20.796875 -1.421875 13.15625 6.1875 \r\nQ 5.515625 13.8125 5.515625 26.8125 \r\nQ 5.515625 40.234375 12.765625 48.109375 \r\nQ 20.015625 56 32.328125 56 \r\nQ 43.359375 56 49.78125 48.890625 \r\nQ 56.203125 41.796875 56.203125 29.59375 \r\nz\r\nM 47.21875 32.234375 \r\nQ 47.125 39.59375 43.09375 43.984375 \r\nQ 39.0625 48.390625 32.421875 48.390625 \r\nQ 24.90625 48.390625 20.390625 44.140625 \r\nQ 15.875 39.890625 15.1875 32.171875 \r\nz\r\n\" id=\"DejaVuSans-101\"/>\r\n       <path d=\"M 18.109375 8.203125 \r\nL 18.109375 -20.796875 \r\nL 9.078125 -20.796875 \r\nL 9.078125 54.6875 \r\nL 18.109375 54.6875 \r\nL 18.109375 46.390625 \r\nQ 20.953125 51.265625 25.265625 53.625 \r\nQ 29.59375 56 35.59375 56 \r\nQ 45.5625 56 51.78125 48.09375 \r\nQ 58.015625 40.1875 58.015625 27.296875 \r\nQ 58.015625 14.40625 51.78125 6.484375 \r\nQ 45.5625 -1.421875 35.59375 -1.421875 \r\nQ 29.59375 -1.421875 25.265625 0.953125 \r\nQ 20.953125 3.328125 18.109375 8.203125 \r\nz\r\nM 48.6875 27.296875 \r\nQ 48.6875 37.203125 44.609375 42.84375 \r\nQ 40.53125 48.484375 33.40625 48.484375 \r\nQ 26.265625 48.484375 22.1875 42.84375 \r\nQ 18.109375 37.203125 18.109375 27.296875 \r\nQ 18.109375 17.390625 22.1875 11.75 \r\nQ 26.265625 6.109375 33.40625 6.109375 \r\nQ 40.53125 6.109375 44.609375 11.75 \r\nQ 48.6875 17.390625 48.6875 27.296875 \r\nz\r\n\" id=\"DejaVuSans-112\"/>\r\n      </defs>\r\n      <use xlink:href=\"#DejaVuSans-78\"/>\r\n      <use x=\"74.804688\" xlink:href=\"#DejaVuSans-117\"/>\r\n      <use x=\"138.183594\" xlink:href=\"#DejaVuSans-109\"/>\r\n      <use x=\"235.595703\" xlink:href=\"#DejaVuSans-32\"/>\r\n      <use x=\"267.382812\" xlink:href=\"#DejaVuSans-111\"/>\r\n      <use x=\"328.564453\" xlink:href=\"#DejaVuSans-102\"/>\r\n      <use x=\"363.769531\" xlink:href=\"#DejaVuSans-32\"/>\r\n      <use x=\"395.556641\" xlink:href=\"#DejaVuSans-115\"/>\r\n      <use x=\"447.65625\" xlink:href=\"#DejaVuSans-116\"/>\r\n      <use x=\"486.865234\" xlink:href=\"#DejaVuSans-101\"/>\r\n      <use x=\"548.388672\" xlink:href=\"#DejaVuSans-112\"/>\r\n      <use x=\"611.865234\" xlink:href=\"#DejaVuSans-115\"/>\r\n     </g>\r\n    </g>\r\n   </g>\r\n   <g id=\"matplotlib.axis_2\">\r\n    <g id=\"ytick_1\">\r\n     <g id=\"line2d_7\">\r\n      <defs>\r\n       <path d=\"M 0 0 \r\nL -3.5 0 \r\n\" id=\"m8a4768fb37\" style=\"stroke:#000000;stroke-width:0.8;\"/>\r\n      </defs>\r\n      <g>\r\n       <use style=\"stroke:#000000;stroke-width:0.8;\" x=\"40.603125\" xlink:href=\"#m8a4768fb37\" y=\"200.668171\"/>\r\n      </g>\r\n     </g>\r\n     <g id=\"text_8\">\r\n      <!-- 2 -->\r\n      <g transform=\"translate(27.240625 204.46739)scale(0.1 -0.1)\">\r\n       <use xlink:href=\"#DejaVuSans-50\"/>\r\n      </g>\r\n     </g>\r\n    </g>\r\n    <g id=\"ytick_2\">\r\n     <g id=\"line2d_8\">\r\n      <g>\r\n       <use style=\"stroke:#000000;stroke-width:0.8;\" x=\"40.603125\" xlink:href=\"#m8a4768fb37\" y=\"167.99024\"/>\r\n      </g>\r\n     </g>\r\n     <g id=\"text_9\">\r\n      <!-- 4 -->\r\n      <g transform=\"translate(27.240625 171.789459)scale(0.1 -0.1)\">\r\n       <use xlink:href=\"#DejaVuSans-52\"/>\r\n      </g>\r\n     </g>\r\n    </g>\r\n    <g id=\"ytick_3\">\r\n     <g id=\"line2d_9\">\r\n      <g>\r\n       <use style=\"stroke:#000000;stroke-width:0.8;\" x=\"40.603125\" xlink:href=\"#m8a4768fb37\" y=\"135.312309\"/>\r\n      </g>\r\n     </g>\r\n     <g id=\"text_10\">\r\n      <!-- 6 -->\r\n      <g transform=\"translate(27.240625 139.111528)scale(0.1 -0.1)\">\r\n       <use xlink:href=\"#DejaVuSans-54\"/>\r\n      </g>\r\n     </g>\r\n    </g>\r\n    <g id=\"ytick_4\">\r\n     <g id=\"line2d_10\">\r\n      <g>\r\n       <use style=\"stroke:#000000;stroke-width:0.8;\" x=\"40.603125\" xlink:href=\"#m8a4768fb37\" y=\"102.634378\"/>\r\n      </g>\r\n     </g>\r\n     <g id=\"text_11\">\r\n      <!-- 8 -->\r\n      <g transform=\"translate(27.240625 106.433597)scale(0.1 -0.1)\">\r\n       <use xlink:href=\"#DejaVuSans-56\"/>\r\n      </g>\r\n     </g>\r\n    </g>\r\n    <g id=\"ytick_5\">\r\n     <g id=\"line2d_11\">\r\n      <g>\r\n       <use style=\"stroke:#000000;stroke-width:0.8;\" x=\"40.603125\" xlink:href=\"#m8a4768fb37\" y=\"69.956447\"/>\r\n      </g>\r\n     </g>\r\n     <g id=\"text_12\">\r\n      <!-- 10 -->\r\n      <g transform=\"translate(20.878125 73.755666)scale(0.1 -0.1)\">\r\n       <use xlink:href=\"#DejaVuSans-49\"/>\r\n       <use x=\"63.623047\" xlink:href=\"#DejaVuSans-48\"/>\r\n      </g>\r\n     </g>\r\n    </g>\r\n    <g id=\"ytick_6\">\r\n     <g id=\"line2d_12\">\r\n      <g>\r\n       <use style=\"stroke:#000000;stroke-width:0.8;\" x=\"40.603125\" xlink:href=\"#m8a4768fb37\" y=\"37.278516\"/>\r\n      </g>\r\n     </g>\r\n     <g id=\"text_13\">\r\n      <!-- 12 -->\r\n      <g transform=\"translate(20.878125 41.077735)scale(0.1 -0.1)\">\r\n       <use xlink:href=\"#DejaVuSans-49\"/>\r\n       <use x=\"63.623047\" xlink:href=\"#DejaVuSans-50\"/>\r\n      </g>\r\n     </g>\r\n    </g>\r\n    <g id=\"text_14\">\r\n     <!-- MSE -->\r\n     <g transform=\"translate(14.798438 126.567656)rotate(-90)scale(0.1 -0.1)\">\r\n      <defs>\r\n       <path d=\"M 9.8125 72.90625 \r\nL 24.515625 72.90625 \r\nL 43.109375 23.296875 \r\nL 61.8125 72.90625 \r\nL 76.515625 72.90625 \r\nL 76.515625 0 \r\nL 66.890625 0 \r\nL 66.890625 64.015625 \r\nL 48.09375 14.015625 \r\nL 38.1875 14.015625 \r\nL 19.390625 64.015625 \r\nL 19.390625 0 \r\nL 9.8125 0 \r\nz\r\n\" id=\"DejaVuSans-77\"/>\r\n       <path d=\"M 53.515625 70.515625 \r\nL 53.515625 60.890625 \r\nQ 47.90625 63.578125 42.921875 64.890625 \r\nQ 37.9375 66.21875 33.296875 66.21875 \r\nQ 25.25 66.21875 20.875 63.09375 \r\nQ 16.5 59.96875 16.5 54.203125 \r\nQ 16.5 49.359375 19.40625 46.890625 \r\nQ 22.3125 44.4375 30.421875 42.921875 \r\nL 36.375 41.703125 \r\nQ 47.40625 39.59375 52.65625 34.296875 \r\nQ 57.90625 29 57.90625 20.125 \r\nQ 57.90625 9.515625 50.796875 4.046875 \r\nQ 43.703125 -1.421875 29.984375 -1.421875 \r\nQ 24.8125 -1.421875 18.96875 -0.25 \r\nQ 13.140625 0.921875 6.890625 3.21875 \r\nL 6.890625 13.375 \r\nQ 12.890625 10.015625 18.65625 8.296875 \r\nQ 24.421875 6.59375 29.984375 6.59375 \r\nQ 38.421875 6.59375 43.015625 9.90625 \r\nQ 47.609375 13.234375 47.609375 19.390625 \r\nQ 47.609375 24.75 44.3125 27.78125 \r\nQ 41.015625 30.8125 33.5 32.328125 \r\nL 27.484375 33.5 \r\nQ 16.453125 35.6875 11.515625 40.375 \r\nQ 6.59375 45.0625 6.59375 53.421875 \r\nQ 6.59375 63.09375 13.40625 68.65625 \r\nQ 20.21875 74.21875 32.171875 74.21875 \r\nQ 37.3125 74.21875 42.625 73.28125 \r\nQ 47.953125 72.359375 53.515625 70.515625 \r\nz\r\n\" id=\"DejaVuSans-83\"/>\r\n       <path d=\"M 9.8125 72.90625 \r\nL 55.90625 72.90625 \r\nL 55.90625 64.59375 \r\nL 19.671875 64.59375 \r\nL 19.671875 43.015625 \r\nL 54.390625 43.015625 \r\nL 54.390625 34.71875 \r\nL 19.671875 34.71875 \r\nL 19.671875 8.296875 \r\nL 56.78125 8.296875 \r\nL 56.78125 0 \r\nL 9.8125 0 \r\nz\r\n\" id=\"DejaVuSans-69\"/>\r\n      </defs>\r\n      <use xlink:href=\"#DejaVuSans-77\"/>\r\n      <use x=\"86.279297\" xlink:href=\"#DejaVuSans-83\"/>\r\n      <use x=\"149.755859\" xlink:href=\"#DejaVuSans-69\"/>\r\n     </g>\r\n    </g>\r\n   </g>\r\n   <g id=\"line2d_13\">\r\n    <path clip-path=\"url(#p7bd11f3918)\" d=\"M 55.821307 17.13938 \r\nL 58.864943 32.99124 \r\nL 61.90858 47.571072 \r\nL 64.952216 60.980958 \r\nL 67.995852 73.314789 \r\nL 71.039489 84.65892 \r\nL 74.083125 95.092777 \r\nL 77.126761 104.68941 \r\nL 80.170398 113.51601 \r\nL 83.214034 121.634371 \r\nL 86.25767 129.101333 \r\nL 89.301307 135.96917 \r\nL 92.344943 142.285964 \r\nL 95.38858 148.095936 \r\nL 98.432216 153.439761 \r\nL 101.475852 158.354847 \r\nL 104.519489 162.875602 \r\nL 107.563125 167.03367 \r\nL 110.606761 170.858158 \r\nL 113.650398 174.375837 \r\nL 116.694034 177.611329 \r\nL 119.73767 180.587278 \r\nL 122.781307 183.324515 \r\nL 125.824943 185.842195 \r\nL 128.86858 188.157939 \r\nL 131.912216 190.287952 \r\nL 134.955852 192.247139 \r\nL 137.999489 194.04921 \r\nL 141.043125 195.706772 \r\nL 144.086761 197.231424 \r\nL 147.130398 198.63383 \r\nL 150.174034 199.923801 \r\nL 153.21767 201.110361 \r\nL 156.261307 202.201807 \r\nL 159.304943 203.205774 \r\nL 162.34858 204.12928 \r\nL 165.392216 204.978783 \r\nL 168.435852 205.760222 \r\nL 171.479489 206.479058 \r\nL 174.523125 207.140316 \r\nL 177.566761 207.748617 \r\nL 180.610398 208.308209 \r\nL 183.654034 208.823001 \r\nL 186.69767 209.296589 \r\nL 189.741307 209.732279 \r\nL 192.784943 210.133113 \r\nL 195.82858 210.501887 \r\nL 198.872216 210.841174 \r\nL 201.915852 211.153341 \r\nL 204.959489 211.440563 \r\nL 208.003125 211.704842 \r\nL 211.046761 211.948019 \r\nL 214.090398 212.171788 \r\nL 217.134034 212.377706 \r\nL 220.17767 212.567205 \r\nL 223.221307 212.741603 \r\nL 226.264943 212.902111 \r\nL 229.30858 213.049844 \r\nL 232.352216 213.185826 \r\nL 235.395852 213.311002 \r\nL 238.439489 213.426237 \r\nL 241.483125 213.53233 \r\nL 244.526761 213.630013 \r\nL 247.570398 213.719962 \r\nL 250.614034 213.802797 \r\nL 253.65767 213.879089 \r\nL 256.701307 213.949362 \r\nL 259.744943 214.0141 \r\nL 262.78858 214.073746 \r\nL 265.832216 214.128709 \r\nL 268.875852 214.179365 \r\nL 271.919489 214.226058 \r\nL 274.963125 214.269108 \r\nL 278.006761 214.308805 \r\nL 281.050398 214.345419 \r\nL 284.094034 214.379198 \r\nL 287.13767 214.410368 \r\nL 290.181307 214.439138 \r\nL 293.224943 214.465702 \r\nL 296.26858 214.490235 \r\nL 299.312216 214.512901 \r\nL 302.355852 214.53385 \r\nL 305.399489 214.553218 \r\nL 308.443125 214.571133 \r\nL 311.486761 214.587712 \r\nL 314.530398 214.60306 \r\nL 317.574034 214.617277 \r\nL 320.61767 214.630453 \r\nL 323.661307 214.642672 \r\nL 326.704943 214.65401 \r\nL 329.74858 214.664538 \r\nL 332.792216 214.67432 \r\nL 335.835852 214.683417 \r\nL 338.879489 214.691883 \r\nL 341.923125 214.699768 \r\nL 344.966761 214.70712 \r\nL 348.010398 214.713979 \r\nL 351.054034 214.720387 \r\nL 354.09767 214.726379 \r\nL 357.141307 214.731988 \r\nL 360.184943 214.737245 \r\n\" style=\"fill:none;stroke:#1f77b4;stroke-linecap:square;stroke-width:1.5;\"/>\r\n   </g>\r\n   <g id=\"line2d_14\">\r\n    <path clip-path=\"url(#p7bd11f3918)\" d=\"M 55.821307 17.083636 \r\nL 58.864943 32.941394 \r\nL 61.90858 47.526655 \r\nL 64.952216 60.94154 \r\nL 67.995852 73.279972 \r\nL 71.039489 84.628341 \r\nL 74.083125 95.066098 \r\nL 77.126761 104.666324 \r\nL 80.170398 113.49623 \r\nL 83.214034 121.617636 \r\nL 86.25767 129.087401 \r\nL 89.301307 135.95782 \r\nL 92.344943 142.276991 \r\nL 95.38858 148.089152 \r\nL 98.432216 153.434992 \r\nL 101.475852 158.351934 \r\nL 104.519489 162.874398 \r\nL 107.563125 167.03404 \r\nL 110.606761 170.859978 \r\nL 113.650398 174.378992 \r\nL 116.694034 177.615713 \r\nL 119.73767 180.592795 \r\nL 122.781307 183.331074 \r\nL 125.824943 185.849715 \r\nL 128.86858 188.166344 \r\nL 131.912216 190.297173 \r\nL 134.955852 192.257111 \r\nL 137.999489 194.059874 \r\nL 141.043125 195.718074 \r\nL 144.086761 197.243313 \r\nL 147.130398 198.646261 \r\nL 150.174034 199.936731 \r\nL 153.21767 201.123751 \r\nL 156.261307 202.215622 \r\nL 159.304943 203.219979 \r\nL 162.34858 204.143846 \r\nL 165.392216 204.993682 \r\nL 168.435852 205.775428 \r\nL 171.479489 206.494547 \r\nL 174.523125 207.156066 \r\nL 177.566761 207.764607 \r\nL 180.610398 208.324422 \r\nL 183.654034 208.83942 \r\nL 186.69767 209.313198 \r\nL 189.741307 209.749063 \r\nL 192.784943 210.150059 \r\nL 195.82858 210.518982 \r\nL 198.872216 210.858408 \r\nL 201.915852 211.170702 \r\nL 204.959489 211.458043 \r\nL 208.003125 211.722431 \r\nL 211.046761 211.96571 \r\nL 214.090398 212.189573 \r\nL 217.134034 212.395578 \r\nL 220.17767 212.585158 \r\nL 223.221307 212.759631 \r\nL 226.264943 212.920208 \r\nL 229.30858 213.068006 \r\nL 232.352216 213.204049 \r\nL 235.395852 213.32928 \r\nL 238.439489 213.444568 \r\nL 241.483125 213.550709 \r\nL 244.526761 213.648437 \r\nL 247.570398 213.738429 \r\nL 250.614034 213.821303 \r\nL 253.65767 213.897632 \r\nL 256.701307 213.96794 \r\nL 259.744943 214.03271 \r\nL 262.78858 214.092386 \r\nL 265.832216 214.147378 \r\nL 268.875852 214.19806 \r\nL 271.919489 214.244779 \r\nL 274.963125 214.287853 \r\nL 278.006761 214.327573 \r\nL 281.050398 214.364208 \r\nL 284.094034 214.398007 \r\nL 287.13767 214.429196 \r\nL 290.181307 214.457985 \r\nL 293.224943 214.484566 \r\nL 296.26858 214.509116 \r\nL 299.312216 214.531798 \r\nL 302.355852 214.552761 \r\nL 305.399489 214.572144 \r\nL 308.443125 214.590073 \r\nL 311.486761 214.606665 \r\nL 314.530398 214.622026 \r\nL 317.574034 214.636255 \r\nL 320.61767 214.649443 \r\nL 323.661307 214.661674 \r\nL 326.704943 214.673023 \r\nL 329.74858 214.683562 \r\nL 332.792216 214.693355 \r\nL 335.835852 214.702462 \r\nL 338.879489 214.710938 \r\nL 341.923125 214.718833 \r\nL 344.966761 214.726194 \r\nL 348.010398 214.733063 \r\nL 351.054034 214.73948 \r\nL 354.09767 214.745481 \r\nL 357.141307 214.751098 \r\nL 360.184943 214.756364 \r\n\" style=\"fill:none;stroke:#ff7f0e;stroke-linecap:square;stroke-width:1.5;\"/>\r\n   </g>\r\n   <g id=\"line2d_15\">\r\n    <path clip-path=\"url(#p7bd11f3918)\" d=\"M 55.821307 17.110579 \r\nL 58.864943 32.964383 \r\nL 61.90858 47.546015 \r\nL 64.952216 60.957567 \r\nL 67.995852 73.292941 \r\nL 71.039489 84.6385 \r\nL 74.083125 95.073679 \r\nL 77.126761 104.671536 \r\nL 80.170398 113.499268 \r\nL 83.214034 121.618679 \r\nL 86.25767 129.086611 \r\nL 89.301307 135.955346 \r\nL 92.344943 142.272972 \r\nL 95.38858 148.083715 \r\nL 98.432216 153.428252 \r\nL 101.475852 158.343998 \r\nL 104.519489 162.865362 \r\nL 107.563125 167.023996 \r\nL 110.606761 170.849008 \r\nL 113.650398 174.367171 \r\nL 116.694034 177.60311 \r\nL 119.73767 180.579475 \r\nL 122.781307 183.317095 \r\nL 125.824943 185.835131 \r\nL 128.86858 188.151204 \r\nL 131.912216 190.281522 \r\nL 134.955852 192.240991 \r\nL 137.999489 194.043323 \r\nL 141.043125 195.701127 \r\nL 144.086761 197.226002 \r\nL 147.130398 198.628616 \r\nL 150.174034 199.918779 \r\nL 153.21767 201.105517 \r\nL 156.261307 202.197128 \r\nL 159.304943 203.201247 \r\nL 162.34858 204.124894 \r\nL 165.392216 204.974529 \r\nL 168.435852 205.756089 \r\nL 171.479489 206.475038 \r\nL 174.523125 207.1364 \r\nL 177.566761 207.744797 \r\nL 180.610398 208.304478 \r\nL 183.654034 208.819354 \r\nL 186.69767 209.293019 \r\nL 189.741307 209.728781 \r\nL 192.784943 210.129681 \r\nL 195.82858 210.498517 \r\nL 198.872216 210.837861 \r\nL 201.915852 211.150081 \r\nL 204.959489 211.437352 \r\nL 208.003125 211.701677 \r\nL 211.046761 211.944898 \r\nL 214.090398 212.168706 \r\nL 217.134034 212.374661 \r\nL 220.17767 212.564194 \r\nL 223.221307 212.738624 \r\nL 226.264943 212.899162 \r\nL 229.30858 213.046923 \r\nL 232.352216 213.182932 \r\nL 235.395852 213.308132 \r\nL 238.439489 213.42339 \r\nL 241.483125 213.529504 \r\nL 244.526761 213.627207 \r\nL 247.570398 213.717175 \r\nL 250.614034 213.800027 \r\nL 253.65767 213.876335 \r\nL 256.701307 213.946624 \r\nL 259.744943 214.011376 \r\nL 262.78858 214.071036 \r\nL 265.832216 214.126012 \r\nL 268.875852 214.176679 \r\nL 271.919489 214.223384 \r\nL 274.963125 214.266445 \r\nL 278.006761 214.306152 \r\nL 281.050398 214.342776 \r\nL 284.094034 214.376564 \r\nL 287.13767 214.407743 \r\nL 290.181307 214.436521 \r\nL 293.224943 214.463093 \r\nL 296.26858 214.487634 \r\nL 299.312216 214.510307 \r\nL 302.355852 214.531263 \r\nL 305.399489 214.550638 \r\nL 308.443125 214.568559 \r\nL 311.486761 214.585143 \r\nL 314.530398 214.600497 \r\nL 317.574034 214.61472 \r\nL 320.61767 214.627902 \r\nL 323.661307 214.640126 \r\nL 326.704943 214.651469 \r\nL 329.74858 214.662002 \r\nL 332.792216 214.671789 \r\nL 335.835852 214.68089 \r\nL 338.879489 214.689361 \r\nL 341.923125 214.697251 \r\nL 344.966761 214.704606 \r\nL 348.010398 214.71147 \r\nL 351.054034 214.717882 \r\nL 354.09767 214.723878 \r\nL 357.141307 214.729491 \r\nL 360.184943 214.734751 \r\n\" style=\"fill:none;stroke:#2ca02c;stroke-linecap:square;stroke-width:1.5;\"/>\r\n   </g>\r\n   <g id=\"line2d_16\">\r\n    <path clip-path=\"url(#p7bd11f3918)\" d=\"M 55.821307 17.114802 \r\nL 58.864943 32.968653 \r\nL 61.90858 47.550297 \r\nL 64.952216 60.961833 \r\nL 67.995852 73.297164 \r\nL 71.039489 84.642661 \r\nL 74.083125 95.07776 \r\nL 77.126761 104.675524 \r\nL 80.170398 113.503151 \r\nL 83.214034 121.622448 \r\nL 86.25767 129.090259 \r\nL 89.301307 135.95887 \r\nL 92.344943 142.276367 \r\nL 95.38858 148.086978 \r\nL 98.432216 153.431384 \r\nL 101.475852 158.346998 \r\nL 104.519489 162.868232 \r\nL 107.563125 167.026737 \r\nL 110.606761 170.851622 \r\nL 113.650398 174.369661 \r\nL 116.694034 177.605479 \r\nL 119.73767 180.581725 \r\nL 122.781307 183.319232 \r\nL 125.824943 185.837157 \r\nL 128.86858 188.153123 \r\nL 131.912216 190.283338 \r\nL 134.955852 192.242709 \r\nL 137.999489 194.044946 \r\nL 141.043125 195.70266 \r\nL 144.086761 197.227448 \r\nL 147.130398 198.629979 \r\nL 150.174034 199.920063 \r\nL 153.21767 201.106725 \r\nL 156.261307 202.198265 \r\nL 159.304943 203.202316 \r\nL 162.34858 204.125899 \r\nL 165.392216 204.975471 \r\nL 168.435852 205.756973 \r\nL 171.479489 206.475867 \r\nL 174.523125 207.137177 \r\nL 177.566761 207.745524 \r\nL 180.610398 208.305159 \r\nL 183.654034 208.819991 \r\nL 186.69767 209.293614 \r\nL 189.741307 209.729337 \r\nL 192.784943 210.130199 \r\nL 195.82858 210.499 \r\nL 198.872216 210.838311 \r\nL 201.915852 211.1505 \r\nL 204.959489 211.437742 \r\nL 208.003125 211.702039 \r\nL 211.046761 211.945233 \r\nL 214.090398 212.169017 \r\nL 217.134034 212.374949 \r\nL 220.17767 212.56446 \r\nL 223.221307 212.73887 \r\nL 226.264943 212.899388 \r\nL 229.30858 213.047131 \r\nL 232.352216 213.183123 \r\nL 235.395852 213.308307 \r\nL 238.439489 213.423549 \r\nL 241.483125 213.529649 \r\nL 244.526761 213.627339 \r\nL 247.570398 213.717294 \r\nL 250.614034 213.800134 \r\nL 253.65767 213.876431 \r\nL 256.701307 213.946709 \r\nL 259.744943 214.011452 \r\nL 262.78858 214.071102 \r\nL 265.832216 214.126069 \r\nL 268.875852 214.176729 \r\nL 271.919489 214.223426 \r\nL 274.963125 214.266479 \r\nL 278.006761 214.306179 \r\nL 281.050398 214.342797 \r\nL 284.094034 214.376578 \r\nL 287.13767 214.407751 \r\nL 290.181307 214.436524 \r\nL 293.224943 214.46309 \r\nL 296.26858 214.487626 \r\nL 299.312216 214.510295 \r\nL 302.355852 214.531246 \r\nL 305.399489 214.550617 \r\nL 308.443125 214.568534 \r\nL 311.486761 214.585114 \r\nL 314.530398 214.600465 \r\nL 317.574034 214.614684 \r\nL 320.61767 214.627862 \r\nL 323.661307 214.640083 \r\nL 326.704943 214.651423 \r\nL 329.74858 214.661953 \r\nL 332.792216 214.671738 \r\nL 335.835852 214.680836 \r\nL 338.879489 214.689304 \r\nL 341.923125 214.697191 \r\nL 344.966761 214.704545 \r\nL 348.010398 214.711406 \r\nL 351.054034 214.717816 \r\nL 354.09767 214.72381 \r\nL 357.141307 214.729421 \r\nL 360.184943 214.734679 \r\n\" style=\"fill:none;stroke:#d62728;stroke-linecap:square;stroke-width:1.5;\"/>\r\n   </g>\r\n   <g id=\"line2d_17\">\r\n    <path clip-path=\"url(#p7bd11f3918)\" d=\"M 55.821307 17.124125 \r\nL 58.864943 32.978452 \r\nL 61.90858 47.560547 \r\nL 64.952216 60.972512 \r\nL 67.995852 73.30825 \r\nL 71.039489 84.654133 \r\nL 74.083125 95.089597 \r\nL 77.126761 104.687706 \r\nL 80.170398 113.515661 \r\nL 83.214034 121.635266 \r\nL 86.25767 129.103369 \r\nL 89.301307 135.972255 \r\nL 92.344943 142.290011 \r\nL 95.38858 148.100868 \r\nL 98.432216 153.445504 \r\nL 101.475852 158.361336 \r\nL 104.519489 162.882774 \r\nL 107.563125 167.041471 \r\nL 110.606761 170.866537 \r\nL 113.650398 174.384746 \r\nL 116.694034 177.620724 \r\nL 119.73767 180.597121 \r\nL 122.781307 183.334768 \r\nL 125.824943 185.852826 \r\nL 128.86858 188.168917 \r\nL 131.912216 190.299248 \r\nL 134.955852 192.258729 \r\nL 137.999489 194.061069 \r\nL 141.043125 195.718878 \r\nL 144.086761 197.243757 \r\nL 147.130398 198.646373 \r\nL 150.174034 199.936537 \r\nL 153.21767 201.123273 \r\nL 156.261307 202.214883 \r\nL 159.304943 203.218999 \r\nL 162.34858 204.142644 \r\nL 165.392216 204.992274 \r\nL 168.435852 205.77383 \r\nL 171.479489 206.492774 \r\nL 174.523125 207.154132 \r\nL 177.566761 207.762524 \r\nL 180.610398 208.3222 \r\nL 183.654034 208.837071 \r\nL 186.69767 209.310731 \r\nL 189.741307 209.746488 \r\nL 192.784943 210.147383 \r\nL 195.82858 210.516214 \r\nL 198.872216 210.855554 \r\nL 201.915852 211.167769 \r\nL 204.959489 211.455036 \r\nL 208.003125 211.719357 \r\nL 211.046761 211.962573 \r\nL 214.090398 212.186378 \r\nL 217.134034 212.39233 \r\nL 220.17767 212.58186 \r\nL 223.221307 212.756286 \r\nL 226.264943 212.916822 \r\nL 229.30858 213.06458 \r\nL 232.352216 213.200586 \r\nL 235.395852 213.325784 \r\nL 238.439489 213.44104 \r\nL 241.483125 213.547152 \r\nL 244.526761 213.644854 \r\nL 247.570398 213.73482 \r\nL 250.614034 213.817671 \r\nL 253.65767 213.893978 \r\nL 256.701307 213.964266 \r\nL 259.744943 214.029017 \r\nL 262.78858 214.088677 \r\nL 265.832216 214.143652 \r\nL 268.875852 214.194319 \r\nL 271.919489 214.241024 \r\nL 274.963125 214.284084 \r\nL 278.006761 214.323792 \r\nL 281.050398 214.360416 \r\nL 284.094034 214.394204 \r\nL 287.13767 214.425383 \r\nL 290.181307 214.454162 \r\nL 293.224943 214.480734 \r\nL 296.26858 214.505276 \r\nL 299.312216 214.52795 \r\nL 302.355852 214.548906 \r\nL 305.399489 214.568282 \r\nL 308.443125 214.586204 \r\nL 311.486761 214.60279 \r\nL 314.530398 214.618145 \r\nL 317.574034 214.632369 \r\nL 320.61767 214.645551 \r\nL 323.661307 214.657777 \r\nL 326.704943 214.669121 \r\nL 329.74858 214.679655 \r\nL 332.792216 214.689444 \r\nL 335.835852 214.698547 \r\nL 338.879489 214.707018 \r\nL 341.923125 214.71491 \r\nL 344.966761 214.722267 \r\nL 348.010398 214.729132 \r\nL 351.054034 214.735546 \r\nL 354.09767 214.741543 \r\nL 357.141307 214.747158 \r\nL 360.184943 214.75242 \r\n\" style=\"fill:none;stroke:#9467bd;stroke-linecap:square;stroke-width:1.5;\"/>\r\n   </g>\r\n   <g id=\"patch_3\">\r\n    <path d=\"M 40.603125 224.64 \r\nL 40.603125 7.2 \r\n\" style=\"fill:none;stroke:#000000;stroke-linecap:square;stroke-linejoin:miter;stroke-width:0.8;\"/>\r\n   </g>\r\n   <g id=\"patch_4\">\r\n    <path d=\"M 375.403125 224.64 \r\nL 375.403125 7.2 \r\n\" style=\"fill:none;stroke:#000000;stroke-linecap:square;stroke-linejoin:miter;stroke-width:0.8;\"/>\r\n   </g>\r\n   <g id=\"patch_5\">\r\n    <path d=\"M 40.603125 224.64 \r\nL 375.403125 224.64 \r\n\" style=\"fill:none;stroke:#000000;stroke-linecap:square;stroke-linejoin:miter;stroke-width:0.8;\"/>\r\n   </g>\r\n   <g id=\"patch_6\">\r\n    <path d=\"M 40.603125 7.2 \r\nL 375.403125 7.2 \r\n\" style=\"fill:none;stroke:#000000;stroke-linecap:square;stroke-linejoin:miter;stroke-width:0.8;\"/>\r\n   </g>\r\n  </g>\r\n </g>\r\n <defs>\r\n  <clipPath id=\"p7bd11f3918\">\r\n   <rect height=\"217.44\" width=\"334.8\" x=\"40.603125\" y=\"7.2\"/>\r\n  </clipPath>\r\n </defs>\r\n</svg>\r\n",
      "image/png": "[encoded data removed]"
     },
     "metadata": {
      "needs_background": "light"
     }
    }
   ],
   "source": [
    "%%time\n",
    "%pylab inline\n",
    "\n",
    "for error_by_iter in errors:\n",
    "    plot(range(len(error_by_iter)), error_by_iter)\n",
    "    xlabel('Num of steps')\n",
    "    ylabel('MSE')"
   ]
  },
  {
   "cell_type": "code",
   "execution_count": 9,
   "metadata": {},
   "outputs": [
    {
     "output_type": "stream",
     "name": "stdout",
     "text": [
      "Wall time: 58.7 s\n"
     ]
    },
    {
     "output_type": "execute_result",
     "data": {
      "text/plain": [
       "                      T1        T2        T3        T4        T5      Mean  \\\n",
       "SubaevR                                                                      \n",
       "RMSE-train      1.067204  1.066656  1.067276  1.067278  1.066769  1.067037   \n",
       "RMSE-test       1.066449  1.068432  1.066122  1.066088  1.068120  1.067042   \n",
       "R2-train        0.014367  0.014536  0.014410  0.014357  0.014542  0.014442   \n",
       "R2-test         0.014591  0.014300  0.014492  0.014754  0.014019  0.014431   \n",
       "Feature 1       3.484035  3.484633  3.484275  3.484193  3.484202  3.484268   \n",
       "...                  ...       ...       ...       ...       ...       ...   \n",
       "Feature 342803  0.113208  0.112846  0.113155  0.113167  0.112877  0.113050   \n",
       "Feature 342804  0.005150  0.005020  0.005048  0.005075  0.005230  0.005105   \n",
       "Feature 342805  0.013403  0.013332  0.013484  0.013365  0.013523  0.013421   \n",
       "Feature 342806 -0.001360 -0.001317 -0.001330 -0.001315 -0.001466 -0.001358   \n",
       "Feature 342807  0.016452  0.016155  0.016329  0.016645  0.016389  0.016394   \n",
       "\n",
       "                     Std  \n",
       "SubaevR                   \n",
       "RMSE-train      0.000268  \n",
       "RMSE-test       0.001020  \n",
       "R2-train        0.000081  \n",
       "R2-test         0.000253  \n",
       "Feature 1       0.000199  \n",
       "...                  ...  \n",
       "Feature 342803  0.000156  \n",
       "Feature 342804  0.000076  \n",
       "Feature 342805  0.000072  \n",
       "Feature 342806  0.000056  \n",
       "Feature 342807  0.000160  \n",
       "\n",
       "[342811 rows x 7 columns]"
      ],
      "text/html": "<div>\n<style scoped>\n    .dataframe tbody tr th:only-of-type {\n        vertical-align: middle;\n    }\n\n    .dataframe tbody tr th {\n        vertical-align: top;\n    }\n\n    .dataframe thead th {\n        text-align: right;\n    }\n</style>\n<table border=\"1\" class=\"dataframe\">\n  <thead>\n    <tr style=\"text-align: right;\">\n      <th></th>\n      <th>T1</th>\n      <th>T2</th>\n      <th>T3</th>\n      <th>T4</th>\n      <th>T5</th>\n      <th>Mean</th>\n      <th>Std</th>\n    </tr>\n    <tr>\n      <th>SubaevR</th>\n      <th></th>\n      <th></th>\n      <th></th>\n      <th></th>\n      <th></th>\n      <th></th>\n      <th></th>\n    </tr>\n  </thead>\n  <tbody>\n    <tr>\n      <th>RMSE-train</th>\n      <td>1.067204</td>\n      <td>1.066656</td>\n      <td>1.067276</td>\n      <td>1.067278</td>\n      <td>1.066769</td>\n      <td>1.067037</td>\n      <td>0.000268</td>\n    </tr>\n    <tr>\n      <th>RMSE-test</th>\n      <td>1.066449</td>\n      <td>1.068432</td>\n      <td>1.066122</td>\n      <td>1.066088</td>\n      <td>1.068120</td>\n      <td>1.067042</td>\n      <td>0.001020</td>\n    </tr>\n    <tr>\n      <th>R2-train</th>\n      <td>0.014367</td>\n      <td>0.014536</td>\n      <td>0.014410</td>\n      <td>0.014357</td>\n      <td>0.014542</td>\n      <td>0.014442</td>\n      <td>0.000081</td>\n    </tr>\n    <tr>\n      <th>R2-test</th>\n      <td>0.014591</td>\n      <td>0.014300</td>\n      <td>0.014492</td>\n      <td>0.014754</td>\n      <td>0.014019</td>\n      <td>0.014431</td>\n      <td>0.000253</td>\n    </tr>\n    <tr>\n      <th>Feature 1</th>\n      <td>3.484035</td>\n      <td>3.484633</td>\n      <td>3.484275</td>\n      <td>3.484193</td>\n      <td>3.484202</td>\n      <td>3.484268</td>\n      <td>0.000199</td>\n    </tr>\n    <tr>\n      <th>...</th>\n      <td>...</td>\n      <td>...</td>\n      <td>...</td>\n      <td>...</td>\n      <td>...</td>\n      <td>...</td>\n      <td>...</td>\n    </tr>\n    <tr>\n      <th>Feature 342803</th>\n      <td>0.113208</td>\n      <td>0.112846</td>\n      <td>0.113155</td>\n      <td>0.113167</td>\n      <td>0.112877</td>\n      <td>0.113050</td>\n      <td>0.000156</td>\n    </tr>\n    <tr>\n      <th>Feature 342804</th>\n      <td>0.005150</td>\n      <td>0.005020</td>\n      <td>0.005048</td>\n      <td>0.005075</td>\n      <td>0.005230</td>\n      <td>0.005105</td>\n      <td>0.000076</td>\n    </tr>\n    <tr>\n      <th>Feature 342805</th>\n      <td>0.013403</td>\n      <td>0.013332</td>\n      <td>0.013484</td>\n      <td>0.013365</td>\n      <td>0.013523</td>\n      <td>0.013421</td>\n      <td>0.000072</td>\n    </tr>\n    <tr>\n      <th>Feature 342806</th>\n      <td>-0.001360</td>\n      <td>-0.001317</td>\n      <td>-0.001330</td>\n      <td>-0.001315</td>\n      <td>-0.001466</td>\n      <td>-0.001358</td>\n      <td>0.000056</td>\n    </tr>\n    <tr>\n      <th>Feature 342807</th>\n      <td>0.016452</td>\n      <td>0.016155</td>\n      <td>0.016329</td>\n      <td>0.016645</td>\n      <td>0.016389</td>\n      <td>0.016394</td>\n      <td>0.000160</td>\n    </tr>\n  </tbody>\n</table>\n<p>342811 rows × 7 columns</p>\n</div>"
     },
     "metadata": {},
     "execution_count": 9
    }
   ],
   "source": [
    "%%time\n",
    "'''\n",
    "                    ##           Output           ##\n",
    "'''\n",
    "\n",
    "columns = [\"SubaevR\"]\n",
    "columns += [f\"T{i + 1}\" for i in range(num_of_splits)]\n",
    "columns.append(\"Mean\")\n",
    "columns.append(\"Std\")\n",
    "\n",
    "rows =  [\"RMSE-train\", \"RMSE-test\", \"R2-train\", \"R2-test\"]\n",
    "rows += [f\"Feature {i + 1}\" for i in range(len(weights[0]))]\n",
    "\n",
    "\n",
    "result_dataframe = pd.DataFrame(columns=columns)\n",
    "result_dataframe[\"SubaevR\"] = rows\n",
    "result_dataframe.set_index(\"SubaevR\", inplace=True)\n",
    "\n",
    "for i in range(num_of_splits):\n",
    "    data = np.concatenate(([rmse_train[i], rmse_test[i], r2s_train[i], r2s_test[i]], weights[i].reshape((-1,))))\n",
    "    result_dataframe[f\"T{i + 1}\"] = data\n",
    "\n",
    "result_dataframe[\"Mean\"] = result_dataframe.mean(axis=1)\n",
    "result_dataframe[\"Std\"] = result_dataframe.std(axis=1)\n",
    "\n",
    "with pd.ExcelWriter(\"SubaevRuslan_2.xlsx\") as writer:\n",
    "    result_dataframe.to_excel(writer)\n",
    "\n",
    "result_dataframe"
   ]
  }
 ]
}