{
  "nbformat": 4,
  "nbformat_minor": 0,
  "metadata": {
    "kernelspec": {
      "name": "python3",
      "display_name": "Python 3.9.1 64-bit",
      "metadata": {
        "interpreter": {
          "hash": "7bc11272627b579e4447e2eebf3fb89d685460e5f2727d5fd6d47c813d9e2e04"
        }
      }
    },
    "language_info": {
      "codemirror_mode": {
        "name": "ipython",
        "version": 2
      },
      "file_extension": ".py",
      "mimetype": "text/x-python",
      "name": "python",
      "nbconvert_exporter": "python",
      "pygments_lexer": "ipython2",
      "version": "3.9.1"
    },
    "colab": {
      "name": "Task3_Bashkirov.ipynb",
      "provenance": []
    }
  },
  "cells": [
    {
      "cell_type": "code",
      "metadata": {
        "pycharm": {
          "name": "#%%\n"
        },
        "id": "Hrse_tWyvIC2"
      },
      "source": [
        "import numpy as np\n",
        "import pandas as pd\n",
        "import matplotlib.pyplot as plt\n",
        "\n",
        "from typing import List, Dict\n",
        "from random import randint"
      ],
      "execution_count": 1,
      "outputs": []
    },
    {
      "cell_type": "code",
      "metadata": {
        "pycharm": {
          "name": "#%%\n"
        },
        "id": "JAKNyichvIC3"
      },
      "source": [
        "'''                      ##           Constants are here            ##                      '''\n",
        "\n",
        "PATH_TO_GRAPH: str = \"./Gowalla_edges.txt\"\n",
        "PATH_TO_CHECKINS: str = \"./Gowalla_totalCheckins.txt\"\n",
        "NODES_TO_PROCESS: int = 250"
      ],
      "execution_count": 2,
      "outputs": []
    },
    {
      "cell_type": "code",
      "metadata": {
        "pycharm": {
          "name": "#%%\n"
        },
        "colab": {
          "base_uri": "https://localhost:8080/"
        },
        "id": "cfIBb9aIvIC3",
        "outputId": "3a4486f2-567d-467f-9cd1-e6bd7242d6a6"
      },
      "source": [
        "%%time\n",
        "'''                      ##           Loading of friendship graph adjacency matrix is incoming            ##                      '''\n",
        "\n",
        "def load_graph(path_to_data: str, nodes_to_process: int) -> np.ndarray:\n",
        "    m: np.ndarray = np.zeros(shape=(nodes_to_process, nodes_to_process), dtype=float)\n",
        "\n",
        "    with open(path_to_data, \"r\") as file:\n",
        "        for line in file:\n",
        "            if line.strip():\n",
        "                i: int\n",
        "                j: int\n",
        "                i, j = map(int, line.split())\n",
        "                if i < nodes_to_process and j < nodes_to_process:\n",
        "                    m[i, j], m[j, i] = 1, 1\n",
        "    return m\n",
        "\n",
        "graph: np.ndarray = load_graph(PATH_TO_GRAPH, NODES_TO_PROCESS)\n",
        "print(graph,'\\n\\n')"
      ],
      "execution_count": 3,
      "outputs": [
        {
          "output_type": "stream",
          "name": "stdout",
          "text": [
            "[[0. 1. 1. ... 1. 1. 1.]\n [1. 0. 1. ... 0. 0. 0.]\n [1. 1. 0. ... 0. 0. 0.]\n ...\n [1. 0. 0. ... 0. 0. 0.]\n [1. 0. 0. ... 0. 0. 0.]\n [1. 0. 0. ... 0. 0. 0.]] \n\n\nWall time: 1.07 s\n"
          ]
        }
      ]
    },
    {
      "cell_type": "code",
      "metadata": {
        "pycharm": {
          "name": "#%%\n"
        },
        "colab": {
          "base_uri": "https://localhost:8080/"
        },
        "id": "BHxVl0InvIC3",
        "outputId": "f7e214fb-4804-4546-adb3-dd021a42315d"
      },
      "source": [
        "%%time\n",
        "'''                      ##           Prepairing similarities matrix from friendship matrix            ##                      '''\n",
        "\n",
        "def calculate_similarities(x: np.ndarray) -> np.ndarray:\n",
        "    s: np.ndarray = np.zeros(x.shape)\n",
        "\n",
        "    for i in range(x.shape[0]):\n",
        "        for j in range(x.shape[0]):\n",
        "            s[i, j] = -1 * (x[i] - x[j]).T.dot(x[i] - x[j])\n",
        "\n",
        "    min_val: int = np.median(s)\n",
        "\n",
        "    for i in range(x.shape[0]):\n",
        "        s[i, i] = min_val\n",
        "    return s\n",
        "\n",
        "init_sim: np.ndarray = calculate_similarities(graph)\n",
        "print(init_sim,'\\n\\n')"
      ],
      "execution_count": 4,
      "outputs": [
        {
          "output_type": "stream",
          "name": "stdout",
          "text": [
            "[[ -10. -232. -217. ... -245. -249. -243.]\n [-232.  -10.  -33. ...  -19.  -19.  -25.]\n [-217.  -33.  -10. ...  -30.  -34.  -38.]\n ...\n [-245.  -19.  -30. ...  -10.   -6.  -12.]\n [-249.  -19.  -34. ...   -6.  -10.   -8.]\n [-243.  -25.  -38. ...  -12.   -8.  -10.]] \n\n\nWall time: 215 ms\n"
          ]
        }
      ]
    },
    {
      "cell_type": "code",
      "metadata": {
        "pycharm": {
          "name": "#%%\n"
        },
        "colab": {
          "base_uri": "https://localhost:8080/"
        },
        "id": "LcZ90GPRvIC4",
        "outputId": "f615ab3e-3039-4ee2-bc70-49368e8ed33f"
      },
      "source": [
        "%%time\n",
        "'''                      ##           Affinity Propagation algorithm is here uf           ##                      '''\n",
        "\n",
        "def do_affinity_propagation(s: np.ndarray, max_iter: int, damping: float):\n",
        "    n: int = s.shape[0]\n",
        "    r: np.ndarray = np.zeros(s.shape)\n",
        "    a: np.ndarray = np.zeros(s.shape)\n",
        "\n",
        "    for step in range(max_iter):\n",
        "        r_old: np.ndarray = r.copy()\n",
        "        a_old: np.ndarray = a.copy()\n",
        "\n",
        "        # Calc responsibilities\n",
        "        for i in range(n):\n",
        "            for k in range(n):\n",
        "                t = a[i] + s[i]\n",
        "                t[k] = -np.inf\n",
        "                r[i, k] = s[i, k] - np.max(t)\n",
        "\n",
        "        # Calc availabilities\n",
        "        for i in range(n):\n",
        "            for k in range(n):\n",
        "                if i != k:\n",
        "                    r_i_k, r[i, k] = r[i, k], -np.inf\n",
        "                    r_k_k, r[k, k] = r[k, k], -np.inf\n",
        "                    a[i, k] = min(0, r_k_k + np.sum(np.maximum(r[k], np.zeros_like(r[k]))))\n",
        "                    r[i, k] = r_i_k\n",
        "                    r[k, k] = r_k_k\n",
        "\n",
        "        for k in range(n):\n",
        "            r_k_k, r[k, k] = r[k, k], -np.inf\n",
        "            a[k, k] = min(0, np.sum(np.maximum(r[k], np.zeros_like(r[k]))))\n",
        "            r[k, k] = r_k_k\n",
        "\n",
        "        # Exponential smoothing incoming\n",
        "        if step > 0:\n",
        "            r = damping * r_old + (1 - damping) * r\n",
        "            a = damping * a_old + (1 - damping) * a\n",
        "\n",
        "    return r, a\n",
        "\n",
        "\n",
        "class MyAffinityPropagation:\n",
        "    __r: np.ndarray\n",
        "    __a: np.ndarray\n",
        "    max_iter: int\n",
        "    damping: float\n",
        "\n",
        "    def __init__(self, damping: float = 0.8, max_iter: int = 100):\n",
        "        self.damping = damping\n",
        "        self.max_iter = max_iter\n",
        "        self.__r = np.empty(0)\n",
        "        self.__a = np.empty(0)\n",
        "\n",
        "    def fit(self, s: np.ndarray):\n",
        "        assert len(s.shape) == 2 and s.shape[0] == s.shape[1]\n",
        "        self.__r, self.__a = do_affinity_propagation(s, self.max_iter, self.damping)\n",
        "\n",
        "        return self\n",
        "\n",
        "    @property\n",
        "    def labels(self) -> List[int]:\n",
        "        t: np.ndarray = self.__r + self.__a\n",
        "\n",
        "        return [np.argmax(t[i]) for i in range(t.shape[0])]\n",
        "\n",
        "\n",
        "exemplars: List[int] = MyAffinityPropagation(damping=0.9, max_iter=200).fit(init_sim).labels\n",
        "print(exemplars, '\\n\\n')"
      ],
      "execution_count": 5,
      "outputs": [
        {
          "output_type": "stream",
          "name": "stdout",
          "text": [
            "[0, 1, 2, 3, 39, 5, 167, 150, 39, 10, 11, 10, 39, 39, 70, 15, 8, 120, 223, 197, 223, 21, 22, 39, 39, 91, 231, 39, 64, 150, 227, 31, 120, 39, 126, 39, 39, 70, 39, 47, 40, 41, 161, 91, 166, 8, 39, 39, 39, 248, 39, 64, 52, 53, 166, 12, 12, 39, 24, 12, 8, 70, 161, 63, 39, 24, 66, 120, 68, 39, 39, 39, 39, 91, 39, 248, 223, 39, 197, 8, 13, 183, 82, 223, 39, 8, 113, 39, 88, 89, 223, 39, 126, 69, 206, 126, 91, 97, 98, 99, 150, 120, 39, 39, 100, 39, 157, 199, 157, 233, 39, 111, 125, 39, 223, 39, 116, 159, 39, 70, 39, 227, 39, 126, 124, 230, 39, 46, 39, 39, 159, 120, 64, 135, 120, 133, 71, 197, 138, 139, 227, 77, 39, 143, 23, 150, 39, 39, 233, 122, 39, 227, 39, 203, 27, 77, 233, 39, 91, 39, 39, 230, 69, 122, 39, 165, 39, 39, 159, 159, 69, 39, 172, 12, 12, 39, 39, 12, 178, 39, 77, 8, 182, 39, 184, 154, 69, 8, 188, 12, 190, 235, 39, 64, 248, 110, 12, 39, 120, 39, 243, 39, 69, 153, 204, 159, 39, 207, 39, 209, 12, 211, 212, 13, 39, 39, 120, 217, 120, 91, 220, 221, 87, 39, 39, 39, 8, 39, 248, 227, 161, 39, 248, 77, 235, 39, 8, 150, 113, 12, 39, 241, 8, 69, 223, 36, 39, 69, 39, 8] \n\n\nWall time: 3min 3s\n"
          ]
        }
      ]
    },
    {
      "cell_type": "code",
      "metadata": {
        "pycharm": {
          "name": "#%%\n"
        },
        "colab": {
          "base_uri": "https://localhost:8080/"
        },
        "id": "7j-dMrxyvIC4",
        "outputId": "0ef75aee-1ef3-49c0-849a-ca140e89a808"
      },
      "source": [
        "clusters: Dict[int, List[int]] = {x: [] for x in set(exemplars)}\n",
        "for i in range(len(exemplars)):\n",
        "    clusters[exemplars[i]].append(i)\n",
        "\n",
        "clusters"
      ],
      "execution_count": 6,
      "outputs": [
        {
          "output_type": "execute_result",
          "data": {
            "text/plain": [
              "{0: [0],\n",
              " 1: [1],\n",
              " 2: [2],\n",
              " 3: [3],\n",
              " 5: [5],\n",
              " 8: [16, 45, 60, 79, 85, 181, 187, 226, 236, 242, 249],\n",
              " 10: [9, 11],\n",
              " 11: [10],\n",
              " 12: [55, 56, 59, 173, 174, 177, 189, 196, 210, 239],\n",
              " 13: [80, 213],\n",
              " 15: [15],\n",
              " 21: [21],\n",
              " 22: [22],\n",
              " 23: [144],\n",
              " 24: [58, 65],\n",
              " 27: [154],\n",
              " 31: [31],\n",
              " 36: [245],\n",
              " 39: [4,\n",
              "  8,\n",
              "  12,\n",
              "  13,\n",
              "  23,\n",
              "  24,\n",
              "  27,\n",
              "  33,\n",
              "  35,\n",
              "  36,\n",
              "  38,\n",
              "  46,\n",
              "  47,\n",
              "  48,\n",
              "  50,\n",
              "  57,\n",
              "  64,\n",
              "  69,\n",
              "  70,\n",
              "  71,\n",
              "  72,\n",
              "  74,\n",
              "  77,\n",
              "  84,\n",
              "  87,\n",
              "  91,\n",
              "  102,\n",
              "  103,\n",
              "  105,\n",
              "  110,\n",
              "  113,\n",
              "  115,\n",
              "  118,\n",
              "  120,\n",
              "  122,\n",
              "  126,\n",
              "  128,\n",
              "  129,\n",
              "  142,\n",
              "  146,\n",
              "  147,\n",
              "  150,\n",
              "  152,\n",
              "  157,\n",
              "  159,\n",
              "  160,\n",
              "  164,\n",
              "  166,\n",
              "  167,\n",
              "  171,\n",
              "  175,\n",
              "  176,\n",
              "  179,\n",
              "  183,\n",
              "  192,\n",
              "  197,\n",
              "  199,\n",
              "  201,\n",
              "  206,\n",
              "  208,\n",
              "  214,\n",
              "  215,\n",
              "  223,\n",
              "  224,\n",
              "  225,\n",
              "  227,\n",
              "  231,\n",
              "  235,\n",
              "  240,\n",
              "  246,\n",
              "  248],\n",
              " 40: [40],\n",
              " 41: [41],\n",
              " 46: [127],\n",
              " 47: [39],\n",
              " 52: [52],\n",
              " 53: [53],\n",
              " 63: [63],\n",
              " 64: [28, 51, 132, 193],\n",
              " 66: [66],\n",
              " 68: [68],\n",
              " 69: [93, 162, 170, 186, 202, 243, 247],\n",
              " 70: [14, 37, 61, 119],\n",
              " 71: [136],\n",
              " 77: [141, 155, 180, 233],\n",
              " 82: [82],\n",
              " 87: [222],\n",
              " 88: [88],\n",
              " 89: [89],\n",
              " 91: [25, 43, 73, 96, 158, 219],\n",
              " 97: [97],\n",
              " 98: [98],\n",
              " 99: [99],\n",
              " 100: [104],\n",
              " 110: [195],\n",
              " 111: [111],\n",
              " 113: [86, 238],\n",
              " 116: [116],\n",
              " 120: [17, 32, 67, 101, 131, 134, 198, 216, 218],\n",
              " 122: [149, 163],\n",
              " 124: [124],\n",
              " 125: [112],\n",
              " 126: [34, 92, 95, 123],\n",
              " 133: [135],\n",
              " 135: [133],\n",
              " 138: [138],\n",
              " 139: [139],\n",
              " 143: [143],\n",
              " 150: [7, 29, 100, 145, 237],\n",
              " 153: [203],\n",
              " 154: [185],\n",
              " 157: [106, 108],\n",
              " 159: [117, 130, 168, 169, 205],\n",
              " 161: [42, 62, 230],\n",
              " 165: [165],\n",
              " 166: [44, 54],\n",
              " 167: [6],\n",
              " 172: [172],\n",
              " 178: [178],\n",
              " 182: [182],\n",
              " 183: [81],\n",
              " 184: [184],\n",
              " 188: [188],\n",
              " 190: [190],\n",
              " 197: [19, 78, 137],\n",
              " 199: [107],\n",
              " 203: [153],\n",
              " 204: [204],\n",
              " 206: [94],\n",
              " 207: [207],\n",
              " 209: [209],\n",
              " 211: [211],\n",
              " 212: [212],\n",
              " 217: [217],\n",
              " 220: [220],\n",
              " 221: [221],\n",
              " 223: [18, 20, 76, 83, 90, 114, 244],\n",
              " 227: [30, 121, 140, 151, 229],\n",
              " 230: [125, 161],\n",
              " 231: [26],\n",
              " 233: [109, 148, 156],\n",
              " 235: [191, 234],\n",
              " 241: [241],\n",
              " 243: [200],\n",
              " 248: [49, 75, 194, 228, 232]}"
            ]
          },
          "metadata": {},
          "execution_count": 6
        }
      ]
    },
    {
      "cell_type": "code",
      "metadata": {
        "pycharm": {
          "name": "#%%\n"
        },
        "colab": {
          "base_uri": "https://localhost:8080/"
        },
        "id": "CBNwiwl_vIC4",
        "outputId": "c997dc29-7180-4fbc-9db3-eff70d35261f"
      },
      "source": [
        "cluster_sizes = np.array([len(x) for x in clusters.values()])\n",
        "\n",
        "print(f\"Total num of clusters is: {len(set(exemplars))}\\n\" + \n",
        "    f\"Min size of cluster: {np.min(cluster_sizes)}\\n\" + \n",
        "    f\"Average size of cluster: {np.average(cluster_sizes)}\\n\" + \n",
        "    f\"Median size of cluster: {np.median(cluster_sizes)}\\n\" + \n",
        "    f\"Max size of cluster: {np.max(cluster_sizes)}\")\n",
        "    "
      ],
      "execution_count": 7,
      "outputs": [
        {
          "output_type": "stream",
          "name": "stdout",
          "text": [
            "Total num of clusters is: 93\nMin size of cluster: 1\nAverage size of cluster: 2.6881720430107525\nMedian size of cluster: 1.0\nMax size of cluster: 71\n"
          ]
        }
      ]
    },
    {
      "cell_type": "code",
      "metadata": {
        "pycharm": {
          "name": "#%%\n"
        },
        "colab": {
          "base_uri": "https://localhost:8080/",
          "height": 265
        },
        "id": "pFyOABIovIC4",
        "outputId": "8afb1551-6fb9-445b-e523-c5bf007ba364"
      },
      "source": [
        "'''                      ##           The distribution of clusters by their's sizes            ##                      '''\n",
        "\n",
        "%matplotlib inline\n",
        "plt.hist(list(map(len, clusters.values())), bins=100)\n",
        "plt.show()\n",
        "\n",
        "df: pd.DataFrame = pd \\\n",
        "    .read_table(PATH_TO_CHECKINS, header=None, delim_whitespace=True) \\\n",
        "    .drop([1, 2, 3], axis=1) \\\n",
        "    .rename(columns={0: 'user_id', 4: 'place_id'})\n",
        "\n",
        "df"
      ],
      "execution_count": 8,
      "outputs": [
        {
          "output_type": "display_data",
          "data": {
            "text/plain": "<Figure size 432x288 with 1 Axes>",
            "image/svg+xml": "<?xml version=\"1.0\" encoding=\"utf-8\" standalone=\"no\"?>\r\n<!DOCTYPE svg PUBLIC \"-//W3C//DTD SVG 1.1//EN\"\r\n  \"http://www.w3.org/Graphics/SVG/1.1/DTD/svg11.dtd\">\r\n<!-- Created with matplotlib (https://matplotlib.org/) -->\r\n<svg height=\"248.518125pt\" version=\"1.1\" viewBox=\"0 0 368.925 248.518125\" width=\"368.925pt\" xmlns=\"http://www.w3.org/2000/svg\" xmlns:xlink=\"http://www.w3.org/1999/xlink\">\r\n <metadata>\r\n  <rdf:RDF xmlns:cc=\"http://creativecommons.org/ns#\" xmlns:dc=\"http://purl.org/dc/elements/1.1/\" xmlns:rdf=\"http://www.w3.org/1999/02/22-rdf-syntax-ns#\">\r\n   <cc:Work>\r\n    <dc:type rdf:resource=\"http://purl.org/dc/dcmitype/StillImage\"/>\r\n    <dc:date>2021-08-11T10:13:41.355263</dc:date>\r\n    <dc:format>image/svg+xml</dc:format>\r\n    <dc:creator>\r\n     <cc:Agent>\r\n      <dc:title>Matplotlib v3.3.3, https://matplotlib.org/</dc:title>\r\n     </cc:Agent>\r\n    </dc:creator>\r\n   </cc:Work>\r\n  </rdf:RDF>\r\n </metadata>\r\n <defs>\r\n  <style type=\"text/css\">*{stroke-linecap:butt;stroke-linejoin:round;}</style>\r\n </defs>\r\n <g id=\"figure_1\">\r\n  <g id=\"patch_1\">\r\n   <path d=\"M -0 248.518125 \r\nL 368.925 248.518125 \r\nL 368.925 0 \r\nL -0 0 \r\nz\r\n\" style=\"fill:none;\"/>\r\n  </g>\r\n  <g id=\"axes_1\">\r\n   <g id=\"patch_2\">\r\n    <path d=\"M 26.925 224.64 \r\nL 361.725 224.64 \r\nL 361.725 7.2 \r\nL 26.925 7.2 \r\nz\r\n\" style=\"fill:#ffffff;\"/>\r\n   </g>\r\n   <g id=\"patch_3\">\r\n    <path clip-path=\"url(#pf79763c168)\" d=\"M 42.143182 224.64 \r\nL 45.186818 224.64 \r\nL 45.186818 17.554286 \r\nL 42.143182 17.554286 \r\nz\r\n\" style=\"fill:#1f77b4;\"/>\r\n   </g>\r\n   <g id=\"patch_4\">\r\n    <path clip-path=\"url(#pf79763c168)\" d=\"M 45.186818 224.64 \r\nL 48.230455 224.64 \r\nL 48.230455 196.401039 \r\nL 45.186818 196.401039 \r\nz\r\n\" style=\"fill:#1f77b4;\"/>\r\n   </g>\r\n   <g id=\"patch_5\">\r\n    <path clip-path=\"url(#pf79763c168)\" d=\"M 48.230455 224.64 \r\nL 51.274091 224.64 \r\nL 51.274091 215.227013 \r\nL 48.230455 215.227013 \r\nz\r\n\" style=\"fill:#1f77b4;\"/>\r\n   </g>\r\n   <g id=\"patch_6\">\r\n    <path clip-path=\"url(#pf79763c168)\" d=\"M 51.274091 224.64 \r\nL 54.317727 224.64 \r\nL 54.317727 224.64 \r\nL 51.274091 224.64 \r\nz\r\n\" style=\"fill:#1f77b4;\"/>\r\n   </g>\r\n   <g id=\"patch_7\">\r\n    <path clip-path=\"url(#pf79763c168)\" d=\"M 54.317727 224.64 \r\nL 57.361364 224.64 \r\nL 57.361364 212.089351 \r\nL 54.317727 212.089351 \r\nz\r\n\" style=\"fill:#1f77b4;\"/>\r\n   </g>\r\n   <g id=\"patch_8\">\r\n    <path clip-path=\"url(#pf79763c168)\" d=\"M 57.361364 224.64 \r\nL 60.405 224.64 \r\nL 60.405 212.089351 \r\nL 57.361364 212.089351 \r\nz\r\n\" style=\"fill:#1f77b4;\"/>\r\n   </g>\r\n   <g id=\"patch_9\">\r\n    <path clip-path=\"url(#pf79763c168)\" d=\"M 60.405 224.64 \r\nL 63.448636 224.64 \r\nL 63.448636 224.64 \r\nL 60.405 224.64 \r\nz\r\n\" style=\"fill:#1f77b4;\"/>\r\n   </g>\r\n   <g id=\"patch_10\">\r\n    <path clip-path=\"url(#pf79763c168)\" d=\"M 63.448636 224.64 \r\nL 66.492273 224.64 \r\nL 66.492273 221.502338 \r\nL 63.448636 221.502338 \r\nz\r\n\" style=\"fill:#1f77b4;\"/>\r\n   </g>\r\n   <g id=\"patch_11\">\r\n    <path clip-path=\"url(#pf79763c168)\" d=\"M 66.492273 224.64 \r\nL 69.535909 224.64 \r\nL 69.535909 218.364675 \r\nL 66.492273 218.364675 \r\nz\r\n\" style=\"fill:#1f77b4;\"/>\r\n   </g>\r\n   <g id=\"patch_12\">\r\n    <path clip-path=\"url(#pf79763c168)\" d=\"M 69.535909 224.64 \r\nL 72.579545 224.64 \r\nL 72.579545 224.64 \r\nL 69.535909 224.64 \r\nz\r\n\" style=\"fill:#1f77b4;\"/>\r\n   </g>\r\n   <g id=\"patch_13\">\r\n    <path clip-path=\"url(#pf79763c168)\" d=\"M 72.579545 224.64 \r\nL 75.623182 224.64 \r\nL 75.623182 224.64 \r\nL 72.579545 224.64 \r\nz\r\n\" style=\"fill:#1f77b4;\"/>\r\n   </g>\r\n   <g id=\"patch_14\">\r\n    <path clip-path=\"url(#pf79763c168)\" d=\"M 75.623182 224.64 \r\nL 78.666818 224.64 \r\nL 78.666818 221.502338 \r\nL 75.623182 221.502338 \r\nz\r\n\" style=\"fill:#1f77b4;\"/>\r\n   </g>\r\n   <g id=\"patch_15\">\r\n    <path clip-path=\"url(#pf79763c168)\" d=\"M 78.666818 224.64 \r\nL 81.710455 224.64 \r\nL 81.710455 221.502338 \r\nL 78.666818 221.502338 \r\nz\r\n\" style=\"fill:#1f77b4;\"/>\r\n   </g>\r\n   <g id=\"patch_16\">\r\n    <path clip-path=\"url(#pf79763c168)\" d=\"M 81.710455 224.64 \r\nL 84.754091 224.64 \r\nL 84.754091 224.64 \r\nL 81.710455 224.64 \r\nz\r\n\" style=\"fill:#1f77b4;\"/>\r\n   </g>\r\n   <g id=\"patch_17\">\r\n    <path clip-path=\"url(#pf79763c168)\" d=\"M 84.754091 224.64 \r\nL 87.797727 224.64 \r\nL 87.797727 221.502338 \r\nL 84.754091 221.502338 \r\nz\r\n\" style=\"fill:#1f77b4;\"/>\r\n   </g>\r\n   <g id=\"patch_18\">\r\n    <path clip-path=\"url(#pf79763c168)\" d=\"M 87.797727 224.64 \r\nL 90.841364 224.64 \r\nL 90.841364 224.64 \r\nL 87.797727 224.64 \r\nz\r\n\" style=\"fill:#1f77b4;\"/>\r\n   </g>\r\n   <g id=\"patch_19\">\r\n    <path clip-path=\"url(#pf79763c168)\" d=\"M 90.841364 224.64 \r\nL 93.885 224.64 \r\nL 93.885 224.64 \r\nL 90.841364 224.64 \r\nz\r\n\" style=\"fill:#1f77b4;\"/>\r\n   </g>\r\n   <g id=\"patch_20\">\r\n    <path clip-path=\"url(#pf79763c168)\" d=\"M 93.885 224.64 \r\nL 96.928636 224.64 \r\nL 96.928636 224.64 \r\nL 93.885 224.64 \r\nz\r\n\" style=\"fill:#1f77b4;\"/>\r\n   </g>\r\n   <g id=\"patch_21\">\r\n    <path clip-path=\"url(#pf79763c168)\" d=\"M 96.928636 224.64 \r\nL 99.972273 224.64 \r\nL 99.972273 224.64 \r\nL 96.928636 224.64 \r\nz\r\n\" style=\"fill:#1f77b4;\"/>\r\n   </g>\r\n   <g id=\"patch_22\">\r\n    <path clip-path=\"url(#pf79763c168)\" d=\"M 99.972273 224.64 \r\nL 103.015909 224.64 \r\nL 103.015909 224.64 \r\nL 99.972273 224.64 \r\nz\r\n\" style=\"fill:#1f77b4;\"/>\r\n   </g>\r\n   <g id=\"patch_23\">\r\n    <path clip-path=\"url(#pf79763c168)\" d=\"M 103.015909 224.64 \r\nL 106.059545 224.64 \r\nL 106.059545 224.64 \r\nL 103.015909 224.64 \r\nz\r\n\" style=\"fill:#1f77b4;\"/>\r\n   </g>\r\n   <g id=\"patch_24\">\r\n    <path clip-path=\"url(#pf79763c168)\" d=\"M 106.059545 224.64 \r\nL 109.103182 224.64 \r\nL 109.103182 224.64 \r\nL 106.059545 224.64 \r\nz\r\n\" style=\"fill:#1f77b4;\"/>\r\n   </g>\r\n   <g id=\"patch_25\">\r\n    <path clip-path=\"url(#pf79763c168)\" d=\"M 109.103182 224.64 \r\nL 112.146818 224.64 \r\nL 112.146818 224.64 \r\nL 109.103182 224.64 \r\nz\r\n\" style=\"fill:#1f77b4;\"/>\r\n   </g>\r\n   <g id=\"patch_26\">\r\n    <path clip-path=\"url(#pf79763c168)\" d=\"M 112.146818 224.64 \r\nL 115.190455 224.64 \r\nL 115.190455 224.64 \r\nL 112.146818 224.64 \r\nz\r\n\" style=\"fill:#1f77b4;\"/>\r\n   </g>\r\n   <g id=\"patch_27\">\r\n    <path clip-path=\"url(#pf79763c168)\" d=\"M 115.190455 224.64 \r\nL 118.234091 224.64 \r\nL 118.234091 224.64 \r\nL 115.190455 224.64 \r\nz\r\n\" style=\"fill:#1f77b4;\"/>\r\n   </g>\r\n   <g id=\"patch_28\">\r\n    <path clip-path=\"url(#pf79763c168)\" d=\"M 118.234091 224.64 \r\nL 121.277727 224.64 \r\nL 121.277727 224.64 \r\nL 118.234091 224.64 \r\nz\r\n\" style=\"fill:#1f77b4;\"/>\r\n   </g>\r\n   <g id=\"patch_29\">\r\n    <path clip-path=\"url(#pf79763c168)\" d=\"M 121.277727 224.64 \r\nL 124.321364 224.64 \r\nL 124.321364 224.64 \r\nL 121.277727 224.64 \r\nz\r\n\" style=\"fill:#1f77b4;\"/>\r\n   </g>\r\n   <g id=\"patch_30\">\r\n    <path clip-path=\"url(#pf79763c168)\" d=\"M 124.321364 224.64 \r\nL 127.365 224.64 \r\nL 127.365 224.64 \r\nL 124.321364 224.64 \r\nz\r\n\" style=\"fill:#1f77b4;\"/>\r\n   </g>\r\n   <g id=\"patch_31\">\r\n    <path clip-path=\"url(#pf79763c168)\" d=\"M 127.365 224.64 \r\nL 130.408636 224.64 \r\nL 130.408636 224.64 \r\nL 127.365 224.64 \r\nz\r\n\" style=\"fill:#1f77b4;\"/>\r\n   </g>\r\n   <g id=\"patch_32\">\r\n    <path clip-path=\"url(#pf79763c168)\" d=\"M 130.408636 224.64 \r\nL 133.452273 224.64 \r\nL 133.452273 224.64 \r\nL 130.408636 224.64 \r\nz\r\n\" style=\"fill:#1f77b4;\"/>\r\n   </g>\r\n   <g id=\"patch_33\">\r\n    <path clip-path=\"url(#pf79763c168)\" d=\"M 133.452273 224.64 \r\nL 136.495909 224.64 \r\nL 136.495909 224.64 \r\nL 133.452273 224.64 \r\nz\r\n\" style=\"fill:#1f77b4;\"/>\r\n   </g>\r\n   <g id=\"patch_34\">\r\n    <path clip-path=\"url(#pf79763c168)\" d=\"M 136.495909 224.64 \r\nL 139.539545 224.64 \r\nL 139.539545 224.64 \r\nL 136.495909 224.64 \r\nz\r\n\" style=\"fill:#1f77b4;\"/>\r\n   </g>\r\n   <g id=\"patch_35\">\r\n    <path clip-path=\"url(#pf79763c168)\" d=\"M 139.539545 224.64 \r\nL 142.583182 224.64 \r\nL 142.583182 224.64 \r\nL 139.539545 224.64 \r\nz\r\n\" style=\"fill:#1f77b4;\"/>\r\n   </g>\r\n   <g id=\"patch_36\">\r\n    <path clip-path=\"url(#pf79763c168)\" d=\"M 142.583182 224.64 \r\nL 145.626818 224.64 \r\nL 145.626818 224.64 \r\nL 142.583182 224.64 \r\nz\r\n\" style=\"fill:#1f77b4;\"/>\r\n   </g>\r\n   <g id=\"patch_37\">\r\n    <path clip-path=\"url(#pf79763c168)\" d=\"M 145.626818 224.64 \r\nL 148.670455 224.64 \r\nL 148.670455 224.64 \r\nL 145.626818 224.64 \r\nz\r\n\" style=\"fill:#1f77b4;\"/>\r\n   </g>\r\n   <g id=\"patch_38\">\r\n    <path clip-path=\"url(#pf79763c168)\" d=\"M 148.670455 224.64 \r\nL 151.714091 224.64 \r\nL 151.714091 224.64 \r\nL 148.670455 224.64 \r\nz\r\n\" style=\"fill:#1f77b4;\"/>\r\n   </g>\r\n   <g id=\"patch_39\">\r\n    <path clip-path=\"url(#pf79763c168)\" d=\"M 151.714091 224.64 \r\nL 154.757727 224.64 \r\nL 154.757727 224.64 \r\nL 151.714091 224.64 \r\nz\r\n\" style=\"fill:#1f77b4;\"/>\r\n   </g>\r\n   <g id=\"patch_40\">\r\n    <path clip-path=\"url(#pf79763c168)\" d=\"M 154.757727 224.64 \r\nL 157.801364 224.64 \r\nL 157.801364 224.64 \r\nL 154.757727 224.64 \r\nz\r\n\" style=\"fill:#1f77b4;\"/>\r\n   </g>\r\n   <g id=\"patch_41\">\r\n    <path clip-path=\"url(#pf79763c168)\" d=\"M 157.801364 224.64 \r\nL 160.845 224.64 \r\nL 160.845 224.64 \r\nL 157.801364 224.64 \r\nz\r\n\" style=\"fill:#1f77b4;\"/>\r\n   </g>\r\n   <g id=\"patch_42\">\r\n    <path clip-path=\"url(#pf79763c168)\" d=\"M 160.845 224.64 \r\nL 163.888636 224.64 \r\nL 163.888636 224.64 \r\nL 160.845 224.64 \r\nz\r\n\" style=\"fill:#1f77b4;\"/>\r\n   </g>\r\n   <g id=\"patch_43\">\r\n    <path clip-path=\"url(#pf79763c168)\" d=\"M 163.888636 224.64 \r\nL 166.932273 224.64 \r\nL 166.932273 224.64 \r\nL 163.888636 224.64 \r\nz\r\n\" style=\"fill:#1f77b4;\"/>\r\n   </g>\r\n   <g id=\"patch_44\">\r\n    <path clip-path=\"url(#pf79763c168)\" d=\"M 166.932273 224.64 \r\nL 169.975909 224.64 \r\nL 169.975909 224.64 \r\nL 166.932273 224.64 \r\nz\r\n\" style=\"fill:#1f77b4;\"/>\r\n   </g>\r\n   <g id=\"patch_45\">\r\n    <path clip-path=\"url(#pf79763c168)\" d=\"M 169.975909 224.64 \r\nL 173.019545 224.64 \r\nL 173.019545 224.64 \r\nL 169.975909 224.64 \r\nz\r\n\" style=\"fill:#1f77b4;\"/>\r\n   </g>\r\n   <g id=\"patch_46\">\r\n    <path clip-path=\"url(#pf79763c168)\" d=\"M 173.019545 224.64 \r\nL 176.063182 224.64 \r\nL 176.063182 224.64 \r\nL 173.019545 224.64 \r\nz\r\n\" style=\"fill:#1f77b4;\"/>\r\n   </g>\r\n   <g id=\"patch_47\">\r\n    <path clip-path=\"url(#pf79763c168)\" d=\"M 176.063182 224.64 \r\nL 179.106818 224.64 \r\nL 179.106818 224.64 \r\nL 176.063182 224.64 \r\nz\r\n\" style=\"fill:#1f77b4;\"/>\r\n   </g>\r\n   <g id=\"patch_48\">\r\n    <path clip-path=\"url(#pf79763c168)\" d=\"M 179.106818 224.64 \r\nL 182.150455 224.64 \r\nL 182.150455 224.64 \r\nL 179.106818 224.64 \r\nz\r\n\" style=\"fill:#1f77b4;\"/>\r\n   </g>\r\n   <g id=\"patch_49\">\r\n    <path clip-path=\"url(#pf79763c168)\" d=\"M 182.150455 224.64 \r\nL 185.194091 224.64 \r\nL 185.194091 224.64 \r\nL 182.150455 224.64 \r\nz\r\n\" style=\"fill:#1f77b4;\"/>\r\n   </g>\r\n   <g id=\"patch_50\">\r\n    <path clip-path=\"url(#pf79763c168)\" d=\"M 185.194091 224.64 \r\nL 188.237727 224.64 \r\nL 188.237727 224.64 \r\nL 185.194091 224.64 \r\nz\r\n\" style=\"fill:#1f77b4;\"/>\r\n   </g>\r\n   <g id=\"patch_51\">\r\n    <path clip-path=\"url(#pf79763c168)\" d=\"M 188.237727 224.64 \r\nL 191.281364 224.64 \r\nL 191.281364 224.64 \r\nL 188.237727 224.64 \r\nz\r\n\" style=\"fill:#1f77b4;\"/>\r\n   </g>\r\n   <g id=\"patch_52\">\r\n    <path clip-path=\"url(#pf79763c168)\" d=\"M 191.281364 224.64 \r\nL 194.325 224.64 \r\nL 194.325 224.64 \r\nL 191.281364 224.64 \r\nz\r\n\" style=\"fill:#1f77b4;\"/>\r\n   </g>\r\n   <g id=\"patch_53\">\r\n    <path clip-path=\"url(#pf79763c168)\" d=\"M 194.325 224.64 \r\nL 197.368636 224.64 \r\nL 197.368636 224.64 \r\nL 194.325 224.64 \r\nz\r\n\" style=\"fill:#1f77b4;\"/>\r\n   </g>\r\n   <g id=\"patch_54\">\r\n    <path clip-path=\"url(#pf79763c168)\" d=\"M 197.368636 224.64 \r\nL 200.412273 224.64 \r\nL 200.412273 224.64 \r\nL 197.368636 224.64 \r\nz\r\n\" style=\"fill:#1f77b4;\"/>\r\n   </g>\r\n   <g id=\"patch_55\">\r\n    <path clip-path=\"url(#pf79763c168)\" d=\"M 200.412273 224.64 \r\nL 203.455909 224.64 \r\nL 203.455909 224.64 \r\nL 200.412273 224.64 \r\nz\r\n\" style=\"fill:#1f77b4;\"/>\r\n   </g>\r\n   <g id=\"patch_56\">\r\n    <path clip-path=\"url(#pf79763c168)\" d=\"M 203.455909 224.64 \r\nL 206.499545 224.64 \r\nL 206.499545 224.64 \r\nL 203.455909 224.64 \r\nz\r\n\" style=\"fill:#1f77b4;\"/>\r\n   </g>\r\n   <g id=\"patch_57\">\r\n    <path clip-path=\"url(#pf79763c168)\" d=\"M 206.499545 224.64 \r\nL 209.543182 224.64 \r\nL 209.543182 224.64 \r\nL 206.499545 224.64 \r\nz\r\n\" style=\"fill:#1f77b4;\"/>\r\n   </g>\r\n   <g id=\"patch_58\">\r\n    <path clip-path=\"url(#pf79763c168)\" d=\"M 209.543182 224.64 \r\nL 212.586818 224.64 \r\nL 212.586818 224.64 \r\nL 209.543182 224.64 \r\nz\r\n\" style=\"fill:#1f77b4;\"/>\r\n   </g>\r\n   <g id=\"patch_59\">\r\n    <path clip-path=\"url(#pf79763c168)\" d=\"M 212.586818 224.64 \r\nL 215.630455 224.64 \r\nL 215.630455 224.64 \r\nL 212.586818 224.64 \r\nz\r\n\" style=\"fill:#1f77b4;\"/>\r\n   </g>\r\n   <g id=\"patch_60\">\r\n    <path clip-path=\"url(#pf79763c168)\" d=\"M 215.630455 224.64 \r\nL 218.674091 224.64 \r\nL 218.674091 224.64 \r\nL 215.630455 224.64 \r\nz\r\n\" style=\"fill:#1f77b4;\"/>\r\n   </g>\r\n   <g id=\"patch_61\">\r\n    <path clip-path=\"url(#pf79763c168)\" d=\"M 218.674091 224.64 \r\nL 221.717727 224.64 \r\nL 221.717727 224.64 \r\nL 218.674091 224.64 \r\nz\r\n\" style=\"fill:#1f77b4;\"/>\r\n   </g>\r\n   <g id=\"patch_62\">\r\n    <path clip-path=\"url(#pf79763c168)\" d=\"M 221.717727 224.64 \r\nL 224.761364 224.64 \r\nL 224.761364 224.64 \r\nL 221.717727 224.64 \r\nz\r\n\" style=\"fill:#1f77b4;\"/>\r\n   </g>\r\n   <g id=\"patch_63\">\r\n    <path clip-path=\"url(#pf79763c168)\" d=\"M 224.761364 224.64 \r\nL 227.805 224.64 \r\nL 227.805 224.64 \r\nL 224.761364 224.64 \r\nz\r\n\" style=\"fill:#1f77b4;\"/>\r\n   </g>\r\n   <g id=\"patch_64\">\r\n    <path clip-path=\"url(#pf79763c168)\" d=\"M 227.805 224.64 \r\nL 230.848636 224.64 \r\nL 230.848636 224.64 \r\nL 227.805 224.64 \r\nz\r\n\" style=\"fill:#1f77b4;\"/>\r\n   </g>\r\n   <g id=\"patch_65\">\r\n    <path clip-path=\"url(#pf79763c168)\" d=\"M 230.848636 224.64 \r\nL 233.892273 224.64 \r\nL 233.892273 224.64 \r\nL 230.848636 224.64 \r\nz\r\n\" style=\"fill:#1f77b4;\"/>\r\n   </g>\r\n   <g id=\"patch_66\">\r\n    <path clip-path=\"url(#pf79763c168)\" d=\"M 233.892273 224.64 \r\nL 236.935909 224.64 \r\nL 236.935909 224.64 \r\nL 233.892273 224.64 \r\nz\r\n\" style=\"fill:#1f77b4;\"/>\r\n   </g>\r\n   <g id=\"patch_67\">\r\n    <path clip-path=\"url(#pf79763c168)\" d=\"M 236.935909 224.64 \r\nL 239.979545 224.64 \r\nL 239.979545 224.64 \r\nL 236.935909 224.64 \r\nz\r\n\" style=\"fill:#1f77b4;\"/>\r\n   </g>\r\n   <g id=\"patch_68\">\r\n    <path clip-path=\"url(#pf79763c168)\" d=\"M 239.979545 224.64 \r\nL 243.023182 224.64 \r\nL 243.023182 224.64 \r\nL 239.979545 224.64 \r\nz\r\n\" style=\"fill:#1f77b4;\"/>\r\n   </g>\r\n   <g id=\"patch_69\">\r\n    <path clip-path=\"url(#pf79763c168)\" d=\"M 243.023182 224.64 \r\nL 246.066818 224.64 \r\nL 246.066818 224.64 \r\nL 243.023182 224.64 \r\nz\r\n\" style=\"fill:#1f77b4;\"/>\r\n   </g>\r\n   <g id=\"patch_70\">\r\n    <path clip-path=\"url(#pf79763c168)\" d=\"M 246.066818 224.64 \r\nL 249.110455 224.64 \r\nL 249.110455 224.64 \r\nL 246.066818 224.64 \r\nz\r\n\" style=\"fill:#1f77b4;\"/>\r\n   </g>\r\n   <g id=\"patch_71\">\r\n    <path clip-path=\"url(#pf79763c168)\" d=\"M 249.110455 224.64 \r\nL 252.154091 224.64 \r\nL 252.154091 224.64 \r\nL 249.110455 224.64 \r\nz\r\n\" style=\"fill:#1f77b4;\"/>\r\n   </g>\r\n   <g id=\"patch_72\">\r\n    <path clip-path=\"url(#pf79763c168)\" d=\"M 252.154091 224.64 \r\nL 255.197727 224.64 \r\nL 255.197727 224.64 \r\nL 252.154091 224.64 \r\nz\r\n\" style=\"fill:#1f77b4;\"/>\r\n   </g>\r\n   <g id=\"patch_73\">\r\n    <path clip-path=\"url(#pf79763c168)\" d=\"M 255.197727 224.64 \r\nL 258.241364 224.64 \r\nL 258.241364 224.64 \r\nL 255.197727 224.64 \r\nz\r\n\" style=\"fill:#1f77b4;\"/>\r\n   </g>\r\n   <g id=\"patch_74\">\r\n    <path clip-path=\"url(#pf79763c168)\" d=\"M 258.241364 224.64 \r\nL 261.285 224.64 \r\nL 261.285 224.64 \r\nL 258.241364 224.64 \r\nz\r\n\" style=\"fill:#1f77b4;\"/>\r\n   </g>\r\n   <g id=\"patch_75\">\r\n    <path clip-path=\"url(#pf79763c168)\" d=\"M 261.285 224.64 \r\nL 264.328636 224.64 \r\nL 264.328636 224.64 \r\nL 261.285 224.64 \r\nz\r\n\" style=\"fill:#1f77b4;\"/>\r\n   </g>\r\n   <g id=\"patch_76\">\r\n    <path clip-path=\"url(#pf79763c168)\" d=\"M 264.328636 224.64 \r\nL 267.372273 224.64 \r\nL 267.372273 224.64 \r\nL 264.328636 224.64 \r\nz\r\n\" style=\"fill:#1f77b4;\"/>\r\n   </g>\r\n   <g id=\"patch_77\">\r\n    <path clip-path=\"url(#pf79763c168)\" d=\"M 267.372273 224.64 \r\nL 270.415909 224.64 \r\nL 270.415909 224.64 \r\nL 267.372273 224.64 \r\nz\r\n\" style=\"fill:#1f77b4;\"/>\r\n   </g>\r\n   <g id=\"patch_78\">\r\n    <path clip-path=\"url(#pf79763c168)\" d=\"M 270.415909 224.64 \r\nL 273.459545 224.64 \r\nL 273.459545 224.64 \r\nL 270.415909 224.64 \r\nz\r\n\" style=\"fill:#1f77b4;\"/>\r\n   </g>\r\n   <g id=\"patch_79\">\r\n    <path clip-path=\"url(#pf79763c168)\" d=\"M 273.459545 224.64 \r\nL 276.503182 224.64 \r\nL 276.503182 224.64 \r\nL 273.459545 224.64 \r\nz\r\n\" style=\"fill:#1f77b4;\"/>\r\n   </g>\r\n   <g id=\"patch_80\">\r\n    <path clip-path=\"url(#pf79763c168)\" d=\"M 276.503182 224.64 \r\nL 279.546818 224.64 \r\nL 279.546818 224.64 \r\nL 276.503182 224.64 \r\nz\r\n\" style=\"fill:#1f77b4;\"/>\r\n   </g>\r\n   <g id=\"patch_81\">\r\n    <path clip-path=\"url(#pf79763c168)\" d=\"M 279.546818 224.64 \r\nL 282.590455 224.64 \r\nL 282.590455 224.64 \r\nL 279.546818 224.64 \r\nz\r\n\" style=\"fill:#1f77b4;\"/>\r\n   </g>\r\n   <g id=\"patch_82\">\r\n    <path clip-path=\"url(#pf79763c168)\" d=\"M 282.590455 224.64 \r\nL 285.634091 224.64 \r\nL 285.634091 224.64 \r\nL 282.590455 224.64 \r\nz\r\n\" style=\"fill:#1f77b4;\"/>\r\n   </g>\r\n   <g id=\"patch_83\">\r\n    <path clip-path=\"url(#pf79763c168)\" d=\"M 285.634091 224.64 \r\nL 288.677727 224.64 \r\nL 288.677727 224.64 \r\nL 285.634091 224.64 \r\nz\r\n\" style=\"fill:#1f77b4;\"/>\r\n   </g>\r\n   <g id=\"patch_84\">\r\n    <path clip-path=\"url(#pf79763c168)\" d=\"M 288.677727 224.64 \r\nL 291.721364 224.64 \r\nL 291.721364 224.64 \r\nL 288.677727 224.64 \r\nz\r\n\" style=\"fill:#1f77b4;\"/>\r\n   </g>\r\n   <g id=\"patch_85\">\r\n    <path clip-path=\"url(#pf79763c168)\" d=\"M 291.721364 224.64 \r\nL 294.765 224.64 \r\nL 294.765 224.64 \r\nL 291.721364 224.64 \r\nz\r\n\" style=\"fill:#1f77b4;\"/>\r\n   </g>\r\n   <g id=\"patch_86\">\r\n    <path clip-path=\"url(#pf79763c168)\" d=\"M 294.765 224.64 \r\nL 297.808636 224.64 \r\nL 297.808636 224.64 \r\nL 294.765 224.64 \r\nz\r\n\" style=\"fill:#1f77b4;\"/>\r\n   </g>\r\n   <g id=\"patch_87\">\r\n    <path clip-path=\"url(#pf79763c168)\" d=\"M 297.808636 224.64 \r\nL 300.852273 224.64 \r\nL 300.852273 224.64 \r\nL 297.808636 224.64 \r\nz\r\n\" style=\"fill:#1f77b4;\"/>\r\n   </g>\r\n   <g id=\"patch_88\">\r\n    <path clip-path=\"url(#pf79763c168)\" d=\"M 300.852273 224.64 \r\nL 303.895909 224.64 \r\nL 303.895909 224.64 \r\nL 300.852273 224.64 \r\nz\r\n\" style=\"fill:#1f77b4;\"/>\r\n   </g>\r\n   <g id=\"patch_89\">\r\n    <path clip-path=\"url(#pf79763c168)\" d=\"M 303.895909 224.64 \r\nL 306.939545 224.64 \r\nL 306.939545 224.64 \r\nL 303.895909 224.64 \r\nz\r\n\" style=\"fill:#1f77b4;\"/>\r\n   </g>\r\n   <g id=\"patch_90\">\r\n    <path clip-path=\"url(#pf79763c168)\" d=\"M 306.939545 224.64 \r\nL 309.983182 224.64 \r\nL 309.983182 224.64 \r\nL 306.939545 224.64 \r\nz\r\n\" style=\"fill:#1f77b4;\"/>\r\n   </g>\r\n   <g id=\"patch_91\">\r\n    <path clip-path=\"url(#pf79763c168)\" d=\"M 309.983182 224.64 \r\nL 313.026818 224.64 \r\nL 313.026818 224.64 \r\nL 309.983182 224.64 \r\nz\r\n\" style=\"fill:#1f77b4;\"/>\r\n   </g>\r\n   <g id=\"patch_92\">\r\n    <path clip-path=\"url(#pf79763c168)\" d=\"M 313.026818 224.64 \r\nL 316.070455 224.64 \r\nL 316.070455 224.64 \r\nL 313.026818 224.64 \r\nz\r\n\" style=\"fill:#1f77b4;\"/>\r\n   </g>\r\n   <g id=\"patch_93\">\r\n    <path clip-path=\"url(#pf79763c168)\" d=\"M 316.070455 224.64 \r\nL 319.114091 224.64 \r\nL 319.114091 224.64 \r\nL 316.070455 224.64 \r\nz\r\n\" style=\"fill:#1f77b4;\"/>\r\n   </g>\r\n   <g id=\"patch_94\">\r\n    <path clip-path=\"url(#pf79763c168)\" d=\"M 319.114091 224.64 \r\nL 322.157727 224.64 \r\nL 322.157727 224.64 \r\nL 319.114091 224.64 \r\nz\r\n\" style=\"fill:#1f77b4;\"/>\r\n   </g>\r\n   <g id=\"patch_95\">\r\n    <path clip-path=\"url(#pf79763c168)\" d=\"M 322.157727 224.64 \r\nL 325.201364 224.64 \r\nL 325.201364 224.64 \r\nL 322.157727 224.64 \r\nz\r\n\" style=\"fill:#1f77b4;\"/>\r\n   </g>\r\n   <g id=\"patch_96\">\r\n    <path clip-path=\"url(#pf79763c168)\" d=\"M 325.201364 224.64 \r\nL 328.245 224.64 \r\nL 328.245 224.64 \r\nL 325.201364 224.64 \r\nz\r\n\" style=\"fill:#1f77b4;\"/>\r\n   </g>\r\n   <g id=\"patch_97\">\r\n    <path clip-path=\"url(#pf79763c168)\" d=\"M 328.245 224.64 \r\nL 331.288636 224.64 \r\nL 331.288636 224.64 \r\nL 328.245 224.64 \r\nz\r\n\" style=\"fill:#1f77b4;\"/>\r\n   </g>\r\n   <g id=\"patch_98\">\r\n    <path clip-path=\"url(#pf79763c168)\" d=\"M 331.288636 224.64 \r\nL 334.332273 224.64 \r\nL 334.332273 224.64 \r\nL 331.288636 224.64 \r\nz\r\n\" style=\"fill:#1f77b4;\"/>\r\n   </g>\r\n   <g id=\"patch_99\">\r\n    <path clip-path=\"url(#pf79763c168)\" d=\"M 334.332273 224.64 \r\nL 337.375909 224.64 \r\nL 337.375909 224.64 \r\nL 334.332273 224.64 \r\nz\r\n\" style=\"fill:#1f77b4;\"/>\r\n   </g>\r\n   <g id=\"patch_100\">\r\n    <path clip-path=\"url(#pf79763c168)\" d=\"M 337.375909 224.64 \r\nL 340.419545 224.64 \r\nL 340.419545 224.64 \r\nL 337.375909 224.64 \r\nz\r\n\" style=\"fill:#1f77b4;\"/>\r\n   </g>\r\n   <g id=\"patch_101\">\r\n    <path clip-path=\"url(#pf79763c168)\" d=\"M 340.419545 224.64 \r\nL 343.463182 224.64 \r\nL 343.463182 224.64 \r\nL 340.419545 224.64 \r\nz\r\n\" style=\"fill:#1f77b4;\"/>\r\n   </g>\r\n   <g id=\"patch_102\">\r\n    <path clip-path=\"url(#pf79763c168)\" d=\"M 343.463182 224.64 \r\nL 346.506818 224.64 \r\nL 346.506818 221.502338 \r\nL 343.463182 221.502338 \r\nz\r\n\" style=\"fill:#1f77b4;\"/>\r\n   </g>\r\n   <g id=\"matplotlib.axis_1\">\r\n    <g id=\"xtick_1\">\r\n     <g id=\"line2d_1\">\r\n      <defs>\r\n       <path d=\"M 0 0 \r\nL 0 3.5 \r\n\" id=\"md35111455e\" style=\"stroke:#000000;stroke-width:0.8;\"/>\r\n      </defs>\r\n      <g>\r\n       <use style=\"stroke:#000000;stroke-width:0.8;\" x=\"37.79513\" xlink:href=\"#md35111455e\" y=\"224.64\"/>\r\n      </g>\r\n     </g>\r\n     <g id=\"text_1\">\r\n      <!-- 0 -->\r\n      <g transform=\"translate(34.61388 239.238437)scale(0.1 -0.1)\">\r\n       <defs>\r\n        <path d=\"M 31.78125 66.40625 \r\nQ 24.171875 66.40625 20.328125 58.90625 \r\nQ 16.5 51.421875 16.5 36.375 \r\nQ 16.5 21.390625 20.328125 13.890625 \r\nQ 24.171875 6.390625 31.78125 6.390625 \r\nQ 39.453125 6.390625 43.28125 13.890625 \r\nQ 47.125 21.390625 47.125 36.375 \r\nQ 47.125 51.421875 43.28125 58.90625 \r\nQ 39.453125 66.40625 31.78125 66.40625 \r\nz\r\nM 31.78125 74.21875 \r\nQ 44.046875 74.21875 50.515625 64.515625 \r\nQ 56.984375 54.828125 56.984375 36.375 \r\nQ 56.984375 17.96875 50.515625 8.265625 \r\nQ 44.046875 -1.421875 31.78125 -1.421875 \r\nQ 19.53125 -1.421875 13.0625 8.265625 \r\nQ 6.59375 17.96875 6.59375 36.375 \r\nQ 6.59375 54.828125 13.0625 64.515625 \r\nQ 19.53125 74.21875 31.78125 74.21875 \r\nz\r\n\" id=\"DejaVuSans-48\"/>\r\n       </defs>\r\n       <use xlink:href=\"#DejaVuSans-48\"/>\r\n      </g>\r\n     </g>\r\n    </g>\r\n    <g id=\"xtick_2\">\r\n     <g id=\"line2d_2\">\r\n      <g>\r\n       <use style=\"stroke:#000000;stroke-width:0.8;\" x=\"81.275649\" xlink:href=\"#md35111455e\" y=\"224.64\"/>\r\n      </g>\r\n     </g>\r\n     <g id=\"text_2\">\r\n      <!-- 10 -->\r\n      <g transform=\"translate(74.913149 239.238437)scale(0.1 -0.1)\">\r\n       <defs>\r\n        <path d=\"M 12.40625 8.296875 \r\nL 28.515625 8.296875 \r\nL 28.515625 63.921875 \r\nL 10.984375 60.40625 \r\nL 10.984375 69.390625 \r\nL 28.421875 72.90625 \r\nL 38.28125 72.90625 \r\nL 38.28125 8.296875 \r\nL 54.390625 8.296875 \r\nL 54.390625 0 \r\nL 12.40625 0 \r\nz\r\n\" id=\"DejaVuSans-49\"/>\r\n       </defs>\r\n       <use xlink:href=\"#DejaVuSans-49\"/>\r\n       <use x=\"63.623047\" xlink:href=\"#DejaVuSans-48\"/>\r\n      </g>\r\n     </g>\r\n    </g>\r\n    <g id=\"xtick_3\">\r\n     <g id=\"line2d_3\">\r\n      <g>\r\n       <use style=\"stroke:#000000;stroke-width:0.8;\" x=\"124.756169\" xlink:href=\"#md35111455e\" y=\"224.64\"/>\r\n      </g>\r\n     </g>\r\n     <g id=\"text_3\">\r\n      <!-- 20 -->\r\n      <g transform=\"translate(118.393669 239.238437)scale(0.1 -0.1)\">\r\n       <defs>\r\n        <path d=\"M 19.1875 8.296875 \r\nL 53.609375 8.296875 \r\nL 53.609375 0 \r\nL 7.328125 0 \r\nL 7.328125 8.296875 \r\nQ 12.9375 14.109375 22.625 23.890625 \r\nQ 32.328125 33.6875 34.8125 36.53125 \r\nQ 39.546875 41.84375 41.421875 45.53125 \r\nQ 43.3125 49.21875 43.3125 52.78125 \r\nQ 43.3125 58.59375 39.234375 62.25 \r\nQ 35.15625 65.921875 28.609375 65.921875 \r\nQ 23.96875 65.921875 18.8125 64.3125 \r\nQ 13.671875 62.703125 7.8125 59.421875 \r\nL 7.8125 69.390625 \r\nQ 13.765625 71.78125 18.9375 73 \r\nQ 24.125 74.21875 28.421875 74.21875 \r\nQ 39.75 74.21875 46.484375 68.546875 \r\nQ 53.21875 62.890625 53.21875 53.421875 \r\nQ 53.21875 48.921875 51.53125 44.890625 \r\nQ 49.859375 40.875 45.40625 35.40625 \r\nQ 44.1875 33.984375 37.640625 27.21875 \r\nQ 31.109375 20.453125 19.1875 8.296875 \r\nz\r\n\" id=\"DejaVuSans-50\"/>\r\n       </defs>\r\n       <use xlink:href=\"#DejaVuSans-50\"/>\r\n       <use x=\"63.623047\" xlink:href=\"#DejaVuSans-48\"/>\r\n      </g>\r\n     </g>\r\n    </g>\r\n    <g id=\"xtick_4\">\r\n     <g id=\"line2d_4\">\r\n      <g>\r\n       <use style=\"stroke:#000000;stroke-width:0.8;\" x=\"168.236688\" xlink:href=\"#md35111455e\" y=\"224.64\"/>\r\n      </g>\r\n     </g>\r\n     <g id=\"text_4\">\r\n      <!-- 30 -->\r\n      <g transform=\"translate(161.874188 239.238437)scale(0.1 -0.1)\">\r\n       <defs>\r\n        <path d=\"M 40.578125 39.3125 \r\nQ 47.65625 37.796875 51.625 33 \r\nQ 55.609375 28.21875 55.609375 21.1875 \r\nQ 55.609375 10.40625 48.1875 4.484375 \r\nQ 40.765625 -1.421875 27.09375 -1.421875 \r\nQ 22.515625 -1.421875 17.65625 -0.515625 \r\nQ 12.796875 0.390625 7.625 2.203125 \r\nL 7.625 11.71875 \r\nQ 11.71875 9.328125 16.59375 8.109375 \r\nQ 21.484375 6.890625 26.8125 6.890625 \r\nQ 36.078125 6.890625 40.9375 10.546875 \r\nQ 45.796875 14.203125 45.796875 21.1875 \r\nQ 45.796875 27.640625 41.28125 31.265625 \r\nQ 36.765625 34.90625 28.71875 34.90625 \r\nL 20.21875 34.90625 \r\nL 20.21875 43.015625 \r\nL 29.109375 43.015625 \r\nQ 36.375 43.015625 40.234375 45.921875 \r\nQ 44.09375 48.828125 44.09375 54.296875 \r\nQ 44.09375 59.90625 40.109375 62.90625 \r\nQ 36.140625 65.921875 28.71875 65.921875 \r\nQ 24.65625 65.921875 20.015625 65.03125 \r\nQ 15.375 64.15625 9.8125 62.3125 \r\nL 9.8125 71.09375 \r\nQ 15.4375 72.65625 20.34375 73.4375 \r\nQ 25.25 74.21875 29.59375 74.21875 \r\nQ 40.828125 74.21875 47.359375 69.109375 \r\nQ 53.90625 64.015625 53.90625 55.328125 \r\nQ 53.90625 49.265625 50.4375 45.09375 \r\nQ 46.96875 40.921875 40.578125 39.3125 \r\nz\r\n\" id=\"DejaVuSans-51\"/>\r\n       </defs>\r\n       <use xlink:href=\"#DejaVuSans-51\"/>\r\n       <use x=\"63.623047\" xlink:href=\"#DejaVuSans-48\"/>\r\n      </g>\r\n     </g>\r\n    </g>\r\n    <g id=\"xtick_5\">\r\n     <g id=\"line2d_5\">\r\n      <g>\r\n       <use style=\"stroke:#000000;stroke-width:0.8;\" x=\"211.717208\" xlink:href=\"#md35111455e\" y=\"224.64\"/>\r\n      </g>\r\n     </g>\r\n     <g id=\"text_5\">\r\n      <!-- 40 -->\r\n      <g transform=\"translate(205.354708 239.238437)scale(0.1 -0.1)\">\r\n       <defs>\r\n        <path d=\"M 37.796875 64.3125 \r\nL 12.890625 25.390625 \r\nL 37.796875 25.390625 \r\nz\r\nM 35.203125 72.90625 \r\nL 47.609375 72.90625 \r\nL 47.609375 25.390625 \r\nL 58.015625 25.390625 \r\nL 58.015625 17.1875 \r\nL 47.609375 17.1875 \r\nL 47.609375 0 \r\nL 37.796875 0 \r\nL 37.796875 17.1875 \r\nL 4.890625 17.1875 \r\nL 4.890625 26.703125 \r\nz\r\n\" id=\"DejaVuSans-52\"/>\r\n       </defs>\r\n       <use xlink:href=\"#DejaVuSans-52\"/>\r\n       <use x=\"63.623047\" xlink:href=\"#DejaVuSans-48\"/>\r\n      </g>\r\n     </g>\r\n    </g>\r\n    <g id=\"xtick_6\">\r\n     <g id=\"line2d_6\">\r\n      <g>\r\n       <use style=\"stroke:#000000;stroke-width:0.8;\" x=\"255.197727\" xlink:href=\"#md35111455e\" y=\"224.64\"/>\r\n      </g>\r\n     </g>\r\n     <g id=\"text_6\">\r\n      <!-- 50 -->\r\n      <g transform=\"translate(248.835227 239.238437)scale(0.1 -0.1)\">\r\n       <defs>\r\n        <path d=\"M 10.796875 72.90625 \r\nL 49.515625 72.90625 \r\nL 49.515625 64.59375 \r\nL 19.828125 64.59375 \r\nL 19.828125 46.734375 \r\nQ 21.96875 47.46875 24.109375 47.828125 \r\nQ 26.265625 48.1875 28.421875 48.1875 \r\nQ 40.625 48.1875 47.75 41.5 \r\nQ 54.890625 34.8125 54.890625 23.390625 \r\nQ 54.890625 11.625 47.5625 5.09375 \r\nQ 40.234375 -1.421875 26.90625 -1.421875 \r\nQ 22.3125 -1.421875 17.546875 -0.640625 \r\nQ 12.796875 0.140625 7.71875 1.703125 \r\nL 7.71875 11.625 \r\nQ 12.109375 9.234375 16.796875 8.0625 \r\nQ 21.484375 6.890625 26.703125 6.890625 \r\nQ 35.15625 6.890625 40.078125 11.328125 \r\nQ 45.015625 15.765625 45.015625 23.390625 \r\nQ 45.015625 31 40.078125 35.4375 \r\nQ 35.15625 39.890625 26.703125 39.890625 \r\nQ 22.75 39.890625 18.8125 39.015625 \r\nQ 14.890625 38.140625 10.796875 36.28125 \r\nz\r\n\" id=\"DejaVuSans-53\"/>\r\n       </defs>\r\n       <use xlink:href=\"#DejaVuSans-53\"/>\r\n       <use x=\"63.623047\" xlink:href=\"#DejaVuSans-48\"/>\r\n      </g>\r\n     </g>\r\n    </g>\r\n    <g id=\"xtick_7\">\r\n     <g id=\"line2d_7\">\r\n      <g>\r\n       <use style=\"stroke:#000000;stroke-width:0.8;\" x=\"298.678247\" xlink:href=\"#md35111455e\" y=\"224.64\"/>\r\n      </g>\r\n     </g>\r\n     <g id=\"text_7\">\r\n      <!-- 60 -->\r\n      <g transform=\"translate(292.315747 239.238437)scale(0.1 -0.1)\">\r\n       <defs>\r\n        <path d=\"M 33.015625 40.375 \r\nQ 26.375 40.375 22.484375 35.828125 \r\nQ 18.609375 31.296875 18.609375 23.390625 \r\nQ 18.609375 15.53125 22.484375 10.953125 \r\nQ 26.375 6.390625 33.015625 6.390625 \r\nQ 39.65625 6.390625 43.53125 10.953125 \r\nQ 47.40625 15.53125 47.40625 23.390625 \r\nQ 47.40625 31.296875 43.53125 35.828125 \r\nQ 39.65625 40.375 33.015625 40.375 \r\nz\r\nM 52.59375 71.296875 \r\nL 52.59375 62.3125 \r\nQ 48.875 64.0625 45.09375 64.984375 \r\nQ 41.3125 65.921875 37.59375 65.921875 \r\nQ 27.828125 65.921875 22.671875 59.328125 \r\nQ 17.53125 52.734375 16.796875 39.40625 \r\nQ 19.671875 43.65625 24.015625 45.921875 \r\nQ 28.375 48.1875 33.59375 48.1875 \r\nQ 44.578125 48.1875 50.953125 41.515625 \r\nQ 57.328125 34.859375 57.328125 23.390625 \r\nQ 57.328125 12.15625 50.6875 5.359375 \r\nQ 44.046875 -1.421875 33.015625 -1.421875 \r\nQ 20.359375 -1.421875 13.671875 8.265625 \r\nQ 6.984375 17.96875 6.984375 36.375 \r\nQ 6.984375 53.65625 15.1875 63.9375 \r\nQ 23.390625 74.21875 37.203125 74.21875 \r\nQ 40.921875 74.21875 44.703125 73.484375 \r\nQ 48.484375 72.75 52.59375 71.296875 \r\nz\r\n\" id=\"DejaVuSans-54\"/>\r\n       </defs>\r\n       <use xlink:href=\"#DejaVuSans-54\"/>\r\n       <use x=\"63.623047\" xlink:href=\"#DejaVuSans-48\"/>\r\n      </g>\r\n     </g>\r\n    </g>\r\n    <g id=\"xtick_8\">\r\n     <g id=\"line2d_8\">\r\n      <g>\r\n       <use style=\"stroke:#000000;stroke-width:0.8;\" x=\"342.158766\" xlink:href=\"#md35111455e\" y=\"224.64\"/>\r\n      </g>\r\n     </g>\r\n     <g id=\"text_8\">\r\n      <!-- 70 -->\r\n      <g transform=\"translate(335.796266 239.238437)scale(0.1 -0.1)\">\r\n       <defs>\r\n        <path d=\"M 8.203125 72.90625 \r\nL 55.078125 72.90625 \r\nL 55.078125 68.703125 \r\nL 28.609375 0 \r\nL 18.3125 0 \r\nL 43.21875 64.59375 \r\nL 8.203125 64.59375 \r\nz\r\n\" id=\"DejaVuSans-55\"/>\r\n       </defs>\r\n       <use xlink:href=\"#DejaVuSans-55\"/>\r\n       <use x=\"63.623047\" xlink:href=\"#DejaVuSans-48\"/>\r\n      </g>\r\n     </g>\r\n    </g>\r\n   </g>\r\n   <g id=\"matplotlib.axis_2\">\r\n    <g id=\"ytick_1\">\r\n     <g id=\"line2d_9\">\r\n      <defs>\r\n       <path d=\"M 0 0 \r\nL -3.5 0 \r\n\" id=\"m8ac463259e\" style=\"stroke:#000000;stroke-width:0.8;\"/>\r\n      </defs>\r\n      <g>\r\n       <use style=\"stroke:#000000;stroke-width:0.8;\" x=\"26.925\" xlink:href=\"#m8ac463259e\" y=\"224.64\"/>\r\n      </g>\r\n     </g>\r\n     <g id=\"text_9\">\r\n      <!-- 0 -->\r\n      <g transform=\"translate(13.5625 228.439219)scale(0.1 -0.1)\">\r\n       <use xlink:href=\"#DejaVuSans-48\"/>\r\n      </g>\r\n     </g>\r\n    </g>\r\n    <g id=\"ytick_2\">\r\n     <g id=\"line2d_10\">\r\n      <g>\r\n       <use style=\"stroke:#000000;stroke-width:0.8;\" x=\"26.925\" xlink:href=\"#m8ac463259e\" y=\"193.263377\"/>\r\n      </g>\r\n     </g>\r\n     <g id=\"text_10\">\r\n      <!-- 10 -->\r\n      <g transform=\"translate(7.2 197.062595)scale(0.1 -0.1)\">\r\n       <use xlink:href=\"#DejaVuSans-49\"/>\r\n       <use x=\"63.623047\" xlink:href=\"#DejaVuSans-48\"/>\r\n      </g>\r\n     </g>\r\n    </g>\r\n    <g id=\"ytick_3\">\r\n     <g id=\"line2d_11\">\r\n      <g>\r\n       <use style=\"stroke:#000000;stroke-width:0.8;\" x=\"26.925\" xlink:href=\"#m8ac463259e\" y=\"161.886753\"/>\r\n      </g>\r\n     </g>\r\n     <g id=\"text_11\">\r\n      <!-- 20 -->\r\n      <g transform=\"translate(7.2 165.685972)scale(0.1 -0.1)\">\r\n       <use xlink:href=\"#DejaVuSans-50\"/>\r\n       <use x=\"63.623047\" xlink:href=\"#DejaVuSans-48\"/>\r\n      </g>\r\n     </g>\r\n    </g>\r\n    <g id=\"ytick_4\">\r\n     <g id=\"line2d_12\">\r\n      <g>\r\n       <use style=\"stroke:#000000;stroke-width:0.8;\" x=\"26.925\" xlink:href=\"#m8ac463259e\" y=\"130.51013\"/>\r\n      </g>\r\n     </g>\r\n     <g id=\"text_12\">\r\n      <!-- 30 -->\r\n      <g transform=\"translate(7.2 134.309349)scale(0.1 -0.1)\">\r\n       <use xlink:href=\"#DejaVuSans-51\"/>\r\n       <use x=\"63.623047\" xlink:href=\"#DejaVuSans-48\"/>\r\n      </g>\r\n     </g>\r\n    </g>\r\n    <g id=\"ytick_5\">\r\n     <g id=\"line2d_13\">\r\n      <g>\r\n       <use style=\"stroke:#000000;stroke-width:0.8;\" x=\"26.925\" xlink:href=\"#m8ac463259e\" y=\"99.133506\"/>\r\n      </g>\r\n     </g>\r\n     <g id=\"text_13\">\r\n      <!-- 40 -->\r\n      <g transform=\"translate(7.2 102.932725)scale(0.1 -0.1)\">\r\n       <use xlink:href=\"#DejaVuSans-52\"/>\r\n       <use x=\"63.623047\" xlink:href=\"#DejaVuSans-48\"/>\r\n      </g>\r\n     </g>\r\n    </g>\r\n    <g id=\"ytick_6\">\r\n     <g id=\"line2d_14\">\r\n      <g>\r\n       <use style=\"stroke:#000000;stroke-width:0.8;\" x=\"26.925\" xlink:href=\"#m8ac463259e\" y=\"67.756883\"/>\r\n      </g>\r\n     </g>\r\n     <g id=\"text_14\">\r\n      <!-- 50 -->\r\n      <g transform=\"translate(7.2 71.556102)scale(0.1 -0.1)\">\r\n       <use xlink:href=\"#DejaVuSans-53\"/>\r\n       <use x=\"63.623047\" xlink:href=\"#DejaVuSans-48\"/>\r\n      </g>\r\n     </g>\r\n    </g>\r\n    <g id=\"ytick_7\">\r\n     <g id=\"line2d_15\">\r\n      <g>\r\n       <use style=\"stroke:#000000;stroke-width:0.8;\" x=\"26.925\" xlink:href=\"#m8ac463259e\" y=\"36.38026\"/>\r\n      </g>\r\n     </g>\r\n     <g id=\"text_15\">\r\n      <!-- 60 -->\r\n      <g transform=\"translate(7.2 40.179478)scale(0.1 -0.1)\">\r\n       <use xlink:href=\"#DejaVuSans-54\"/>\r\n       <use x=\"63.623047\" xlink:href=\"#DejaVuSans-48\"/>\r\n      </g>\r\n     </g>\r\n    </g>\r\n   </g>\r\n   <g id=\"patch_103\">\r\n    <path d=\"M 26.925 224.64 \r\nL 26.925 7.2 \r\n\" style=\"fill:none;stroke:#000000;stroke-linecap:square;stroke-linejoin:miter;stroke-width:0.8;\"/>\r\n   </g>\r\n   <g id=\"patch_104\">\r\n    <path d=\"M 361.725 224.64 \r\nL 361.725 7.2 \r\n\" style=\"fill:none;stroke:#000000;stroke-linecap:square;stroke-linejoin:miter;stroke-width:0.8;\"/>\r\n   </g>\r\n   <g id=\"patch_105\">\r\n    <path d=\"M 26.925 224.64 \r\nL 361.725 224.64 \r\n\" style=\"fill:none;stroke:#000000;stroke-linecap:square;stroke-linejoin:miter;stroke-width:0.8;\"/>\r\n   </g>\r\n   <g id=\"patch_106\">\r\n    <path d=\"M 26.925 7.2 \r\nL 361.725 7.2 \r\n\" style=\"fill:none;stroke:#000000;stroke-linecap:square;stroke-linejoin:miter;stroke-width:0.8;\"/>\r\n   </g>\r\n  </g>\r\n </g>\r\n <defs>\r\n  <clipPath id=\"pf79763c168\">\r\n   <rect height=\"217.44\" width=\"334.8\" x=\"26.925\" y=\"7.2\"/>\r\n  </clipPath>\r\n </defs>\r\n</svg>\r\n",
            "image/png": "[encoded data removed]"
          },
          "metadata": {
            "needs_background": "light"
          }
        },
        {
          "output_type": "execute_result",
          "data": {
            "text/plain": [
              "         user_id  place_id\n",
              "0              0     22847\n",
              "1              0    420315\n",
              "2              0    316637\n",
              "3              0     16516\n",
              "4              0   5535878\n",
              "...          ...       ...\n",
              "6442887   196578    906885\n",
              "6442888   196578    965121\n",
              "6442889   196578   1174322\n",
              "6442890   196585    471724\n",
              "6442891   196585   4555073\n",
              "\n",
              "[6442892 rows x 2 columns]"
            ],
            "text/html": "<div>\n<style scoped>\n    .dataframe tbody tr th:only-of-type {\n        vertical-align: middle;\n    }\n\n    .dataframe tbody tr th {\n        vertical-align: top;\n    }\n\n    .dataframe thead th {\n        text-align: right;\n    }\n</style>\n<table border=\"1\" class=\"dataframe\">\n  <thead>\n    <tr style=\"text-align: right;\">\n      <th></th>\n      <th>user_id</th>\n      <th>place_id</th>\n    </tr>\n  </thead>\n  <tbody>\n    <tr>\n      <th>0</th>\n      <td>0</td>\n      <td>22847</td>\n    </tr>\n    <tr>\n      <th>1</th>\n      <td>0</td>\n      <td>420315</td>\n    </tr>\n    <tr>\n      <th>2</th>\n      <td>0</td>\n      <td>316637</td>\n    </tr>\n    <tr>\n      <th>3</th>\n      <td>0</td>\n      <td>16516</td>\n    </tr>\n    <tr>\n      <th>4</th>\n      <td>0</td>\n      <td>5535878</td>\n    </tr>\n    <tr>\n      <th>...</th>\n      <td>...</td>\n      <td>...</td>\n    </tr>\n    <tr>\n      <th>6442887</th>\n      <td>196578</td>\n      <td>906885</td>\n    </tr>\n    <tr>\n      <th>6442888</th>\n      <td>196578</td>\n      <td>965121</td>\n    </tr>\n    <tr>\n      <th>6442889</th>\n      <td>196578</td>\n      <td>1174322</td>\n    </tr>\n    <tr>\n      <th>6442890</th>\n      <td>196585</td>\n      <td>471724</td>\n    </tr>\n    <tr>\n      <th>6442891</th>\n      <td>196585</td>\n      <td>4555073</td>\n    </tr>\n  </tbody>\n</table>\n<p>6442892 rows × 2 columns</p>\n</div>"
          },
          "metadata": {},
          "execution_count": 8
        }
      ]
    },
    {
      "cell_type": "code",
      "metadata": {
        "pycharm": {
          "name": "#%%\n"
        },
        "colab": {
          "base_uri": "https://localhost:8080/"
        },
        "id": "DVpjSY5LvIC4",
        "outputId": "e1c8f1b1-5fd4-46e5-b174-f6255aed694a"
      },
      "source": [
        "%%time\n",
        "'''                      ##           Estimates accuracy over the checkins data frame            ##                      '''\n",
        "\n",
        "def estimate_accuracy(clusters: Dict[int, List[int]],\n",
        "                      suggestion_size: int,\n",
        "                      df: pd.DataFrame,\n",
        "                      df_elem_col: str,\n",
        "                      df_wish_col: str,\n",
        "                      iters_count: int = 10) -> float:\n",
        "\n",
        "    result = 0\n",
        "    for i in range(iters_count):\n",
        "        iter_results: List[float] = []\n",
        "\n",
        "        for exemplar, cluster in clusters.items():\n",
        "            if len(cluster) < 2:\n",
        "                iter_results.append(0)\n",
        "                continue\n",
        "            cluster: List[int]\n",
        "            places: Dict[int, int] = {}\n",
        "            cluster = cluster.copy()\n",
        "            secret_user: int = cluster.pop(randint(0, len(cluster) - 1))\n",
        "\n",
        "            for user_id in cluster:\n",
        "                for place_id in df[df[df_elem_col] == user_id][df_wish_col]:\n",
        "                    places[place_id] = places.get(place_id, 0) + 1\n",
        "\n",
        "            top = sorted(places)[:suggestion_size]\n",
        "            secret_places = df[df[df_elem_col] == secret_user][df_wish_col]\n",
        "            hits_count = sum(int(p in secret_places) for p in top)\n",
        "            iter_results.append(hits_count / suggestion_size)\n",
        "        result += sum(iter_results) / len(iter_results)\n",
        "    return result / iters_count\n",
        "\n",
        "accuracy = estimate_accuracy(\n",
        "    clusters,\n",
        "    suggestion_size=10,\n",
        "    df = df,\n",
        "    df_elem_col='user_id',\n",
        "    df_wish_col='place_id',\n",
        "    iters_count=20)\n",
        "\n",
        "print(f\"Prediction accuracy is: {accuracy * 100}%\"+'\\n\\n')"
      ],
      "execution_count": 9,
      "outputs": [
        {
          "output_type": "stream",
          "name": "stdout",
          "text": [
            "Prediction accuracy is: 0.23655913978494628%\n\n\nWall time: 33.1 s\n"
          ]
        }
      ]
    },
    {
      "cell_type": "code",
      "metadata": {
        "pycharm": {
          "name": "#%%\n"
        },
        "id": "7oWWrQcFvIC4"
      },
      "source": [],
      "execution_count": null,
      "outputs": []
    }
  ]
}